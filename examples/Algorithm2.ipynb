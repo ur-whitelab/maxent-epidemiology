{
 "cells": [
  {
   "cell_type": "code",
   "execution_count": 1,
   "metadata": {},
   "outputs": [],
   "source": [
    "import tensorflow_probability as tfp\n",
    "tfd = tfp.distributions\n",
    "import matplotlib.pyplot as plt\n",
    "import tensorflow as tf\n",
    "import pandas as pd\n",
    "import seaborn as sns\n",
    "import numpy as np\n",
    "import tqdm\n",
    "import maxentep\n",
    "# disabling gpu for now\n",
    "import os, sys\n",
    "os.environ[\"CUDA_VISIBLE_DEVICES\"] = \"-1\"\n",
    "EPS = np.finfo(np.float32).tiny\n",
    "param_batch_size = 1024\n",
    "maxent_batch_size = 32\n",
    "sns.set_context('notebook')"
   ]
  },
  {
   "cell_type": "markdown",
   "metadata": {},
   "source": [
    "## Toy Model Example"
   ]
  },
  {
   "cell_type": "markdown",
   "metadata": {},
   "source": [
    "### Make Joint"
   ]
  },
  {
   "cell_type": "code",
   "execution_count": 56,
   "metadata": {},
   "outputs": [],
   "source": [
    "x = np.array([1., 1.])\n",
    "i = tf.keras.Input((1,))\n",
    "l = maxentep.TrainableInputLayer(x)(i)\n",
    "d = tfp.layers.DistributionLambda(lambda x: tfd.Normal(loc=x[...,0], scale=tf.math.exp(x[...,1])))(l)"
   ]
  },
  {
   "cell_type": "code",
   "execution_count": 57,
   "metadata": {},
   "outputs": [
    {
     "name": "stdout",
     "output_type": "stream",
     "text": [
      "Model: \"parameter_joint_2\"\n",
      "_________________________________________________________________\n",
      "Layer (type)                 Output Shape              Param #   \n",
      "=================================================================\n",
      "input_3 (InputLayer)         [(None, 1)]               0         \n",
      "_________________________________________________________________\n",
      "trainable_input_layer_2 (Tra (None, 2)                 2         \n",
      "_________________________________________________________________\n",
      "distribution_lambda_2 (Distr ((None,), (None,))        0         \n",
      "=================================================================\n",
      "Total params: 2\n",
      "Trainable params: 2\n",
      "Non-trainable params: 0\n",
      "_________________________________________________________________\n"
     ]
    }
   ],
   "source": [
    "model = maxentep.ParameterJoint([lambda x: x], inputs=i, outputs=[d])\n",
    "model.compile(tf.keras.optimizers.Adam(0.1))\n",
    "model.summary()"
   ]
  },
  {
   "cell_type": "code",
   "execution_count": 58,
   "metadata": {},
   "outputs": [
    {
     "data": {
      "text/plain": [
       "<tfp.distributions.Normal 'parameter_joint_2_distribution_lambda_2_Normal' batch_shape=[1] event_shape=[] dtype=float32>"
      ]
     },
     "execution_count": 58,
     "metadata": {},
     "output_type": "execute_result"
    }
   ],
   "source": [
    "model(tf.constant([1.]))"
   ]
  },
  {
   "cell_type": "code",
   "execution_count": 59,
   "metadata": {},
   "outputs": [],
   "source": [
    "def simulate(x):\n",
    "    y = np.random.normal(loc=x, scale=0.1)\n",
    "    return y"
   ]
  },
  {
   "cell_type": "code",
   "execution_count": 60,
   "metadata": {},
   "outputs": [
    {
     "data": {
      "text/plain": [
       "<matplotlib.lines.Line2D at 0x1a9ff3bfe08>"
      ]
     },
     "execution_count": 60,
     "metadata": {},
     "output_type": "execute_result"
    },
    {
     "data": {
      "image/png": "[encoded data removed]",
      "text/plain": [
       "<Figure size 432x288 with 1 Axes>"
      ]
     },
     "metadata": {
      "needs_background": "light"
     },
     "output_type": "display_data"
    }
   ],
   "source": [
    "unbiased_params = model.sample(10000)\n",
    "y = simulate(*unbiased_params)\n",
    "grid,bins = np.histogram(y, bins=100)\n",
    "plt.plot((bins[1:] + bins[:-1]) / 2, grid)\n",
    "plt.axvline(np.mean(np.squeeze(y)))"
   ]
  },
  {
   "cell_type": "markdown",
   "metadata": {},
   "source": [
    "## Make Constraints"
   ]
  },
  {
   "cell_type": "code",
   "execution_count": 66,
   "metadata": {},
   "outputs": [],
   "source": [
    "r = maxentep.Restraint(lambda x: x, -5, maxentep.EmptyPrior())"
   ]
  },
  {
   "cell_type": "markdown",
   "metadata": {},
   "source": [
    "## Maxent without biasing"
   ]
  },
  {
   "cell_type": "code",
   "execution_count": 67,
   "metadata": {},
   "outputs": [
    {
     "name": "stdout",
     "output_type": "stream",
     "text": [
      "Epoch 1/4\n",
      "313/313 [==============================] - 0s 629us/step - loss: 7.6702\n",
      "Epoch 2/4\n",
      "313/313 [==============================] - 0s 588us/step - loss: 3.4158\n",
      "Epoch 3/4\n",
      "313/313 [==============================] - 0s 602us/step - loss: 2.9423\n",
      "Epoch 4/4\n",
      "313/313 [==============================] - 0s 671us/step - loss: 2.7056\n"
     ]
    },
    {
     "data": {
      "text/plain": [
       "<tensorflow.python.keras.callbacks.History at 0x1a9fced7208>"
      ]
     },
     "execution_count": 67,
     "metadata": {},
     "output_type": "execute_result"
    }
   ],
   "source": [
    "me_model = maxentep.MaxentModel([r])\n",
    "me_model.compile(tf.keras.optimizers.Adam(0.01), 'mean_squared_error')\n",
    "me_model.fit(y, epochs=4)"
   ]
  },
  {
   "cell_type": "code",
   "execution_count": 68,
   "metadata": {},
   "outputs": [
    {
     "data": {
      "text/plain": [
       "-9.30418"
      ]
     },
     "execution_count": 68,
     "metadata": {},
     "output_type": "execute_result"
    }
   ],
   "source": [
    "np.sum(np.squeeze(y) * me_model.traj_weights)"
   ]
  },
  {
   "cell_type": "code",
   "execution_count": 69,
   "metadata": {},
   "outputs": [
    {
     "data": {
      "text/plain": [
       "<matplotlib.lines.Line2D at 0x1a9fe2795c8>"
      ]
     },
     "execution_count": 69,
     "metadata": {},
     "output_type": "execute_result"
    },
    {
     "data": {
      "image/png": "[encoded data removed]",
      "text/plain": [
       "<Figure size 432x288 with 1 Axes>"
      ]
     },
     "metadata": {
      "needs_background": "light"
     },
     "output_type": "display_data"
    }
   ],
   "source": [
    "grid,bins = np.histogram(np.squeeze(y), bins=100, weights=me_model.traj_weights, density=True)\n",
    "plt.plot((bins[1:] + bins[:-1]) / 2, grid)\n",
    "plt.axvline(np.sum(np.squeeze(y) * me_model.traj_weights))\n",
    "\n",
    "grid,bins = np.histogram(np.squeeze(y), bins=100, density=True)\n",
    "plt.plot((bins[1:] + bins[:-1]) / 2, grid, color='C1')\n",
    "plt.axvline(np.mean(np.squeeze(y)), color='C1')"
   ]
  },
  {
   "cell_type": "code",
   "execution_count": 70,
   "metadata": {},
   "outputs": [
    {
     "name": "stdout",
     "output_type": "stream",
     "text": [
      "Epoch 1/4\n",
      "WARNING:tensorflow:Gradients do not exist for variables ['value:0'] when minimizing the loss.\n",
      "WARNING:tensorflow:Gradients do not exist for variables ['value:0'] when minimizing the loss.\n",
      "WARNING:tensorflow:Gradients do not exist for variables ['value:0'] when minimizing the loss.\n",
      "WARNING:tensorflow:Gradients do not exist for variables ['value:0'] when minimizing the loss.\n",
      "8/8 [==============================] - 0s 748us/step - loss: 32.9247\n",
      "Epoch 2/4\n",
      "8/8 [==============================] - 0s 750us/step - loss: 27.3594\n",
      "Epoch 3/4\n",
      "8/8 [==============================] - 0s 875us/step - loss: 22.9656\n",
      "Epoch 4/4\n",
      "8/8 [==============================] - 0s 750us/step - loss: 17.2681\n",
      "Epoch 1/4\n",
      "8/8 [==============================] - 0s 749us/step - loss: 0.3356\n",
      "Epoch 2/4\n",
      "8/8 [==============================] - 0s 625us/step - loss: 0.3197\n",
      "Epoch 3/4\n",
      "8/8 [==============================] - 0s 625us/step - loss: 0.3115\n",
      "Epoch 4/4\n",
      "8/8 [==============================] - 0s 625us/step - loss: 0.3064\n",
      "Epoch 1/4\n",
      "8/8 [==============================] - 0s 625us/step - loss: 14.9252\n",
      "Epoch 2/4\n",
      "8/8 [==============================] - 0s 625us/step - loss: 11.5181\n",
      "Epoch 3/4\n",
      "8/8 [==============================] - 0s 750us/step - loss: 9.0429\n",
      "Epoch 4/4\n",
      "8/8 [==============================] - 0s 625us/step - loss: 6.7568\n",
      "Epoch 1/4\n",
      "8/8 [==============================] - 0s 718us/step - loss: 0.3140\n",
      "Epoch 2/4\n",
      "8/8 [==============================] - 0s 625us/step - loss: 0.3042\n",
      "Epoch 3/4\n",
      "8/8 [==============================] - 0s 625us/step - loss: 0.2995\n",
      "Epoch 4/4\n",
      "8/8 [==============================] - 0s 500us/step - loss: 0.2988\n",
      "Epoch 1/4\n",
      "8/8 [==============================] - 0s 625us/step - loss: 3.7424\n",
      "Epoch 2/4\n",
      "8/8 [==============================] - 0s 625us/step - loss: 3.0167\n",
      "Epoch 3/4\n",
      "8/8 [==============================] - 0s 625us/step - loss: 2.8519\n",
      "Epoch 4/4\n",
      "8/8 [==============================] - 0s 750us/step - loss: 1.9275\n",
      "Epoch 1/4\n",
      "8/8 [==============================] - 0s 750us/step - loss: 0.3010\n",
      "Epoch 2/4\n",
      "8/8 [==============================] - 0s 751us/step - loss: 0.2953\n",
      "Epoch 3/4\n",
      "8/8 [==============================] - 0s 625us/step - loss: 0.2936\n",
      "Epoch 4/4\n",
      "8/8 [==============================] - 0s 625us/step - loss: 0.2940\n",
      "Epoch 1/4\n",
      "8/8 [==============================] - 0s 750us/step - loss: 1.3778\n",
      "Epoch 2/4\n",
      "8/8 [==============================] - 0s 750us/step - loss: 0.9336\n",
      "Epoch 3/4\n",
      "8/8 [==============================] - 0s 750us/step - loss: 0.6591\n",
      "Epoch 4/4\n",
      "8/8 [==============================] - 0s 625us/step - loss: 0.4768\n",
      "Epoch 1/4\n",
      "1/8 [==>...........................] - ETA: 0s - loss: 0.3108WARNING:tensorflow:Callbacks method `on_train_batch_begin` is slow compared to the batch time (batch time: 0.0000s vs `on_train_batch_begin` time: 0.0010s). Check your callbacks.\n",
      "8/8 [==============================] - 0s 875us/step - loss: 0.2958\n",
      "Epoch 2/4\n",
      "8/8 [==============================] - 0s 750us/step - loss: 0.2951\n",
      "Epoch 3/4\n",
      "8/8 [==============================] - 0s 750us/step - loss: 0.2945\n",
      "Epoch 4/4\n",
      "8/8 [==============================] - 0s 500us/step - loss: 0.2946\n",
      "Epoch 1/4\n",
      "8/8 [==============================] - 0s 625us/step - loss: 0.2541\n",
      "Epoch 2/4\n",
      "8/8 [==============================] - 0s 625us/step - loss: 0.1682\n",
      "Epoch 3/4\n",
      "8/8 [==============================] - 0s 625us/step - loss: 0.2232\n",
      "Epoch 4/4\n",
      "8/8 [==============================] - 0s 750us/step - loss: 0.2057\n",
      "Epoch 1/4\n",
      "8/8 [==============================] - 0s 625us/step - loss: 0.2891\n",
      "Epoch 2/4\n",
      "8/8 [==============================] - 0s 751us/step - loss: 0.2885\n",
      "Epoch 3/4\n",
      "8/8 [==============================] - 0s 625us/step - loss: 0.2883\n",
      "Epoch 4/4\n",
      "8/8 [==============================] - 0s 625us/step - loss: 0.2884\n",
      "Epoch 1/4\n",
      "8/8 [==============================] - 0s 625us/step - loss: 0.2194\n",
      "Epoch 2/4\n",
      "8/8 [==============================] - 0s 750us/step - loss: 0.2441\n",
      "Epoch 3/4\n",
      "8/8 [==============================] - 0s 625us/step - loss: 0.2443\n",
      "Epoch 4/4\n",
      "8/8 [==============================] - 0s 625us/step - loss: 0.4361\n",
      "Epoch 1/4\n",
      "8/8 [==============================] - 0s 750us/step - loss: 0.2998\n",
      "Epoch 2/4\n",
      "8/8 [==============================] - 0s 750us/step - loss: 0.3001\n",
      "Epoch 3/4\n",
      "8/8 [==============================] - 0s 625us/step - loss: 0.3001\n",
      "Epoch 4/4\n",
      "8/8 [==============================] - 0s 749us/step - loss: 0.2991\n",
      "Epoch 1/4\n",
      "8/8 [==============================] - 0s 578us/step - loss: 0.6674\n",
      "Epoch 2/4\n",
      "8/8 [==============================] - 0s 625us/step - loss: 0.3094\n",
      "Epoch 3/4\n",
      "8/8 [==============================] - 0s 750us/step - loss: 0.6704\n",
      "Epoch 4/4\n",
      "8/8 [==============================] - 0s 750us/step - loss: 0.3061\n",
      "Epoch 1/4\n",
      "8/8 [==============================] - 0s 625us/step - loss: 0.2916\n",
      "Epoch 2/4\n",
      "8/8 [==============================] - 0s 625us/step - loss: 0.2909\n",
      "Epoch 3/4\n",
      "8/8 [==============================] - 0s 625us/step - loss: 0.2909\n",
      "Epoch 4/4\n",
      "8/8 [==============================] - 0s 500us/step - loss: 0.2908\n",
      "Epoch 1/4\n",
      "8/8 [==============================] - 0s 625us/step - loss: 0.4060\n",
      "Epoch 2/4\n",
      "8/8 [==============================] - 0s 625us/step - loss: 0.2120\n",
      "Epoch 3/4\n",
      "8/8 [==============================] - 0s 750us/step - loss: 0.1999\n",
      "Epoch 4/4\n",
      "8/8 [==============================] - 0s 625us/step - loss: 0.1339\n",
      "Epoch 1/4\n",
      "8/8 [==============================] - 0s 750us/step - loss: 0.2922\n",
      "Epoch 2/4\n",
      "8/8 [==============================] - 0s 750us/step - loss: 0.2920\n",
      "Epoch 3/4\n",
      "8/8 [==============================] - 0s 750us/step - loss: 0.2921\n",
      "Epoch 4/4\n",
      "8/8 [==============================] - 0s 751us/step - loss: 0.2922\n",
      "Epoch 1/4\n",
      "8/8 [==============================] - 0s 750us/step - loss: 0.1836\n",
      "Epoch 2/4\n",
      "8/8 [==============================] - 0s 625us/step - loss: 0.2951\n",
      "Epoch 3/4\n",
      "8/8 [==============================] - 0s 750us/step - loss: 0.4752\n",
      "Epoch 4/4\n",
      "8/8 [==============================] - 0s 750us/step - loss: 0.2247\n",
      "Epoch 1/4\n",
      "8/8 [==============================] - 0s 625us/step - loss: 0.3088\n",
      "Epoch 2/4\n",
      "8/8 [==============================] - 0s 750us/step - loss: 0.3109\n",
      "Epoch 3/4\n",
      "8/8 [==============================] - 0s 750us/step - loss: 0.3090\n",
      "Epoch 4/4\n",
      "8/8 [==============================] - 0s 750us/step - loss: 0.3085\n",
      "Epoch 1/4\n",
      "32/32 [==============================] - 0s 688us/step - loss: 0.2243\n",
      "Epoch 2/4\n",
      "32/32 [==============================] - 0s 594us/step - loss: 0.2205\n",
      "Epoch 3/4\n",
      "32/32 [==============================] - 0s 594us/step - loss: 0.2517\n",
      "Epoch 4/4\n",
      "32/32 [==============================] - 0s 562us/step - loss: 0.2292\n"
     ]
    },
    {
     "data": {
      "text/plain": [
       "<tensorflow.python.keras.callbacks.History at 0x1a98521da48>"
      ]
     },
     "execution_count": 70,
     "metadata": {},
     "output_type": "execute_result"
    }
   ],
   "source": [
    "hme_model = maxentep.HyperMaxentModel([r], model, simulate)\n",
    "hme_model.compile(tf.keras.optimizers.Adam(0.01), 'mean_squared_error')\n",
    "hme_model.fit(epochs=4)"
   ]
  },
  {
   "cell_type": "code",
   "execution_count": 74,
   "metadata": {},
   "outputs": [
    {
     "data": {
      "text/plain": [
       "<matplotlib.legend.Legend at 0x1a98531ddc8>"
      ]
     },
     "execution_count": 74,
     "metadata": {},
     "output_type": "execute_result"
    },
    {
     "data": {
      "image/png": "[encoded data removed]",
      "text/plain": [
       "<Figure size 576x432 with 1 Axes>"
      ]
     },
     "metadata": {
      "needs_background": "light"
     },
     "output_type": "display_data"
    }
   ],
   "source": [
    "plt.figure(figsize=(8,6))\n",
    "grid,bins = np.histogram(np.squeeze(y), bins=100, weights=me_model.traj_weights, density=True)\n",
    "plt.plot((bins[1:] + bins[:-1]) / 2, grid, label='Biased')\n",
    "plt.axvline(np.sum(np.squeeze(y) * me_model.traj_weights))\n",
    "\n",
    "grid,bins = np.histogram(np.squeeze(y), bins=100, density=True)\n",
    "plt.plot((bins[1:] + bins[:-1]) / 2, grid, color='C1', label='Unbiased')\n",
    "plt.axvline(np.mean(np.squeeze(y)), color='C1')\n",
    "\n",
    "yp = np.squeeze(hme_model.trajs)\n",
    "grid,bins = np.histogram(yp, bins=100, density=True, weights=hme_model.traj_weights)\n",
    "plt.plot((bins[1:] + bins[:-1]) / 2, grid, color='C2', label='Biased + Hyper')\n",
    "plt.axvline(np.sum(np.squeeze(yp) * hme_model.traj_weights), color='C2')\n",
    "\n",
    "plt.axvline(x=r.target, color='Gray', linestyle=':', label='Target')\n",
    "plt.ylim(0,0.5)\n",
    "plt.legend()"
   ]
  },
  {
   "cell_type": "markdown",
   "metadata": {},
   "source": [
    "## Set-up Starting Dist"
   ]
  },
  {
   "cell_type": "code",
   "execution_count": 12,
   "metadata": {},
   "outputs": [
    {
     "data": {
      "text/plain": [
       "(array([[0.37084645, 0.19984886, 0.4293047 ],\n",
       "        [0.11244334, 0.65349346, 0.2340632 ],\n",
       "        [0.4432499 , 0.53463291, 0.02211719]]),\n",
       " array([1., 1., 1.]))"
      ]
     },
     "execution_count": 12,
     "metadata": {},
     "output_type": "execute_result"
    }
   ],
   "source": [
    "M = 3\n",
    "R = np.abs(np.random.normal(size=(M,M), loc=1.25))\n",
    "R = R / np.sum(R, axis=1).reshape(M,1)\n",
    "R, np.sum(R, axis=1)"
   ]
  },
  {
   "cell_type": "code",
   "execution_count": 13,
   "metadata": {},
   "outputs": [],
   "source": [
    "# compartment parameters\n",
    "compartments = ['E', 'A', 'I', 'R']\n",
    "C = len(compartments)\n",
    "tmat = maxentep.TransitionMatrix(compartments, [1,2])\n",
    "tmat.add_transition('E', 'A', 5, 3)\n",
    "tmat.add_transition('A', 'I', 3, 2)\n",
    "tmat.add_transition('I', 'R', 14, 5)"
   ]
  },
  {
   "cell_type": "code",
   "execution_count": 14,
   "metadata": {},
   "outputs": [],
   "source": [
    "start_logits = np.ones((M,))"
   ]
  },
  {
   "cell_type": "markdown",
   "metadata": {},
   "source": [
    "## Set-up unbiased Joint"
   ]
  },
  {
   "cell_type": "code",
   "execution_count": 15,
   "metadata": {},
   "outputs": [
    {
     "ename": "TypeError",
     "evalue": "__init__() takes 2 positional arguments but 4 were given",
     "output_type": "error",
     "traceback": [
      "\u001b[1;31m---------------------------------------------------------------------------\u001b[0m",
      "\u001b[1;31mTypeError\u001b[0m                                 Traceback (most recent call last)",
      "\u001b[1;32m<ipython-input-15-064994d697b6>\u001b[0m in \u001b[0;36m<module>\u001b[1;34m\u001b[0m\n\u001b[1;32m----> 1\u001b[1;33m \u001b[0munbiased_model\u001b[0m \u001b[1;33m=\u001b[0m \u001b[0mmaxentep\u001b[0m\u001b[1;33m.\u001b[0m\u001b[0mParameterJoint\u001b[0m\u001b[1;33m(\u001b[0m\u001b[0mstart_logits\u001b[0m\u001b[1;33m,\u001b[0m \u001b[0mR\u001b[0m\u001b[1;33m,\u001b[0m \u001b[0mtmat\u001b[0m\u001b[1;33m,\u001b[0m \u001b[0mname\u001b[0m\u001b[1;33m=\u001b[0m\u001b[1;34m'unbiased'\u001b[0m\u001b[1;33m)\u001b[0m\u001b[1;33m\u001b[0m\u001b[1;33m\u001b[0m\u001b[0m\n\u001b[0m\u001b[0;32m      2\u001b[0m \u001b[0munbiased_model\u001b[0m\u001b[1;33m(\u001b[0m\u001b[0mtf\u001b[0m\u001b[1;33m.\u001b[0m\u001b[0mconstant\u001b[0m\u001b[1;33m(\u001b[0m\u001b[1;33m[\u001b[0m\u001b[1;36m1.\u001b[0m\u001b[1;33m]\u001b[0m\u001b[1;33m)\u001b[0m\u001b[1;33m)\u001b[0m\u001b[1;33m\u001b[0m\u001b[1;33m\u001b[0m\u001b[0m\n",
      "\u001b[1;31mTypeError\u001b[0m: __init__() takes 2 positional arguments but 4 were given"
     ]
    }
   ],
   "source": [
    "unbiased_model = maxentep.ParameterJoint(start_logits, R, tmat, name='unbiased')\n",
    "unbiased_model(tf.constant([1.]))"
   ]
  },
  {
   "cell_type": "markdown",
   "metadata": {},
   "source": [
    "## Create Trainable Joint"
   ]
  },
  {
   "cell_type": "code",
   "execution_count": null,
   "metadata": {},
   "outputs": [],
   "source": [
    "model = maxentep.ParameterJoint(start_logits, R, tmat, name='param-model')"
   ]
  },
  {
   "cell_type": "markdown",
   "metadata": {},
   "source": [
    "## Set-up loglikelihood"
   ]
  },
  {
   "cell_type": "code",
   "execution_count": null,
   "metadata": {},
   "outputs": [],
   "source": [
    "model.compile(tf.optimizers.Adam(1e-1))\n",
    "model.summary()"
   ]
  },
  {
   "cell_type": "markdown",
   "metadata": {},
   "source": [
    "## Test out the prior distributions"
   ]
  },
  {
   "cell_type": "code",
   "execution_count": null,
   "metadata": {},
   "outputs": [],
   "source": [
    "p = model(tf.constant([1.]))\n",
    "p"
   ]
  },
  {
   "cell_type": "code",
   "execution_count": null,
   "metadata": {},
   "outputs": [],
   "source": [
    "p[1]"
   ]
  },
  {
   "cell_type": "code",
   "execution_count": null,
   "metadata": {},
   "outputs": [],
   "source": [
    "p[1].sample(2)\n",
    "p[1].log_prob(p[1].sample(2))"
   ]
  },
  {
   "cell_type": "code",
   "execution_count": null,
   "metadata": {},
   "outputs": [],
   "source": [
    "s = [x.sample(2) for x in p]\n",
    "print(s)"
   ]
  },
  {
   "cell_type": "code",
   "execution_count": null,
   "metadata": {},
   "outputs": [],
   "source": [
    "p[1].log_prob(s[1])"
   ]
  },
  {
   "cell_type": "code",
   "execution_count": null,
   "metadata": {},
   "outputs": [],
   "source": [
    "p[1]"
   ]
  },
  {
   "cell_type": "code",
   "execution_count": null,
   "metadata": {},
   "outputs": [],
   "source": [
    "[pi.log_prob(si) for pi, si in zip(p, s)]"
   ]
  },
  {
   "cell_type": "code",
   "execution_count": null,
   "metadata": {},
   "outputs": [],
   "source": [
    "model.evaluate(tf.constant([1., 1.]), s)"
   ]
  },
  {
   "cell_type": "markdown",
   "metadata": {},
   "source": [
    "## Sampling Functions"
   ]
  },
  {
   "cell_type": "code",
   "execution_count": null,
   "metadata": {},
   "outputs": [],
   "source": [
    "v = model.sample(2)\n",
    "v"
   ]
  },
  {
   "cell_type": "code",
   "execution_count": null,
   "metadata": {},
   "outputs": [],
   "source": [
    "# sample start\n",
    "s = model.sample(1000)[2].numpy().flatten()\n",
    "sns.distplot(s[s > 0])"
   ]
  },
  {
   "cell_type": "markdown",
   "metadata": {},
   "source": [
    "## Make some restraints"
   ]
  },
  {
   "cell_type": "code",
   "execution_count": null,
   "metadata": {},
   "outputs": [],
   "source": [
    "r1 = maxentep.Restraint(lambda x: x[...,25,0,2], 0.4, maxentep.EmptyPrior())\n",
    "r2 = maxentep.Restraint(lambda x: x[...,50,0,2], 0.2, maxentep.EmptyPrior())"
   ]
  },
  {
   "cell_type": "markdown",
   "metadata": {},
   "source": [
    "## Make Metapopulation Model"
   ]
  },
  {
   "cell_type": "code",
   "execution_count": null,
   "metadata": {},
   "outputs": [],
   "source": [
    "meta_model = maxentep.MetaModel(maxentep.contact_infection_func([1,2]), 150)"
   ]
  },
  {
   "cell_type": "markdown",
   "metadata": {},
   "source": [
    "## Maxent Model"
   ]
  },
  {
   "cell_type": "code",
   "execution_count": null,
   "metadata": {},
   "outputs": [],
   "source": [
    "maxent_model = maxentep.MaxentModel([r1, r2])\n",
    "maxent_model.compile(tf.keras.optimizers.Adam(learning_rate=1e-2), 'mean_squared_error')"
   ]
  },
  {
   "cell_type": "markdown",
   "metadata": {},
   "source": [
    "## Visualize Unbiased"
   ]
  },
  {
   "cell_type": "code",
   "execution_count": null,
   "metadata": {},
   "outputs": [],
   "source": [
    "psample = unbiased_model.sample(param_batch_size)\n",
    "trajs = meta_model(*psample)\n",
    "maxentep.traj_quantile(trajs[:,:,0,:])\n",
    "plt.plot(25, r1.target, 'o', color='C2')\n",
    "plt.plot(50, r2.target, 'o', color='C2')\n",
    "plt.title('Unbiased Result')"
   ]
  },
  {
   "cell_type": "markdown",
   "metadata": {},
   "source": [
    "## Try to reweight without hyper-parameter tuning"
   ]
  },
  {
   "cell_type": "code",
   "execution_count": null,
   "metadata": {},
   "outputs": [],
   "source": [
    "me_loss = []\n",
    "# sample and get batch\n",
    "psample = unbiased_model.sample(param_batch_size)\n",
    "trajs = meta_model(*psample)\n",
    "# get weights of trajectories\n",
    "h = maxent_model.fit(trajs, batch_size=maxent_batch_size, epochs=128, verbose=False)\n",
    "me_loss.extend(h.history['loss'])\n",
    "w = maxent_model.traj_weights"
   ]
  },
  {
   "cell_type": "code",
   "execution_count": null,
   "metadata": {},
   "outputs": [],
   "source": [
    "plt.plot(me_loss)\n",
    "plt.show()"
   ]
  },
  {
   "cell_type": "code",
   "execution_count": null,
   "metadata": {},
   "outputs": [],
   "source": [
    "maxentep.traj_quantile(trajs[:,:,0,:], weights=w)\n",
    "plt.plot(25, r1.target, 'o', color='C2')\n",
    "plt.plot(50, r2.target, 'o', color='C2')\n",
    "plt.title('Maxent Result')"
   ]
  },
  {
   "cell_type": "markdown",
   "metadata": {},
   "source": [
    "## Now tune hyperparameters at the same time"
   ]
  },
  {
   "cell_type": "code",
   "execution_count": null,
   "metadata": {
    "scrolled": true
   },
   "outputs": [],
   "source": [
    "maxent_hyper_model = maxentep.HyperMaxentModel([r1, r2], model, meta_model)\n",
    "maxent_hyper_model.compile(tf.keras.optimizers.Adam(learning_rate=1e-2), 'mean_squared_error')\n",
    "maxent_hyper_model.fit(param_batch_size, 16, batch_size=32, epochs=8)"
   ]
  },
  {
   "cell_type": "markdown",
   "metadata": {},
   "source": [
    "## Compare Weights"
   ]
  },
  {
   "cell_type": "code",
   "execution_count": null,
   "metadata": {},
   "outputs": [],
   "source": [
    "plt.hist(x=maxent_hyper_model.traj_weights, bins=np.linspace(0,0.1,50), density=True)\n",
    "plt.xlim(0,0.1)\n",
    "plt.show()\n",
    "plt.hist(x=maxent_model.traj_weights, bins=np.linspace(0,0.1,50), density=True)\n",
    "plt.xlim(0,0.1)\n",
    "plt.show()"
   ]
  },
  {
   "cell_type": "code",
   "execution_count": null,
   "metadata": {},
   "outputs": [],
   "source": [
    "w = maxent_hyper_model.traj_weights\n",
    "trajs = maxent_hyper_model.trajs\n",
    "maxentep.traj_quantile(trajs[:,:,0,:], weights=w)\n",
    "plt.plot(25, r1.target, 'o', color='C2')\n",
    "plt.plot(50, r2.target, 'o', color='C2')\n",
    "plt.title('Maxent Result with Hyperparameter Tuning')\n",
    "plt.show()\n",
    "\n",
    "maxentep.traj_quantile(trajs[:,:,2,:], weights=w)\n",
    "plt.title('Maxent Result with Hyperparameter Tuning - Patch 2')"
   ]
  },
  {
   "cell_type": "markdown",
   "metadata": {},
   "source": [
    "## Compare Hyper-parameter values"
   ]
  },
  {
   "cell_type": "code",
   "execution_count": null,
   "metadata": {},
   "outputs": [],
   "source": [
    "ub = unbiased_model.get_layer('T-dist-hypers').w.numpy().flatten()\n",
    "b = model.get_layer('T-dist-hypers').w.numpy().flatten()\n",
    "plt.bar(np.arange(len(ub)) * 2 - 0.5, ub)\n",
    "plt.bar(np.arange(len(ub)) * 2 + 0.5, b)"
   ]
  },
  {
   "cell_type": "code",
   "execution_count": null,
   "metadata": {},
   "outputs": [],
   "source": [
    "ub = unbiased_model.get_layer('rho-dist-start-logit-hypers').w.numpy().flatten()\n",
    "b = model.get_layer('rho-dist-start-logit-hypers').w.numpy().flatten()\n",
    "plt.bar(np.arange(len(ub)) * 2 - 0.5, ub)\n",
    "plt.bar(np.arange(len(ub)) * 2 + 0.5, b)"
   ]
  },
  {
   "cell_type": "code",
   "execution_count": null,
   "metadata": {},
   "outputs": [],
   "source": [
    "ub = unbiased_model.get_layer('rho-dist-norm-hypers').trainable_variables[0].numpy().flatten()\n",
    "b = model.get_layer('rho-dist-norm-hypers').trainable_variables[0].numpy().flatten()\n",
    "plt.bar(np.arange(len(ub)) * 2 - 0.5, ub)\n",
    "plt.bar(np.arange(len(ub)) * 2 + 0.5, b)"
   ]
  },
  {
   "cell_type": "markdown",
   "metadata": {},
   "source": [
    "## Now compare with Directed regression"
   ]
  },
  {
   "cell_type": "code",
   "execution_count": null,
   "metadata": {},
   "outputs": [],
   "source": [
    "infect = maxentep.ContactInfectionLayer(0.1, tmat.infectious_compartments)\n",
    "start = np.zeros((M, C))\n",
    "start[0,0] = 0.2\n",
    "reg_model = maxentep.TrainableMetaModel(start, R, tmat.value, infect, 100, lambda traj: (r1(traj)**2 + r2(traj)**2))"
   ]
  },
  {
   "cell_type": "code",
   "execution_count": null,
   "metadata": {},
   "outputs": [],
   "source": [
    "reg_model.compile(optimizer=tf.keras.optimizers.Adam(1e-2))\n",
    "reg_model.fit(epochs=1, verbose=True)"
   ]
  },
  {
   "cell_type": "code",
   "execution_count": null,
   "metadata": {},
   "outputs": [],
   "source": [
    "traj = reg_model.get_traj()\n",
    "plt.plot(traj[0,:,0,:])\n",
    "plt.plot(25, r1.target, 'o', color='C2')\n",
    "plt.plot(50, r2.target, 'o', color='C2')\n",
    "plt.title('Direct Regression - Patch 1')\n",
    "plt.show()\n",
    "traj = reg_model.get_traj()\n",
    "plt.plot(traj[0,:,1,:])\n",
    "plt.title('Direct Regression - Patch 2')\n",
    "plt.show()"
   ]
  },
  {
   "cell_type": "code",
   "execution_count": null,
   "metadata": {},
   "outputs": [],
   "source": [
    "reg_model.summary()"
   ]
  },
  {
   "cell_type": "code",
   "execution_count": null,
   "metadata": {},
   "outputs": [],
   "source": [
    "reg_model.layers[0].trainable_weights"
   ]
  },
  {
   "cell_type": "code",
   "execution_count": null,
   "metadata": {},
   "outputs": [],
   "source": [
    "reg_model.layers[1].trainable_weights"
   ]
  },
  {
   "cell_type": "code",
   "execution_count": null,
   "metadata": {},
   "outputs": [],
   "source": [
    "reg_model.layers[2].trainable_weights"
   ]
  },
  {
   "cell_type": "code",
   "execution_count": null,
   "metadata": {},
   "outputs": [],
   "source": [
    "reg_model.layers[2].w.constraint(reg_model.layers[2].w)"
   ]
  },
  {
   "cell_type": "code",
   "execution_count": null,
   "metadata": {},
   "outputs": [],
   "source": []
  },
  {
   "cell_type": "code",
   "execution_count": null,
   "metadata": {},
   "outputs": [],
   "source": []
  }
 ],
 "metadata": {
  "kernelspec": {
   "display_name": "Python 3",
   "language": "python",
   "name": "python3"
  },
  "language_info": {
   "codemirror_mode": {
    "name": "ipython",
    "version": 3
   },
   "file_extension": ".py",
   "mimetype": "text/x-python",
   "name": "python",
   "nbconvert_exporter": "python",
   "pygments_lexer": "ipython3",
   "version": "3.7.8"
  }
 },
 "nbformat": 4,
 "nbformat_minor": 4
}
