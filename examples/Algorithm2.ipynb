{
 "cells": [
  {
   "cell_type": "code",
   "execution_count": 1,
   "metadata": {},
   "outputs": [],
   "source": [
    "import tensorflow_probability as tfp\n",
    "tfd = tfp.distributions\n",
    "import matplotlib.pyplot as plt\n",
    "import tensorflow as tf\n",
    "import pandas as pd\n",
    "import seaborn as sns\n",
    "import numpy as np\n",
    "import tqdm\n",
    "import maxentep\n",
    "# disabling gpu for now\n",
    "import os, sys\n",
    "os.environ[\"CUDA_VISIBLE_DEVICES\"] = \"-1\"\n",
    "EPS = np.finfo(np.float32).tiny\n",
    "param_batch_size = 1024\n",
    "maxent_batch_size = 32\n",
    "sns.set_context('notebook')"
   ]
  },
  {
   "cell_type": "markdown",
   "metadata": {},
   "source": [
    "## Toy Model Example"
   ]
  },
  {
   "cell_type": "markdown",
   "metadata": {},
   "source": [
    "### Make Joint"
   ]
  },
  {
   "cell_type": "code",
   "execution_count": 2,
   "metadata": {},
   "outputs": [],
   "source": [
    "x = np.array([1., 1.])\n",
    "i = tf.keras.Input((1,))\n",
    "l = maxentep.TrainableInputLayer(x)(i)\n",
    "d = tfp.layers.DistributionLambda(lambda x: tfd.Normal(loc=x[...,0], scale=tf.math.exp(x[...,1])))(l)"
   ]
  },
  {
   "cell_type": "code",
   "execution_count": 3,
   "metadata": {},
   "outputs": [
    {
     "name": "stdout",
     "output_type": "stream",
     "text": [
      "Model: \"parameter_joint\"\n",
      "_________________________________________________________________\n",
      "Layer (type)                 Output Shape              Param #   \n",
      "=================================================================\n",
      "input_1 (InputLayer)         [(None, 1)]               0         \n",
      "_________________________________________________________________\n",
      "trainable_input_layer (Train (None, 2)                 2         \n",
      "_________________________________________________________________\n",
      "distribution_lambda (Distrib ((None,), (None,))        0         \n",
      "=================================================================\n",
      "Total params: 2\n",
      "Trainable params: 2\n",
      "Non-trainable params: 0\n",
      "_________________________________________________________________\n"
     ]
    }
   ],
   "source": [
    "model = maxentep.ParameterJoint([lambda x: x], inputs=i, outputs=[d])\n",
    "model.compile(tf.keras.optimizers.Adam(0.1))\n",
    "model.summary()"
   ]
  },
  {
   "cell_type": "code",
   "execution_count": 4,
   "metadata": {},
   "outputs": [
    {
     "data": {
      "text/plain": [
       "<tfp.distributions.Normal 'parameter_joint_distribution_lambda_Normal' batch_shape=[1] event_shape=[] dtype=float32>"
      ]
     },
     "execution_count": 4,
     "metadata": {},
     "output_type": "execute_result"
    }
   ],
   "source": [
    "model(tf.constant([1.]))"
   ]
  },
  {
   "cell_type": "code",
   "execution_count": 5,
   "metadata": {},
   "outputs": [],
   "source": [
    "def simulate(x):\n",
    "    y = np.random.normal(loc=x, scale=0.1)\n",
    "    return y"
   ]
  },
  {
   "cell_type": "code",
   "execution_count": 6,
   "metadata": {},
   "outputs": [
    {
     "data": {
      "text/plain": [
       "<matplotlib.lines.Line2D at 0x1877e1dbe08>"
      ]
     },
     "execution_count": 6,
     "metadata": {},
     "output_type": "execute_result"
    },
    {
     "data": {
      "image/png": "[encoded data removed]",
      "text/plain": [
       "<Figure size 432x288 with 1 Axes>"
      ]
     },
     "metadata": {
      "needs_background": "light"
     },
     "output_type": "display_data"
    }
   ],
   "source": [
    "unbiased_params = model.sample(10000)\n",
    "y = simulate(*unbiased_params)\n",
    "grid,bins = np.histogram(y, bins=100)\n",
    "plt.plot((bins[1:] + bins[:-1]) / 2, grid)\n",
    "plt.axvline(np.mean(np.squeeze(y)))"
   ]
  },
  {
   "cell_type": "markdown",
   "metadata": {},
   "source": [
    "## Make Constraints"
   ]
  },
  {
   "cell_type": "code",
   "execution_count": 7,
   "metadata": {},
   "outputs": [],
   "source": [
    "r = maxentep.Restraint(lambda x: x, -5, maxentep.EmptyPrior())"
   ]
  },
  {
   "cell_type": "markdown",
   "metadata": {},
   "source": [
    "## Maxent without hyper training"
   ]
  },
  {
   "cell_type": "code",
   "execution_count": 8,
   "metadata": {},
   "outputs": [
    {
     "name": "stdout",
     "output_type": "stream",
     "text": [
      "Epoch 1/4\n",
      "313/313 [==============================] - 0s 603us/step - loss: 7.5384 - weight-entropy: 2.1844\n",
      "Epoch 2/4\n",
      "313/313 [==============================] - 0s 587us/step - loss: 3.0362 - weight-entropy: 1.2921\n",
      "Epoch 3/4\n",
      "313/313 [==============================] - 0s 639us/step - loss: 2.5891 - weight-entropy: 1.0099\n",
      "Epoch 4/4\n",
      "313/313 [==============================] - 0s 581us/step - loss: 2.6713 - weight-entropy: 0.9229\n"
     ]
    }
   ],
   "source": [
    "me_model = maxentep.MaxentModel([r])\n",
    "me_model.compile(tf.keras.optimizers.Adam(0.01), 'mean_squared_error')\n",
    "result = me_model.fit(y, epochs=4)"
   ]
  },
  {
   "cell_type": "code",
   "execution_count": 9,
   "metadata": {},
   "outputs": [
    {
     "data": {
      "text/plain": [
       "<matplotlib.lines.Line2D at 0x1877f731048>"
      ]
     },
     "execution_count": 9,
     "metadata": {},
     "output_type": "execute_result"
    },
    {
     "data": {
      "image/png": "[encoded data removed]",
      "text/plain": [
       "<Figure size 432x288 with 1 Axes>"
      ]
     },
     "metadata": {
      "needs_background": "light"
     },
     "output_type": "display_data"
    }
   ],
   "source": [
    "grid,bins = np.histogram(np.squeeze(y), bins=100, weights=me_model.traj_weights, density=True)\n",
    "plt.plot((bins[1:] + bins[:-1]) / 2, grid)\n",
    "plt.axvline(np.sum(np.squeeze(y) * me_model.traj_weights))\n",
    "\n",
    "grid,bins = np.histogram(np.squeeze(y), bins=100, density=True)\n",
    "plt.plot((bins[1:] + bins[:-1]) / 2, grid, color='C1')\n",
    "plt.axvline(np.mean(np.squeeze(y)), color='C1')"
   ]
  },
  {
   "cell_type": "code",
   "execution_count": 10,
   "metadata": {},
   "outputs": [
    {
     "name": "stdout",
     "output_type": "stream",
     "text": [
      "Epoch 1/4\n",
      "WARNING:tensorflow:Gradients do not exist for variables ['value:0'] when minimizing the loss.\n",
      "WARNING:tensorflow:Gradients do not exist for variables ['value:0'] when minimizing the loss.\n",
      "WARNING:tensorflow:Gradients do not exist for variables ['value:0'] when minimizing the loss.\n",
      "WARNING:tensorflow:Gradients do not exist for variables ['value:0'] when minimizing the loss.\n",
      "8/8 [==============================] - 0s 750us/step - loss: 34.2540 - weight-entropy: 3.4602\n",
      "Epoch 2/4\n",
      "8/8 [==============================] - 0s 875us/step - loss: 28.2207 - weight-entropy: 3.4195\n",
      "Epoch 3/4\n",
      "8/8 [==============================] - 0s 626us/step - loss: 23.0939 - weight-entropy: 3.3426\n",
      "Epoch 4/4\n",
      "8/8 [==============================] - 0s 625us/step - loss: 18.3034 - weight-entropy: 3.2226\n",
      "Epoch 1/4\n",
      "8/8 [==============================] - 0s 625us/step - loss: 0.3305\n",
      "Epoch 2/4\n",
      "8/8 [==============================] - 0s 625us/step - loss: 0.3148\n",
      "Epoch 3/4\n",
      "8/8 [==============================] - 0s 625us/step - loss: 0.3078\n",
      "Epoch 4/4\n",
      "8/8 [==============================] - 0s 625us/step - loss: 0.3020\n",
      "Epoch 1/4\n",
      "8/8 [==============================] - 0s 750us/step - loss: 13.6754 - weight-entropy: 3.4426\n",
      "Epoch 2/4\n",
      "8/8 [==============================] - 0s 750us/step - loss: 10.7442 - weight-entropy: 3.3889\n",
      "Epoch 3/4\n",
      "8/8 [==============================] - 0s 750us/step - loss: 8.1224 - weight-entropy: 3.3086\n",
      "Epoch 4/4\n",
      "8/8 [==============================] - 0s 625us/step - loss: 5.7550 - weight-entropy: 3.2006\n",
      "Epoch 1/4\n",
      "8/8 [==============================] - 0s 625us/step - loss: 0.3339\n",
      "Epoch 2/4\n",
      "8/8 [==============================] - 0s 625us/step - loss: 0.3171\n",
      "Epoch 3/4\n",
      "8/8 [==============================] - 0s 500us/step - loss: 0.3124\n",
      "Epoch 4/4\n",
      "8/8 [==============================] - 0s 750us/step - loss: 0.3064\n",
      "Epoch 1/4\n",
      "8/8 [==============================] - 0s 750us/step - loss: 3.5655 - weight-entropy: 3.4474\n",
      "Epoch 2/4\n",
      "8/8 [==============================] - ETA: 0s - loss: 0.4787 - weight-entropy: 3.41 - 0s 750us/step - loss: 2.5483 - weight-entropy: 3.4224\n",
      "Epoch 3/4\n",
      "8/8 [==============================] - 0s 750us/step - loss: 1.8039 - weight-entropy: 3.3914\n",
      "Epoch 4/4\n",
      "8/8 [==============================] - 0s 625us/step - loss: 1.0380 - weight-entropy: 3.3479\n",
      "Epoch 1/4\n",
      "8/8 [==============================] - 0s 875us/step - loss: 0.3191\n",
      "Epoch 2/4\n",
      "8/8 [==============================] - 0s 750us/step - loss: 0.3100\n",
      "Epoch 3/4\n",
      "8/8 [==============================] - 0s 750us/step - loss: 0.3086\n",
      "Epoch 4/4\n",
      "8/8 [==============================] - 0s 625us/step - loss: 0.3054\n",
      "Epoch 1/4\n",
      "8/8 [==============================] - 0s 750us/step - loss: 0.8508 - weight-entropy: 3.4625\n",
      "Epoch 2/4\n",
      "8/8 [==============================] - 0s 750us/step - loss: 0.4536 - weight-entropy: 3.4623\n",
      "Epoch 3/4\n",
      "8/8 [==============================] - 0s 750us/step - loss: 0.2349 - weight-entropy: 3.4599\n",
      "Epoch 4/4\n",
      "8/8 [==============================] - 0s 875us/step - loss: 0.2492 - weight-entropy: 3.4558\n",
      "Epoch 1/4\n",
      "8/8 [==============================] - 0s 625us/step - loss: 0.3064\n",
      "Epoch 2/4\n",
      "8/8 [==============================] - 0s 750us/step - loss: 0.3053\n",
      "Epoch 3/4\n",
      "8/8 [==============================] - 0s 625us/step - loss: 0.3048\n",
      "Epoch 4/4\n",
      "8/8 [==============================] - 0s 625us/step - loss: 0.3046\n",
      "Epoch 1/4\n",
      "1/8 [==>...........................] - ETA: 0s - loss: 0.5906 - weight-entropy: 3.4629WARNING:tensorflow:Callbacks method `on_train_batch_end` is slow compared to the batch time (batch time: 0.0000s vs `on_train_batch_end` time: 0.0010s). Check your callbacks.\n",
      "8/8 [==============================] - 0s 750us/step - loss: 0.3145 - weight-entropy: 3.4597\n",
      "Epoch 2/4\n",
      "8/8 [==============================] - 0s 625us/step - loss: 0.1744 - weight-entropy: 3.4608\n",
      "Epoch 3/4\n",
      "8/8 [==============================] - 0s 750us/step - loss: 0.3392 - weight-entropy: 3.4614\n",
      "Epoch 4/4\n",
      "8/8 [==============================] - 0s 625us/step - loss: 0.1324 - weight-entropy: 3.4619\n",
      "Epoch 1/4\n",
      "1/8 [==>...........................] - ETA: 0s - loss: 0.2887WARNING:tensorflow:Callbacks method `on_train_batch_end` is slow compared to the batch time (batch time: 0.0000s vs `on_train_batch_end` time: 0.0010s). Check your callbacks.\n",
      "8/8 [==============================] - 0s 748us/step - loss: 0.3023\n",
      "Epoch 2/4\n",
      "8/8 [==============================] - 0s 625us/step - loss: 0.3022\n",
      "Epoch 3/4\n",
      "8/8 [==============================] - 0s 500us/step - loss: 0.3023\n",
      "Epoch 4/4\n",
      "8/8 [==============================] - 0s 625us/step - loss: 0.3029\n",
      "Epoch 1/4\n",
      "8/8 [==============================] - 0s 749us/step - loss: 0.3659 - weight-entropy: 3.4574\n",
      "Epoch 2/4\n",
      "8/8 [==============================] - 0s 750us/step - loss: 0.1514 - weight-entropy: 3.4576\n",
      "Epoch 3/4\n",
      "8/8 [==============================] - 0s 625us/step - loss: 0.4037 - weight-entropy: 3.4579\n",
      "Epoch 4/4\n",
      "8/8 [==============================] - 0s 625us/step - loss: 0.1417 - weight-entropy: 3.4581\n",
      "Epoch 1/4\n",
      "8/8 [==============================] - 0s 625us/step - loss: 0.3087\n",
      "Epoch 2/4\n",
      "8/8 [==============================] - 0s 625us/step - loss: 0.3067\n",
      "Epoch 3/4\n",
      "8/8 [==============================] - 0s 625us/step - loss: 0.3065\n",
      "Epoch 4/4\n",
      "8/8 [==============================] - 0s 625us/step - loss: 0.3062\n",
      "Epoch 1/4\n",
      "8/8 [==============================] - 0s 625us/step - loss: 0.1215 - weight-entropy: 3.4609\n",
      "Epoch 2/4\n",
      "8/8 [==============================] - 0s 625us/step - loss: 0.1373 - weight-entropy: 3.4609\n",
      "Epoch 3/4\n",
      "8/8 [==============================] - 0s 625us/step - loss: 0.1347 - weight-entropy: 3.4611\n",
      "Epoch 4/4\n",
      "8/8 [==============================] - 0s 625us/step - loss: 0.3328 - weight-entropy: 3.4614\n",
      "Epoch 1/4\n",
      "8/8 [==============================] - 0s 750us/step - loss: 0.2988\n",
      "Epoch 2/4\n",
      "8/8 [==============================] - 0s 750us/step - loss: 0.2980\n",
      "Epoch 3/4\n",
      "8/8 [==============================] - 0s 625us/step - loss: 0.2979\n",
      "Epoch 4/4\n",
      "8/8 [==============================] - 0s 501us/step - loss: 0.2981\n",
      "Epoch 1/4\n",
      "1/8 [==>...........................] - ETA: 0s - loss: 0.0793 - weight-entropy: 3.4622WARNING:tensorflow:Callbacks method `on_train_batch_end` is slow compared to the batch time (batch time: 0.0000s vs `on_train_batch_end` time: 0.0010s). Check your callbacks.\n",
      "8/8 [==============================] - 0s 750us/step - loss: 0.3121 - weight-entropy: 3.4615\n",
      "Epoch 2/4\n",
      "8/8 [==============================] - 0s 625us/step - loss: 0.2360 - weight-entropy: 3.4604\n",
      "Epoch 3/4\n",
      "8/8 [==============================] - 0s 750us/step - loss: 0.1092 - weight-entropy: 3.4585\n",
      "Epoch 4/4\n",
      "8/8 [==============================] - 0s 625us/step - loss: 0.1106 - weight-entropy: 3.4573\n",
      "Epoch 1/4\n",
      "8/8 [==============================] - 0s 750us/step - loss: 0.3056\n",
      "Epoch 2/4\n",
      "8/8 [==============================] - 0s 625us/step - loss: 0.3054\n",
      "Epoch 3/4\n",
      "8/8 [==============================] - 0s 624us/step - loss: 0.3055\n",
      "Epoch 4/4\n",
      "8/8 [==============================] - 0s 625us/step - loss: 0.3053\n",
      "Epoch 1/4\n",
      "8/8 [==============================] - 0s 625us/step - loss: 0.3098 - weight-entropy: 3.4567\n",
      "Epoch 2/4\n",
      "8/8 [==============================] - 0s 750us/step - loss: 0.1807 - weight-entropy: 3.4588\n",
      "Epoch 3/4\n",
      "8/8 [==============================] - 0s 750us/step - loss: 0.5839 - weight-entropy: 3.4610\n",
      "Epoch 4/4\n",
      "8/8 [==============================] - 0s 625us/step - loss: 0.1077 - weight-entropy: 3.4617\n",
      "Epoch 1/4\n",
      "8/8 [==============================] - 0s 625us/step - loss: 0.3106\n",
      "Epoch 2/4\n",
      "8/8 [==============================] - 0s 625us/step - loss: 0.3106\n",
      "Epoch 3/4\n",
      "8/8 [==============================] - 0s 625us/step - loss: 0.3106\n",
      "Epoch 4/4\n",
      "8/8 [==============================] - 0s 751us/step - loss: 0.3107\n",
      "Epoch 1/4\n",
      "32/32 [==============================] - 0s 562us/step - loss: 0.3026 - weight-entropy: 3.4051\n",
      "Epoch 2/4\n",
      "32/32 [==============================] - 0s 562us/step - loss: 0.2462 - weight-entropy: 3.4092\n",
      "Epoch 3/4\n",
      "32/32 [==============================] - 0s 563us/step - loss: 0.2431 - weight-entropy: 3.4083\n",
      "Epoch 4/4\n",
      "32/32 [==============================] - 0s 562us/step - loss: 0.1603 - weight-entropy: 3.4080\n"
     ]
    }
   ],
   "source": [
    "hme_model = maxentep.HyperMaxentModel([r], model, simulate)\n",
    "hme_model.compile(tf.keras.optimizers.Adam(0.01), 'mean_squared_error')\n",
    "result = hme_model.fit(epochs=4)"
   ]
  },
  {
   "cell_type": "code",
   "execution_count": 11,
   "metadata": {},
   "outputs": [
    {
     "data": {
      "text/plain": [
       "<matplotlib.legend.Legend at 0x1877e115b88>"
      ]
     },
     "execution_count": 11,
     "metadata": {},
     "output_type": "execute_result"
    },
    {
     "data": {
      "image/png": "[encoded data removed]",
      "text/plain": [
       "<Figure size 576x432 with 1 Axes>"
      ]
     },
     "metadata": {
      "needs_background": "light"
     },
     "output_type": "display_data"
    }
   ],
   "source": [
    "plt.figure(figsize=(8,6))\n",
    "grid,bins = np.histogram(np.squeeze(y), bins=100, weights=me_model.traj_weights, density=True)\n",
    "plt.plot((bins[1:] + bins[:-1]) / 2, grid, label='Biased')\n",
    "plt.axvline(np.sum(np.squeeze(y) * me_model.traj_weights))\n",
    "\n",
    "grid,bins = np.histogram(np.squeeze(y), bins=100, density=True)\n",
    "plt.plot((bins[1:] + bins[:-1]) / 2, grid, color='C1', label='Unbiased')\n",
    "plt.axvline(np.mean(np.squeeze(y)), color='C1')\n",
    "\n",
    "yp = np.squeeze(hme_model.trajs)\n",
    "grid,bins = np.histogram(yp, bins=100, density=True, weights=hme_model.traj_weights)\n",
    "plt.plot((bins[1:] + bins[:-1]) / 2, grid, color='C2', label='Biased + Hyper')\n",
    "plt.axvline(np.sum(np.squeeze(yp) * hme_model.traj_weights), color='C2')\n",
    "\n",
    "plt.axvline(x=r.target, color='Gray', linestyle=':', label='Target')\n",
    "plt.ylim(0,0.5)\n",
    "plt.legend()"
   ]
  },
  {
   "cell_type": "markdown",
   "metadata": {},
   "source": [
    "## Examine Training Progress"
   ]
  },
  {
   "cell_type": "code",
   "execution_count": 12,
   "metadata": {},
   "outputs": [
    {
     "data": {
      "text/plain": [
       "[<matplotlib.lines.Line2D at 0x1877fb42888>]"
      ]
     },
     "execution_count": 12,
     "metadata": {},
     "output_type": "execute_result"
    },
    {
     "data": {
      "image/png": "[encoded data removed]",
      "text/plain": [
       "<Figure size 432x288 with 1 Axes>"
      ]
     },
     "metadata": {
      "needs_background": "light"
     },
     "output_type": "display_data"
    }
   ],
   "source": [
    "plt.plot(result.history['loss'])"
   ]
  },
  {
   "cell_type": "code",
   "execution_count": 13,
   "metadata": {},
   "outputs": [
    {
     "data": {
      "text/plain": [
       "[<matplotlib.lines.Line2D at 0x1877fa60588>]"
      ]
     },
     "execution_count": 13,
     "metadata": {},
     "output_type": "execute_result"
    },
    {
     "data": {
      "image/png": "[encoded data removed]",
      "text/plain": [
       "<Figure size 432x288 with 1 Axes>"
      ]
     },
     "metadata": {
      "needs_background": "light"
     },
     "output_type": "display_data"
    }
   ],
   "source": [
    "plt.plot(result.history['prior-loss'])"
   ]
  },
  {
   "cell_type": "code",
   "execution_count": 14,
   "metadata": {},
   "outputs": [
    {
     "data": {
      "text/plain": [
       "[<matplotlib.lines.Line2D at 0x1877fc30688>]"
      ]
     },
     "execution_count": 14,
     "metadata": {},
     "output_type": "execute_result"
    },
    {
     "data": {
      "image/png": "[encoded data removed]",
      "text/plain": [
       "<Figure size 432x288 with 1 Axes>"
      ]
     },
     "metadata": {
      "needs_background": "light"
     },
     "output_type": "display_data"
    }
   ],
   "source": [
    "plt.plot(result.history['weight-entropy'])"
   ]
  },
  {
   "cell_type": "markdown",
   "metadata": {},
   "source": [
    "## Set-up Starting Dist"
   ]
  },
  {
   "cell_type": "code",
   "execution_count": 15,
   "metadata": {},
   "outputs": [
    {
     "data": {
      "text/plain": [
       "(array([[0.16185759, 0.06411552, 0.77402689],\n",
       "        [0.40454222, 0.36275287, 0.23270491],\n",
       "        [0.38765328, 0.27085362, 0.3414931 ]]),\n",
       " array([1., 1., 1.]))"
      ]
     },
     "execution_count": 15,
     "metadata": {},
     "output_type": "execute_result"
    }
   ],
   "source": [
    "M = 3\n",
    "R = np.abs(np.random.normal(size=(M,M), loc=1.25))\n",
    "R = R / np.sum(R, axis=1).reshape(M,1)\n",
    "R, np.sum(R, axis=1)"
   ]
  },
  {
   "cell_type": "code",
   "execution_count": 16,
   "metadata": {},
   "outputs": [],
   "source": [
    "# compartment parameters\n",
    "compartments = ['E', 'A', 'I', 'R']\n",
    "C = len(compartments)\n",
    "tmat = maxentep.TransitionMatrix(compartments, [1,2])\n",
    "tmat.add_transition('E', 'A', 5, 3)\n",
    "tmat.add_transition('A', 'I', 3, 2)\n",
    "tmat.add_transition('I', 'R', 14, 5)"
   ]
  },
  {
   "cell_type": "code",
   "execution_count": 17,
   "metadata": {},
   "outputs": [],
   "source": [
    "start_logits = np.ones((M,))"
   ]
  },
  {
   "cell_type": "markdown",
   "metadata": {},
   "source": [
    "## Set-up unbiased Joint"
   ]
  },
  {
   "cell_type": "code",
   "execution_count": 18,
   "metadata": {},
   "outputs": [
    {
     "data": {
      "text/plain": [
       "[<tfp.distributions.Independent 'unbiased_model_R_dist_dist_Independentunbiased_model_R_dist_dist_TruncatedNormal' batch_shape=[] event_shape=[3, 3] dtype=float32>,\n",
       " <tfp.distributions.Independent 'unbiased_model_T_dist_dist_Independentunbiased_model_T_dist_dist_unbiased_model_T_dist_dist_reciprocalunbiased_model_T_dist_dist_TruncatedNormal' batch_shape=[] event_shape=[3] dtype=float32>,\n",
       " <tfp.distributions.Blockwise 'unbiased_model_rho_dist_dist_Blockwise' batch_shape=[] event_shape=[6] dtype=float32>,\n",
       " <tfp.distributions.Independent 'unbiased_model_beta_dist_Independentunbiased_model_beta_dist_TruncatedNormal' batch_shape=[] event_shape=[1] dtype=float32>]"
      ]
     },
     "execution_count": 18,
     "metadata": {},
     "output_type": "execute_result"
    }
   ],
   "source": [
    "unbiased_model = maxentep.MetaParameterJoint(start_logits, R, tmat, name='unbiased')\n",
    "unbiased_model(tf.constant([1.]))"
   ]
  },
  {
   "cell_type": "markdown",
   "metadata": {},
   "source": [
    "## Create Trainable Joint"
   ]
  },
  {
   "cell_type": "code",
   "execution_count": 19,
   "metadata": {},
   "outputs": [],
   "source": [
    "model = maxentep.MetaParameterJoint(start_logits, R, tmat, name='param-model')"
   ]
  },
  {
   "cell_type": "markdown",
   "metadata": {},
   "source": [
    "## Set-up loglikelihood"
   ]
  },
  {
   "cell_type": "code",
   "execution_count": 20,
   "metadata": {},
   "outputs": [
    {
     "name": "stdout",
     "output_type": "stream",
     "text": [
      "Model: \"param-model-model\"\n",
      "__________________________________________________________________________________________________\n",
      "Layer (type)                    Output Shape         Param #     Connected to                     \n",
      "==================================================================================================\n",
      "input_3 (InputLayer)            [(None, 1)]          0                                            \n",
      "__________________________________________________________________________________________________\n",
      "R-dist-hypers (TrainableInputLa (None, 2, 3, 3)      18          input_3[0][0]                    \n",
      "__________________________________________________________________________________________________\n",
      "R-dist-jitter (Lambda)          (None, 2, 3, 3)      0           R-dist-hypers[0][0]              \n",
      "__________________________________________________________________________________________________\n",
      "T-dist-hypers (TrainableInputLa (None, 2, 4, 4)      32          input_3[0][0]                    \n",
      "__________________________________________________________________________________________________\n",
      "rho-dist-start-logit-hypers (Tr (None, 3)            3           input_3[0][0]                    \n",
      "__________________________________________________________________________________________________\n",
      "rho-dist-norm-hypers (Dense)    (None, 2)            2           input_3[0][0]                    \n",
      "__________________________________________________________________________________________________\n",
      "beta (Dense)                    (None, 1)            1           input_3[0][0]                    \n",
      "__________________________________________________________________________________________________\n",
      "R-dist-dist (DistributionLambda ((3, 3), (3, 3))     0           R-dist-jitter[0][0]              \n",
      "__________________________________________________________________________________________________\n",
      "T-dist-dist (DistributionLambda ((3,), (3,))         0           T-dist-hypers[0][0]              \n",
      "__________________________________________________________________________________________________\n",
      "rho-dist-dist (DistributionLamb ((6,), (6,))         0           rho-dist-start-logit-hypers[0][0]\n",
      "                                                                 rho-dist-norm-hypers[0][0]       \n",
      "__________________________________________________________________________________________________\n",
      "beta-dist (DistributionLambda)  ((None,), (None,))   0           beta[0][0]                       \n",
      "==================================================================================================\n",
      "Total params: 56\n",
      "Trainable params: 56\n",
      "Non-trainable params: 0\n",
      "__________________________________________________________________________________________________\n"
     ]
    }
   ],
   "source": [
    "model.compile(tf.optimizers.Nadam(0.1))\n",
    "model.summary()"
   ]
  },
  {
   "cell_type": "markdown",
   "metadata": {},
   "source": [
    "## Test out the prior distributions"
   ]
  },
  {
   "cell_type": "code",
   "execution_count": 21,
   "metadata": {},
   "outputs": [
    {
     "data": {
      "text/plain": [
       "[<tfp.distributions.Independent 'param_model_model_R_dist_dist_Independentparam_model_model_R_dist_dist_TruncatedNormal' batch_shape=[] event_shape=[3, 3] dtype=float32>,\n",
       " <tfp.distributions.Independent 'param_model_model_T_dist_dist_Independentparam_model_model_T_dist_dist_param_model_model_T_dist_dist_reciprocalparam_model_model_T_dist_dist_TruncatedNormal' batch_shape=[] event_shape=[3] dtype=float32>,\n",
       " <tfp.distributions.Blockwise 'param_model_model_rho_dist_dist_Blockwise' batch_shape=[] event_shape=[6] dtype=float32>,\n",
       " <tfp.distributions.Independent 'param_model_model_beta_dist_Independentparam_model_model_beta_dist_TruncatedNormal' batch_shape=[] event_shape=[1] dtype=float32>]"
      ]
     },
     "execution_count": 21,
     "metadata": {},
     "output_type": "execute_result"
    }
   ],
   "source": [
    "p = model(tf.constant([1.]))\n",
    "p"
   ]
  },
  {
   "cell_type": "code",
   "execution_count": 22,
   "metadata": {},
   "outputs": [
    {
     "data": {
      "text/plain": [
       "<tfp.distributions.Independent 'param_model_model_T_dist_dist_Independentparam_model_model_T_dist_dist_param_model_model_T_dist_dist_reciprocalparam_model_model_T_dist_dist_TruncatedNormal' batch_shape=[] event_shape=[3] dtype=float32>"
      ]
     },
     "execution_count": 22,
     "metadata": {},
     "output_type": "execute_result"
    }
   ],
   "source": [
    "p[1]"
   ]
  },
  {
   "cell_type": "code",
   "execution_count": 23,
   "metadata": {},
   "outputs": [
    {
     "data": {
      "text/plain": [
       "<tf.Tensor: shape=(2,), dtype=float32, numpy=array([2.5440974, 5.3304663], dtype=float32)>"
      ]
     },
     "execution_count": 23,
     "metadata": {},
     "output_type": "execute_result"
    }
   ],
   "source": [
    "p[1].sample(2)\n",
    "p[1].log_prob(p[1].sample(2))"
   ]
  },
  {
   "cell_type": "code",
   "execution_count": 24,
   "metadata": {},
   "outputs": [
    {
     "name": "stdout",
     "output_type": "stream",
     "text": [
      "[<tf.Tensor: shape=(2, 3, 3), dtype=float32, numpy=\n",
      "array([[[0.5691886 , 0.62657475, 0.8240549 ],\n",
      "        [0.60440767, 0.31704932, 0.62513983],\n",
      "        [1.1747653 , 0.66299   , 2.0080602 ]],\n",
      "\n",
      "       [[0.33573198, 0.8307088 , 1.4554667 ],\n",
      "        [0.17714545, 0.57535684, 0.1379248 ],\n",
      "        [0.81811523, 0.17542759, 0.8154541 ]]], dtype=float32)>, <tf.Tensor: shape=(2, 3), dtype=float32, numpy=\n",
      "array([[0.3145122 , 0.20695792, 0.14514425],\n",
      "       [0.36154625, 0.41428956, 0.06341862]], dtype=float32)>, <tf.Tensor: shape=(2, 6), dtype=float32, numpy=\n",
      "array([[1.        , 1.        , 1.        , 0.1910342 , 0.1308828 ,\n",
      "        0.14024556],\n",
      "       [0.        , 0.        , 0.        , 0.39965278, 0.45185   ,\n",
      "        0.365907  ]], dtype=float32)>, <tf.Tensor: shape=(2, 1), dtype=float32, numpy=\n",
      "array([[0.06797128],\n",
      "       [0.10404044]], dtype=float32)>]\n"
     ]
    }
   ],
   "source": [
    "s = [x.sample(2) for x in p]\n",
    "print(s)"
   ]
  },
  {
   "cell_type": "code",
   "execution_count": 25,
   "metadata": {},
   "outputs": [
    {
     "data": {
      "text/plain": [
       "<tf.Tensor: shape=(2,), dtype=float32, numpy=array([1.8243258, 3.0453806], dtype=float32)>"
      ]
     },
     "execution_count": 25,
     "metadata": {},
     "output_type": "execute_result"
    }
   ],
   "source": [
    "p[1].log_prob(s[1])"
   ]
  },
  {
   "cell_type": "code",
   "execution_count": 26,
   "metadata": {},
   "outputs": [
    {
     "data": {
      "text/plain": [
       "<tfp.distributions.Independent 'param_model_model_T_dist_dist_Independentparam_model_model_T_dist_dist_param_model_model_T_dist_dist_reciprocalparam_model_model_T_dist_dist_TruncatedNormal' batch_shape=[] event_shape=[3] dtype=float32>"
      ]
     },
     "execution_count": 26,
     "metadata": {},
     "output_type": "execute_result"
    }
   ],
   "source": [
    "p[1]"
   ]
  },
  {
   "cell_type": "code",
   "execution_count": 27,
   "metadata": {},
   "outputs": [
    {
     "data": {
      "text/plain": [
       "[<tf.Tensor: shape=(2,), dtype=float32, numpy=array([-6.775874, -2.451164], dtype=float32)>,\n",
       " <tf.Tensor: shape=(2,), dtype=float32, numpy=array([1.8243258, 3.0453806], dtype=float32)>,\n",
       " <tf.Tensor: shape=(2,), dtype=float32, numpy=array([ 1.3443815, -2.1498022], dtype=float32)>,\n",
       " <tf.Tensor: shape=(2,), dtype=float32, numpy=array([2.0258224, 2.0965648], dtype=float32)>]"
      ]
     },
     "execution_count": 27,
     "metadata": {},
     "output_type": "execute_result"
    }
   ],
   "source": [
    "[pi.log_prob(si) for pi, si in zip(p, s)]"
   ]
  },
  {
   "cell_type": "code",
   "execution_count": 28,
   "metadata": {},
   "outputs": [
    {
     "name": "stdout",
     "output_type": "stream",
     "text": [
      "1/1 [==============================] - 0s 999us/step - loss: -1.5410 - R-dist-dist_loss: 4.6135 - T-dist-dist_loss: -2.4349 - rho-dist-dist_loss: 0.4027 - beta-dist_loss: -4.1224\n"
     ]
    },
    {
     "data": {
      "text/plain": [
       "[-1.541010856628418,\n",
       " 4.613518714904785,\n",
       " -2.4348530769348145,\n",
       " 0.402710497379303,\n",
       " -4.122386932373047]"
      ]
     },
     "execution_count": 28,
     "metadata": {},
     "output_type": "execute_result"
    }
   ],
   "source": [
    "model.evaluate(tf.constant([1., 1.]), s)"
   ]
  },
  {
   "cell_type": "markdown",
   "metadata": {},
   "source": [
    "## Sampling Functions"
   ]
  },
  {
   "cell_type": "code",
   "execution_count": 29,
   "metadata": {},
   "outputs": [
    {
     "data": {
      "text/plain": [
       "[<tf.Tensor: shape=(2, 3, 3), dtype=float32, numpy=\n",
       " array([[[0.5731483 , 0.6651318 , 0.33234933],\n",
       "         [0.38286173, 0.9361524 , 0.27589053],\n",
       "         [1.1026288 , 0.00447726, 1.1734502 ]],\n",
       " \n",
       "        [[0.3166349 , 0.6517709 , 0.65860426],\n",
       "         [0.61008346, 0.31995153, 0.16654605],\n",
       "         [0.3251592 , 0.7290776 , 0.5649723 ]]], dtype=float32)>,\n",
       " <tf.Tensor: shape=(2, 4, 4), dtype=float32, numpy=\n",
       " array([[[0.24019772, 0.7598023 , 0.        , 0.        ],\n",
       "         [0.        , 0.6905867 , 0.30941328, 0.        ],\n",
       "         [0.        , 0.        , 0.91579384, 0.08420616],\n",
       "         [0.        , 0.        , 0.        , 1.        ]],\n",
       " \n",
       "        [[0.7314881 , 0.2685119 , 0.        , 0.        ],\n",
       "         [0.        , 0.6712165 , 0.32878354, 0.        ],\n",
       "         [0.        , 0.        , 0.93649536, 0.06350462],\n",
       "         [0.        , 0.        , 0.        , 1.        ]]], dtype=float32)>,\n",
       " <tf.Tensor: shape=(2, 3, 4), dtype=float32, numpy=\n",
       " array([[[0.2520516 , 0.        , 0.        , 0.        ],\n",
       "         [0.4180976 , 0.        , 0.        , 0.        ],\n",
       "         [0.21534008, 0.        , 0.        , 0.        ]],\n",
       " \n",
       "        [[0.4536323 , 0.        , 0.        , 0.        ],\n",
       "         [0.4609983 , 0.        , 0.        , 0.        ],\n",
       "         [0.        , 0.        , 0.        , 0.        ]]], dtype=float32)>,\n",
       " <tf.Tensor: shape=(2, 1), dtype=float32, numpy=\n",
       " array([[0.02951818],\n",
       "        [0.16428995]], dtype=float32)>]"
      ]
     },
     "execution_count": 29,
     "metadata": {},
     "output_type": "execute_result"
    }
   ],
   "source": [
    "v = model.sample(2)\n",
    "v"
   ]
  },
  {
   "cell_type": "code",
   "execution_count": 30,
   "metadata": {},
   "outputs": [
    {
     "name": "stderr",
     "output_type": "stream",
     "text": [
      "c:\\users\\white\\maxent\\lib\\site-packages\\seaborn\\_decorators.py:43: FutureWarning: Pass the following variable as a keyword arg: x. From version 0.12, the only valid positional argument will be `data`, and passing other arguments without an explcit keyword will result in an error or misinterpretation.\n",
      "  FutureWarning\n"
     ]
    },
    {
     "data": {
      "text/plain": [
       "<matplotlib.axes._subplots.AxesSubplot at 0x187054991c8>"
      ]
     },
     "execution_count": 30,
     "metadata": {},
     "output_type": "execute_result"
    },
    {
     "data": {
      "image/png": "[encoded data removed]",
      "text/plain": [
       "<Figure size 432x288 with 1 Axes>"
      ]
     },
     "metadata": {
      "needs_background": "light"
     },
     "output_type": "display_data"
    }
   ],
   "source": [
    "# sample start\n",
    "s = model.sample(1000)[2].numpy().flatten()\n",
    "sns.distplot(s[s > 0])"
   ]
  },
  {
   "cell_type": "markdown",
   "metadata": {},
   "source": [
    "## Make some restraints"
   ]
  },
  {
   "cell_type": "code",
   "execution_count": 31,
   "metadata": {},
   "outputs": [],
   "source": [
    "r1 = maxentep.Restraint(lambda x: x[...,25,0,2], 0.4, maxentep.EmptyPrior())\n",
    "r2 = maxentep.Restraint(lambda x: x[...,50,0,2], 0.2, maxentep.EmptyPrior())"
   ]
  },
  {
   "cell_type": "markdown",
   "metadata": {},
   "source": [
    "## Make Metapopulation Model"
   ]
  },
  {
   "cell_type": "code",
   "execution_count": 32,
   "metadata": {},
   "outputs": [],
   "source": [
    "meta_model = maxentep.MetaModel(maxentep.contact_infection_func([1,2]), 150)"
   ]
  },
  {
   "cell_type": "markdown",
   "metadata": {},
   "source": [
    "## Maxent Model"
   ]
  },
  {
   "cell_type": "code",
   "execution_count": 33,
   "metadata": {},
   "outputs": [],
   "source": [
    "maxent_model = maxentep.MaxentModel([r1, r2])\n",
    "maxent_model.compile(tf.keras.optimizers.Adam(learning_rate=1e-2), 'mean_squared_error')"
   ]
  },
  {
   "cell_type": "markdown",
   "metadata": {},
   "source": [
    "## Visualize Unbiased"
   ]
  },
  {
   "cell_type": "code",
   "execution_count": 34,
   "metadata": {},
   "outputs": [
    {
     "data": {
      "text/plain": [
       "Text(0.5, 1.0, 'Unbiased Result')"
      ]
     },
     "execution_count": 34,
     "metadata": {},
     "output_type": "execute_result"
    },
    {
     "data": {
      "image/png": "[encoded data removed]",
      "text/plain": [
       "<Figure size 432x288 with 1 Axes>"
      ]
     },
     "metadata": {
      "needs_background": "light"
     },
     "output_type": "display_data"
    }
   ],
   "source": [
    "psample = unbiased_model.sample(param_batch_size)\n",
    "trajs = meta_model(*psample)\n",
    "maxentep.traj_quantile(trajs[:,:,0,:])\n",
    "plt.plot(25, r1.target, 'o', color='C2')\n",
    "plt.plot(50, r2.target, 'o', color='C2')\n",
    "plt.title('Unbiased Result')"
   ]
  },
  {
   "cell_type": "markdown",
   "metadata": {},
   "source": [
    "## Try to reweight without hyper-parameter tuning"
   ]
  },
  {
   "cell_type": "code",
   "execution_count": 35,
   "metadata": {},
   "outputs": [],
   "source": [
    "me_loss = []\n",
    "# sample and get batch\n",
    "psample = unbiased_model.sample(param_batch_size)\n",
    "trajs = meta_model(*psample)\n",
    "# get weights of trajectories\n",
    "h = maxent_model.fit(trajs, batch_size=maxent_batch_size, epochs=128, verbose=False)\n",
    "me_loss.extend(h.history['loss'])\n",
    "w = maxent_model.traj_weights"
   ]
  },
  {
   "cell_type": "code",
   "execution_count": 36,
   "metadata": {},
   "outputs": [
    {
     "data": {
      "image/png": "[encoded data removed]",
      "text/plain": [
       "<Figure size 432x288 with 1 Axes>"
      ]
     },
     "metadata": {
      "needs_background": "light"
     },
     "output_type": "display_data"
    }
   ],
   "source": [
    "plt.plot(me_loss)\n",
    "plt.show()"
   ]
  },
  {
   "cell_type": "code",
   "execution_count": 37,
   "metadata": {},
   "outputs": [
    {
     "data": {
      "text/plain": [
       "Text(0.5, 1.0, 'Maxent Result')"
      ]
     },
     "execution_count": 37,
     "metadata": {},
     "output_type": "execute_result"
    },
    {
     "data": {
      "image/png": "[encoded data removed]",
      "text/plain": [
       "<Figure size 432x288 with 1 Axes>"
      ]
     },
     "metadata": {
      "needs_background": "light"
     },
     "output_type": "display_data"
    }
   ],
   "source": [
    "maxentep.traj_quantile(trajs[:,:,0,:], weights=w)\n",
    "plt.plot(25, r1.target, 'o', color='C2')\n",
    "plt.plot(50, r2.target, 'o', color='C2')\n",
    "plt.title('Maxent Result')"
   ]
  },
  {
   "cell_type": "markdown",
   "metadata": {},
   "source": [
    "## Now tune hyperparameters at the same time"
   ]
  },
  {
   "cell_type": "code",
   "execution_count": 38,
   "metadata": {
    "scrolled": true
   },
   "outputs": [
    {
     "name": "stdout",
     "output_type": "stream",
     "text": [
      "Epoch 1/8\n",
      "WARNING:tensorflow:Gradients do not exist for variables ['value:0', 'value:0', 'value:0', 'rho-dist-norm-hypers/kernel:0', 'beta/kernel:0'] when minimizing the loss.\n",
      "WARNING:tensorflow:Gradients do not exist for variables ['value:0', 'value:0', 'value:0', 'rho-dist-norm-hypers/kernel:0', 'beta/kernel:0'] when minimizing the loss.\n",
      "WARNING:tensorflow:Gradients do not exist for variables ['value:0', 'value:0', 'value:0', 'rho-dist-norm-hypers/kernel:0', 'beta/kernel:0'] when minimizing the loss.\n",
      "WARNING:tensorflow:Gradients do not exist for variables ['value:0', 'value:0', 'value:0', 'rho-dist-norm-hypers/kernel:0', 'beta/kernel:0'] when minimizing the loss.\n",
      "32/32 [==============================] - 0s 625us/step - loss: 0.0720 - weight-entropy: 3.4657\n",
      "Epoch 2/8\n",
      "32/32 [==============================] - 0s 594us/step - loss: 0.0718 - weight-entropy: 3.4654\n",
      "Epoch 3/8\n",
      "32/32 [==============================] - 0s 594us/step - loss: 0.0715 - weight-entropy: 3.4648\n",
      "Epoch 4/8\n",
      "32/32 [==============================] - 0s 562us/step - loss: 0.0711 - weight-entropy: 3.4638\n",
      "Epoch 5/8\n",
      "32/32 [==============================] - 0s 625us/step - loss: 0.0708 - weight-entropy: 3.4624\n",
      "Epoch 6/8\n",
      "32/32 [==============================] - 0s 562us/step - loss: 0.0705 - weight-entropy: 3.4607\n",
      "Epoch 7/8\n",
      "32/32 [==============================] - 0s 562us/step - loss: 0.0702 - weight-entropy: 3.4588\n",
      "Epoch 8/8\n",
      "32/32 [==============================] - 0s 562us/step - loss: 0.0698 - weight-entropy: 3.4562\n",
      "Epoch 1/8\n",
      "32/32 [==============================] - 0s 1ms/step - loss: -0.0549 - R-dist-dist_loss: 0.0032 - T-dist-dist_loss: -0.0035 - rho-dist-dist_loss: -3.4768e-04 - beta-dist_loss: -0.0542\n",
      "Epoch 2/8\n",
      "32/32 [==============================] - 0s 1ms/step - loss: -0.0548 - R-dist-dist_loss: 0.0032 - T-dist-dist_loss: -0.0035 - rho-dist-dist_loss: -3.4970e-04 - beta-dist_loss: -0.0541\n",
      "Epoch 3/8\n",
      "32/32 [==============================] - 0s 1ms/step - loss: -0.0548 - R-dist-dist_loss: 0.0032 - T-dist-dist_loss: -0.0035 - rho-dist-dist_loss: -3.5240e-04 - beta-dist_loss: -0.0541\n",
      "Epoch 4/8\n",
      "32/32 [==============================] - 0s 1ms/step - loss: -0.0548 - R-dist-dist_loss: 0.0032 - T-dist-dist_loss: -0.0035 - rho-dist-dist_loss: -3.4875e-04 - beta-dist_loss: -0.0541\n",
      "Epoch 5/8\n",
      "32/32 [==============================] - 0s 1ms/step - loss: -0.0548 - R-dist-dist_loss: 0.0032 - T-dist-dist_loss: -0.0035 - rho-dist-dist_loss: -3.4852e-04 - beta-dist_loss: -0.0542\n",
      "Epoch 6/8\n",
      "32/32 [==============================] - 0s 1ms/step - loss: -0.0550 - R-dist-dist_loss: 0.0032 - T-dist-dist_loss: -0.0035 - rho-dist-dist_loss: -3.4858e-04 - beta-dist_loss: -0.0543\n",
      "Epoch 7/8\n",
      "32/32 [==============================] - 0s 1ms/step - loss: -0.0548 - R-dist-dist_loss: 0.0032 - T-dist-dist_loss: -0.0035 - rho-dist-dist_loss: -3.5169e-04 - beta-dist_loss: -0.0541\n",
      "Epoch 8/8\n",
      "32/32 [==============================] - 0s 1ms/step - loss: -0.0549 - R-dist-dist_loss: 0.0032 - T-dist-dist_loss: -0.0035 - rho-dist-dist_loss: -3.5077e-04 - beta-dist_loss: -0.0542\n",
      "Epoch 1/8\n",
      " 1/32 [..............................] - ETA: 0s - loss: 0.0716 - weight-entropy: 3.4089WARNING:tensorflow:Callbacks method `on_train_batch_end` is slow compared to the batch time (batch time: 0.0000s vs `on_train_batch_end` time: 0.0010s). Check your callbacks.\n",
      "32/32 [==============================] - 0s 625us/step - loss: 0.0694 - weight-entropy: 3.4079\n",
      "Epoch 2/8\n",
      "32/32 [==============================] - 0s 562us/step - loss: 0.0691 - weight-entropy: 3.4066\n",
      "Epoch 3/8\n",
      "32/32 [==============================] - 0s 594us/step - loss: 0.0688 - weight-entropy: 3.4055\n",
      "Epoch 4/8\n",
      "32/32 [==============================] - 0s 594us/step - loss: 0.0686 - weight-entropy: 3.4054\n",
      "Epoch 5/8\n",
      "32/32 [==============================] - 0s 562us/step - loss: 0.0681 - weight-entropy: 3.4022\n",
      "Epoch 6/8\n",
      "32/32 [==============================] - 0s 625us/step - loss: 0.0678 - weight-entropy: 3.3999\n",
      "Epoch 7/8\n",
      "32/32 [==============================] - 0s 625us/step - loss: 0.0674 - weight-entropy: 3.3977\n",
      "Epoch 8/8\n",
      "32/32 [==============================] - 0s 594us/step - loss: 0.0672 - weight-entropy: 3.3965\n",
      "Epoch 1/8\n",
      "32/32 [==============================] - 0s 1ms/step - loss: -0.0565 - R-dist-dist_loss: 0.0032 - T-dist-dist_loss: -0.0036 - rho-dist-dist_loss: -3.3631e-04 - beta-dist_loss: -0.0558\n",
      "Epoch 2/8\n",
      "32/32 [==============================] - 0s 1ms/step - loss: -0.0565 - R-dist-dist_loss: 0.0031 - T-dist-dist_loss: -0.0036 - rho-dist-dist_loss: -3.3657e-04 - beta-dist_loss: -0.0557\n",
      "Epoch 3/8\n",
      "32/32 [==============================] - 0s 1ms/step - loss: -0.0564 - R-dist-dist_loss: 0.0031 - T-dist-dist_loss: -0.0036 - rho-dist-dist_loss: -3.3665e-04 - beta-dist_loss: -0.0556\n",
      "Epoch 4/8\n",
      "32/32 [==============================] - 0s 1ms/step - loss: -0.0565 - R-dist-dist_loss: 0.0031 - T-dist-dist_loss: -0.0036 - rho-dist-dist_loss: -3.3681e-04 - beta-dist_loss: -0.0558\n",
      "Epoch 5/8\n",
      "32/32 [==============================] - 0s 1ms/step - loss: -0.0565 - R-dist-dist_loss: 0.0031 - T-dist-dist_loss: -0.0036 - rho-dist-dist_loss: -3.3772e-04 - beta-dist_loss: -0.0558\n",
      "Epoch 6/8\n",
      "32/32 [==============================] - 0s 1ms/step - loss: -0.0565 - R-dist-dist_loss: 0.0031 - T-dist-dist_loss: -0.0036 - rho-dist-dist_loss: -3.3746e-04 - beta-dist_loss: -0.0558\n",
      "Epoch 7/8\n",
      "32/32 [==============================] - 0s 1ms/step - loss: -0.0565 - R-dist-dist_loss: 0.0031 - T-dist-dist_loss: -0.0036 - rho-dist-dist_loss: -3.3487e-04 - beta-dist_loss: -0.0557\n",
      "Epoch 8/8\n",
      "32/32 [==============================] - 0s 1ms/step - loss: -0.0566 - R-dist-dist_loss: 0.0031 - T-dist-dist_loss: -0.0036 - rho-dist-dist_loss: -3.3568e-04 - beta-dist_loss: -0.0558\n",
      "Epoch 1/8\n",
      " 1/32 [..............................] - ETA: 0s - loss: 0.0715 - weight-entropy: 3.3500WARNING:tensorflow:Callbacks method `on_train_batch_end` is slow compared to the batch time (batch time: 0.0000s vs `on_train_batch_end` time: 0.0010s). Check your callbacks.\n",
      "32/32 [==============================] - 0s 687us/step - loss: 0.0667 - weight-entropy: 3.3738\n",
      "Epoch 2/8\n",
      "32/32 [==============================] - 0s 625us/step - loss: 0.0661 - weight-entropy: 3.3718\n",
      "Epoch 3/8\n",
      "32/32 [==============================] - 0s 562us/step - loss: 0.0657 - weight-entropy: 3.3711\n",
      "Epoch 4/8\n",
      "32/32 [==============================] - 0s 594us/step - loss: 0.0651 - weight-entropy: 3.3663\n",
      "Epoch 5/8\n",
      "32/32 [==============================] - 0s 531us/step - loss: 0.0647 - weight-entropy: 3.3622\n",
      "Epoch 6/8\n",
      "32/32 [==============================] - 0s 594us/step - loss: 0.0643 - weight-entropy: 3.3595\n",
      "Epoch 7/8\n",
      "32/32 [==============================] - 0s 594us/step - loss: 0.0637 - weight-entropy: 3.3545\n",
      "Epoch 8/8\n",
      "32/32 [==============================] - 0s 562us/step - loss: 0.0633 - weight-entropy: 3.3482\n",
      "Epoch 1/8\n",
      "32/32 [==============================] - 0s 1ms/step - loss: -0.0565 - R-dist-dist_loss: 0.0031 - T-dist-dist_loss: -0.0038 - rho-dist-dist_loss: -3.3168e-04 - beta-dist_loss: -0.0555\n",
      "Epoch 2/8\n",
      "32/32 [==============================] - 0s 1ms/step - loss: -0.0565 - R-dist-dist_loss: 0.0031 - T-dist-dist_loss: -0.0038 - rho-dist-dist_loss: -3.3359e-04 - beta-dist_loss: -0.0555\n",
      "Epoch 3/8\n",
      "32/32 [==============================] - 0s 1ms/step - loss: -0.0565 - R-dist-dist_loss: 0.0031 - T-dist-dist_loss: -0.0038 - rho-dist-dist_loss: -3.3577e-04 - beta-dist_loss: -0.0555\n",
      "Epoch 4/8\n",
      "32/32 [==============================] - 0s 1ms/step - loss: -0.0565 - R-dist-dist_loss: 0.0031 - T-dist-dist_loss: -0.0038 - rho-dist-dist_loss: -3.3157e-04 - beta-dist_loss: -0.0555\n",
      "Epoch 5/8\n",
      "32/32 [==============================] - 0s 1ms/step - loss: -0.0564 - R-dist-dist_loss: 0.0031 - T-dist-dist_loss: -0.0038 - rho-dist-dist_loss: -3.3557e-04 - beta-dist_loss: -0.0555\n",
      "Epoch 6/8\n",
      "32/32 [==============================] - 0s 1ms/step - loss: -0.0565 - R-dist-dist_loss: 0.0031 - T-dist-dist_loss: -0.0038 - rho-dist-dist_loss: -3.3610e-04 - beta-dist_loss: -0.0555\n",
      "Epoch 7/8\n",
      "32/32 [==============================] - 0s 1ms/step - loss: -0.0564 - R-dist-dist_loss: 0.0031 - T-dist-dist_loss: -0.0038 - rho-dist-dist_loss: -3.3619e-04 - beta-dist_loss: -0.0554\n",
      "Epoch 8/8\n"
     ]
    },
    {
     "name": "stdout",
     "output_type": "stream",
     "text": [
      "32/32 [==============================] - 0s 1ms/step - loss: -0.0565 - R-dist-dist_loss: 0.0031 - T-dist-dist_loss: -0.0038 - rho-dist-dist_loss: -3.3656e-04 - beta-dist_loss: -0.0555\n",
      "Epoch 1/8\n",
      " 1/32 [..............................] - ETA: 0s - loss: 0.0646 - weight-entropy: 3.3206WARNING:tensorflow:Callbacks method `on_train_batch_end` is slow compared to the batch time (batch time: 0.0000s vs `on_train_batch_end` time: 0.0010s). Check your callbacks.\n",
      "32/32 [==============================] - 0s 688us/step - loss: 0.0630 - weight-entropy: 3.3459\n",
      "Epoch 2/8\n",
      "32/32 [==============================] - 0s 656us/step - loss: 0.0627 - weight-entropy: 3.3458\n",
      "Epoch 3/8\n",
      "32/32 [==============================] - 0s 687us/step - loss: 0.0619 - weight-entropy: 3.3334\n",
      "Epoch 4/8\n",
      "32/32 [==============================] - 0s 656us/step - loss: 0.0618 - weight-entropy: 3.3298\n",
      "Epoch 5/8\n",
      "32/32 [==============================] - 0s 656us/step - loss: 0.0612 - weight-entropy: 3.3207\n",
      "Epoch 6/8\n",
      "32/32 [==============================] - 0s 656us/step - loss: 0.0607 - weight-entropy: 3.3123\n",
      "Epoch 7/8\n",
      "32/32 [==============================] - 0s 625us/step - loss: 0.0604 - weight-entropy: 3.3055\n",
      "Epoch 8/8\n",
      "32/32 [==============================] - 0s 531us/step - loss: 0.0600 - weight-entropy: 3.2959\n",
      "Epoch 1/8\n",
      "32/32 [==============================] - 0s 1ms/step - loss: -0.0553 - R-dist-dist_loss: 0.0033 - T-dist-dist_loss: -0.0038 - rho-dist-dist_loss: -3.0492e-04 - beta-dist_loss: -0.0544\n",
      "Epoch 2/8\n",
      "32/32 [==============================] - 0s 1ms/step - loss: -0.0555 - R-dist-dist_loss: 0.0032 - T-dist-dist_loss: -0.0038 - rho-dist-dist_loss: -3.0720e-04 - beta-dist_loss: -0.0547\n",
      "Epoch 3/8\n",
      "32/32 [==============================] - 0s 1ms/step - loss: -0.0554 - R-dist-dist_loss: 0.0033 - T-dist-dist_loss: -0.0038 - rho-dist-dist_loss: -3.0920e-04 - beta-dist_loss: -0.0545\n",
      "Epoch 4/8\n",
      "32/32 [==============================] - 0s 1ms/step - loss: -0.0555 - R-dist-dist_loss: 0.0033 - T-dist-dist_loss: -0.0038 - rho-dist-dist_loss: -3.0587e-04 - beta-dist_loss: -0.0546\n",
      "Epoch 5/8\n",
      "32/32 [==============================] - 0s 1ms/step - loss: -0.0554 - R-dist-dist_loss: 0.0033 - T-dist-dist_loss: -0.0038 - rho-dist-dist_loss: -3.0888e-04 - beta-dist_loss: -0.0545\n",
      "Epoch 6/8\n",
      "32/32 [==============================] - 0s 1ms/step - loss: -0.0554 - R-dist-dist_loss: 0.0033 - T-dist-dist_loss: -0.0038 - rho-dist-dist_loss: -3.0857e-04 - beta-dist_loss: -0.0545\n",
      "Epoch 7/8\n",
      "32/32 [==============================] - 0s 1ms/step - loss: -0.0554 - R-dist-dist_loss: 0.0033 - T-dist-dist_loss: -0.0038 - rho-dist-dist_loss: -3.0381e-04 - beta-dist_loss: -0.0545\n",
      "Epoch 8/8\n",
      "32/32 [==============================] - 0s 1ms/step - loss: -0.0553 - R-dist-dist_loss: 0.0033 - T-dist-dist_loss: -0.0038 - rho-dist-dist_loss: -3.0867e-04 - beta-dist_loss: -0.0544\n",
      "Epoch 1/8\n",
      "32/32 [==============================] - 0s 594us/step - loss: 0.0602 - weight-entropy: 3.3283\n",
      "Epoch 2/8\n",
      "32/32 [==============================] - 0s 562us/step - loss: 0.0599 - weight-entropy: 3.3251\n",
      "Epoch 3/8\n",
      "32/32 [==============================] - 0s 594us/step - loss: 0.0595 - weight-entropy: 3.3202\n",
      "Epoch 4/8\n",
      "32/32 [==============================] - 0s 562us/step - loss: 0.0590 - weight-entropy: 3.3139\n",
      "Epoch 5/8\n",
      "32/32 [==============================] - 0s 687us/step - loss: 0.0587 - weight-entropy: 3.3097\n",
      "Epoch 6/8\n",
      "32/32 [==============================] - 0s 656us/step - loss: 0.0582 - weight-entropy: 3.3010\n",
      "Epoch 7/8\n",
      "32/32 [==============================] - 0s 656us/step - loss: 0.0576 - weight-entropy: 3.2942\n",
      "Epoch 8/8\n",
      "32/32 [==============================] - 0s 625us/step - loss: 0.0572 - weight-entropy: 3.2873\n",
      "Epoch 1/8\n",
      "32/32 [==============================] - 0s 1ms/step - loss: -0.0560 - R-dist-dist_loss: 0.0033 - T-dist-dist_loss: -0.0040 - rho-dist-dist_loss: -3.4127e-04 - beta-dist_loss: -0.0550\n",
      "Epoch 2/8\n",
      "32/32 [==============================] - 0s 1ms/step - loss: -0.0560 - R-dist-dist_loss: 0.0033 - T-dist-dist_loss: -0.0040 - rho-dist-dist_loss: -3.4366e-04 - beta-dist_loss: -0.0549\n",
      "Epoch 3/8\n",
      "32/32 [==============================] - 0s 1ms/step - loss: -0.0560 - R-dist-dist_loss: 0.0033 - T-dist-dist_loss: -0.0040 - rho-dist-dist_loss: -3.4196e-04 - beta-dist_loss: -0.0550\n",
      "Epoch 4/8\n",
      "32/32 [==============================] - 0s 1ms/step - loss: -0.0560 - R-dist-dist_loss: 0.0033 - T-dist-dist_loss: -0.0040 - rho-dist-dist_loss: -3.4197e-04 - beta-dist_loss: -0.0549\n",
      "Epoch 5/8\n",
      "32/32 [==============================] - 0s 1ms/step - loss: -0.0559 - R-dist-dist_loss: 0.0033 - T-dist-dist_loss: -0.0040 - rho-dist-dist_loss: -3.4410e-04 - beta-dist_loss: -0.0549\n",
      "Epoch 6/8\n",
      "32/32 [==============================] - 0s 1ms/step - loss: -0.0559 - R-dist-dist_loss: 0.0033 - T-dist-dist_loss: -0.0040 - rho-dist-dist_loss: -3.4261e-04 - beta-dist_loss: -0.0548\n",
      "Epoch 7/8\n",
      "32/32 [==============================] - 0s 1ms/step - loss: -0.0560 - R-dist-dist_loss: 0.0033 - T-dist-dist_loss: -0.0040 - rho-dist-dist_loss: -3.4259e-04 - beta-dist_loss: -0.0550\n",
      "Epoch 8/8\n",
      "32/32 [==============================] - 0s 1ms/step - loss: -0.0559 - R-dist-dist_loss: 0.0033 - T-dist-dist_loss: -0.0040 - rho-dist-dist_loss: -3.4139e-04 - beta-dist_loss: -0.0548\n",
      "Epoch 1/8\n",
      "32/32 [==============================] - 0s 562us/step - loss: 0.0573 - weight-entropy: 3.2982\n",
      "Epoch 2/8\n",
      "32/32 [==============================] - 0s 563us/step - loss: 0.0569 - weight-entropy: 3.2941\n",
      "Epoch 3/8\n",
      "32/32 [==============================] - 0s 562us/step - loss: 0.0565 - weight-entropy: 3.2920\n",
      "Epoch 4/8\n",
      "32/32 [==============================] - 0s 563us/step - loss: 0.0558 - weight-entropy: 3.2827\n",
      "Epoch 5/8\n",
      "32/32 [==============================] - 0s 594us/step - loss: 0.0557 - weight-entropy: 3.2791\n",
      "Epoch 6/8\n",
      "32/32 [==============================] - 0s 594us/step - loss: 0.0553 - weight-entropy: 3.2749\n",
      "Epoch 7/8\n",
      "32/32 [==============================] - 0s 563us/step - loss: 0.0547 - weight-entropy: 3.2643\n",
      "Epoch 8/8\n",
      "32/32 [==============================] - 0s 562us/step - loss: 0.0542 - weight-entropy: 3.2603\n",
      "Epoch 1/8\n",
      "32/32 [==============================] - 0s 1ms/step - loss: -0.0565 - R-dist-dist_loss: 0.0032 - T-dist-dist_loss: -0.0039 - rho-dist-dist_loss: -2.9935e-04 - beta-dist_loss: -0.0555\n",
      "Epoch 2/8\n",
      "32/32 [==============================] - 0s 1ms/step - loss: -0.0564 - R-dist-dist_loss: 0.0032 - T-dist-dist_loss: -0.0039 - rho-dist-dist_loss: -3.0116e-04 - beta-dist_loss: -0.0553\n",
      "Epoch 3/8\n",
      "32/32 [==============================] - 0s 1ms/step - loss: -0.0563 - R-dist-dist_loss: 0.0032 - T-dist-dist_loss: -0.0039 - rho-dist-dist_loss: -2.9884e-04 - beta-dist_loss: -0.0553\n",
      "Epoch 4/8\n",
      "32/32 [==============================] - 0s 1ms/step - loss: -0.0564 - R-dist-dist_loss: 0.0032 - T-dist-dist_loss: -0.0039 - rho-dist-dist_loss: -2.9966e-04 - beta-dist_loss: -0.0553\n",
      "Epoch 5/8\n",
      "32/32 [==============================] - 0s 1ms/step - loss: -0.0564 - R-dist-dist_loss: 0.0032 - T-dist-dist_loss: -0.0039 - rho-dist-dist_loss: -3.0195e-04 - beta-dist_loss: -0.0554\n",
      "Epoch 6/8\n",
      "32/32 [==============================] - 0s 1ms/step - loss: -0.0564 - R-dist-dist_loss: 0.0032 - T-dist-dist_loss: -0.0039 - rho-dist-dist_loss: -3.0340e-04 - beta-dist_loss: -0.0553\n",
      "Epoch 7/8\n",
      "32/32 [==============================] - 0s 1ms/step - loss: -0.0563 - R-dist-dist_loss: 0.0032 - T-dist-dist_loss: -0.0039 - rho-dist-dist_loss: -2.9721e-04 - beta-dist_loss: -0.0553\n",
      "Epoch 8/8\n",
      "32/32 [==============================] - 0s 1ms/step - loss: -0.0564 - R-dist-dist_loss: 0.0032 - T-dist-dist_loss: -0.0039 - rho-dist-dist_loss: -3.0017e-04 - beta-dist_loss: -0.0554\n",
      "Epoch 1/8\n",
      "32/32 [==============================] - 0s 625us/step - loss: 0.0528 - weight-entropy: 3.2432\n",
      "Epoch 2/8\n",
      "32/32 [==============================] - 0s 625us/step - loss: 0.0521 - weight-entropy: 3.2334\n",
      "Epoch 3/8\n",
      "32/32 [==============================] - 0s 625us/step - loss: 0.0514 - weight-entropy: 3.2227\n",
      "Epoch 4/8\n",
      "32/32 [==============================] - 0s 594us/step - loss: 0.0509 - weight-entropy: 3.2114\n",
      "Epoch 5/8\n",
      "32/32 [==============================] - 0s 562us/step - loss: 0.0500 - weight-entropy: 3.1923\n",
      "Epoch 6/8\n"
     ]
    },
    {
     "name": "stdout",
     "output_type": "stream",
     "text": [
      "32/32 [==============================] - 0s 562us/step - loss: 0.0498 - weight-entropy: 3.1819\n",
      "Epoch 7/8\n",
      "32/32 [==============================] - 0s 594us/step - loss: 0.0491 - weight-entropy: 3.1675\n",
      "Epoch 8/8\n",
      "32/32 [==============================] - 0s 562us/step - loss: 0.0486 - weight-entropy: 3.1554\n",
      "Epoch 1/8\n",
      "32/32 [==============================] - 0s 1ms/step - loss: -0.0561 - R-dist-dist_loss: 0.0032 - T-dist-dist_loss: -0.0041 - rho-dist-dist_loss: -3.1188e-04 - beta-dist_loss: -0.0550\n",
      "Epoch 2/8\n",
      "32/32 [==============================] - 0s 1ms/step - loss: -0.0560 - R-dist-dist_loss: 0.0032 - T-dist-dist_loss: -0.0041 - rho-dist-dist_loss: -3.0961e-04 - beta-dist_loss: -0.0548\n",
      "Epoch 3/8\n",
      "32/32 [==============================] - 0s 1ms/step - loss: -0.0563 - R-dist-dist_loss: 0.0033 - T-dist-dist_loss: -0.0041 - rho-dist-dist_loss: -3.1395e-04 - beta-dist_loss: -0.0551\n",
      "Epoch 4/8\n",
      "32/32 [==============================] - 0s 1ms/step - loss: -0.0561 - R-dist-dist_loss: 0.0032 - T-dist-dist_loss: -0.0041 - rho-dist-dist_loss: -3.1534e-04 - beta-dist_loss: -0.0549\n",
      "Epoch 5/8\n",
      "32/32 [==============================] - 0s 1ms/step - loss: -0.0560 - R-dist-dist_loss: 0.0033 - T-dist-dist_loss: -0.0041 - rho-dist-dist_loss: -3.1468e-04 - beta-dist_loss: -0.0549\n",
      "Epoch 6/8\n",
      "32/32 [==============================] - 0s 1ms/step - loss: -0.0561 - R-dist-dist_loss: 0.0032 - T-dist-dist_loss: -0.0041 - rho-dist-dist_loss: -3.1799e-04 - beta-dist_loss: -0.0549\n",
      "Epoch 7/8\n",
      "32/32 [==============================] - 0s 1ms/step - loss: -0.0562 - R-dist-dist_loss: 0.0032 - T-dist-dist_loss: -0.0041 - rho-dist-dist_loss: -3.1470e-04 - beta-dist_loss: -0.0550\n",
      "Epoch 8/8\n",
      "32/32 [==============================] - 0s 1ms/step - loss: -0.0562 - R-dist-dist_loss: 0.0032 - T-dist-dist_loss: -0.0041 - rho-dist-dist_loss: -3.1119e-04 - beta-dist_loss: -0.0550\n",
      "Epoch 1/8\n",
      "32/32 [==============================] - 0s 594us/step - loss: 0.0469 - weight-entropy: 3.1723\n",
      "Epoch 2/8\n",
      "32/32 [==============================] - 0s 563us/step - loss: 0.0461 - weight-entropy: 3.1626\n",
      "Epoch 3/8\n",
      "32/32 [==============================] - 0s 563us/step - loss: 0.0458 - weight-entropy: 3.1623\n",
      "Epoch 4/8\n",
      "32/32 [==============================] - 0s 563us/step - loss: 0.0450 - weight-entropy: 3.1479\n",
      "Epoch 5/8\n",
      "32/32 [==============================] - 0s 563us/step - loss: 0.0445 - weight-entropy: 3.1398\n",
      "Epoch 6/8\n",
      "32/32 [==============================] - 0s 562us/step - loss: 0.0438 - weight-entropy: 3.1219\n",
      "Epoch 7/8\n",
      "32/32 [==============================] - 0s 595us/step - loss: 0.0435 - weight-entropy: 3.1160\n",
      "Epoch 8/8\n",
      "32/32 [==============================] - 0s 531us/step - loss: 0.0428 - weight-entropy: 3.1026\n",
      "Epoch 1/8\n",
      "32/32 [==============================] - 0s 1ms/step - loss: -0.0567 - R-dist-dist_loss: 0.0032 - T-dist-dist_loss: -0.0043 - rho-dist-dist_loss: -3.0144e-04 - beta-dist_loss: -0.0552\n",
      "Epoch 2/8\n",
      "32/32 [==============================] - 0s 1ms/step - loss: -0.0566 - R-dist-dist_loss: 0.0032 - T-dist-dist_loss: -0.0043 - rho-dist-dist_loss: -2.8698e-04 - beta-dist_loss: -0.0552\n",
      "Epoch 3/8\n",
      "32/32 [==============================] - 0s 1ms/step - loss: -0.0566 - R-dist-dist_loss: 0.0032 - T-dist-dist_loss: -0.0043 - rho-dist-dist_loss: -2.9628e-04 - beta-dist_loss: -0.0552\n",
      "Epoch 4/8\n",
      "32/32 [==============================] - 0s 1ms/step - loss: -0.0567 - R-dist-dist_loss: 0.0032 - T-dist-dist_loss: -0.0043 - rho-dist-dist_loss: -2.9273e-04 - beta-dist_loss: -0.0552\n",
      "Epoch 5/8\n",
      "32/32 [==============================] - 0s 1ms/step - loss: -0.0567 - R-dist-dist_loss: 0.0032 - T-dist-dist_loss: -0.0043 - rho-dist-dist_loss: -2.9303e-04 - beta-dist_loss: -0.0553\n",
      "Epoch 6/8\n",
      "32/32 [==============================] - 0s 1ms/step - loss: -0.0565 - R-dist-dist_loss: 0.0032 - T-dist-dist_loss: -0.0043 - rho-dist-dist_loss: -2.9736e-04 - beta-dist_loss: -0.0551\n",
      "Epoch 7/8\n",
      "32/32 [==============================] - 0s 1ms/step - loss: -0.0567 - R-dist-dist_loss: 0.0032 - T-dist-dist_loss: -0.0043 - rho-dist-dist_loss: -2.9453e-04 - beta-dist_loss: -0.0553\n",
      "Epoch 8/8\n",
      "32/32 [==============================] - 0s 1ms/step - loss: -0.0568 - R-dist-dist_loss: 0.0032 - T-dist-dist_loss: -0.0044 - rho-dist-dist_loss: -2.9836e-04 - beta-dist_loss: -0.0553\n",
      "Epoch 1/8\n",
      "32/32 [==============================] - 0s 594us/step - loss: 0.0422 - weight-entropy: 3.0381\n",
      "Epoch 2/8\n",
      "32/32 [==============================] - 0s 594us/step - loss: 0.0419 - weight-entropy: 3.0316\n",
      "Epoch 3/8\n",
      "32/32 [==============================] - 0s 563us/step - loss: 0.0408 - weight-entropy: 3.0370\n",
      "Epoch 4/8\n",
      "32/32 [==============================] - 0s 562us/step - loss: 0.0408 - weight-entropy: 3.0334\n",
      "Epoch 5/8\n",
      "32/32 [==============================] - 0s 562us/step - loss: 0.0402 - weight-entropy: 3.0265\n",
      "Epoch 6/8\n",
      "32/32 [==============================] - 0s 562us/step - loss: 0.0396 - weight-entropy: 3.0247\n",
      "Epoch 7/8\n",
      "32/32 [==============================] - 0s 563us/step - loss: 0.0392 - weight-entropy: 3.0182\n",
      "Epoch 8/8\n",
      "32/32 [==============================] - 0s 594us/step - loss: 0.0387 - weight-entropy: 3.0161\n",
      "Epoch 1/8\n",
      "32/32 [==============================] - 0s 1ms/step - loss: -0.0573 - R-dist-dist_loss: 0.0033 - T-dist-dist_loss: -0.0045 - rho-dist-dist_loss: -2.8638e-04 - beta-dist_loss: -0.0557\n",
      "Epoch 2/8\n",
      "32/32 [==============================] - 0s 1ms/step - loss: -0.0575 - R-dist-dist_loss: 0.0033 - T-dist-dist_loss: -0.0045 - rho-dist-dist_loss: -2.8612e-04 - beta-dist_loss: -0.0560\n",
      "Epoch 3/8\n",
      "32/32 [==============================] - 0s 1ms/step - loss: -0.0573 - R-dist-dist_loss: 0.0033 - T-dist-dist_loss: -0.0045 - rho-dist-dist_loss: -2.8255e-04 - beta-dist_loss: -0.0558\n",
      "Epoch 4/8\n",
      "32/32 [==============================] - 0s 1ms/step - loss: -0.0574 - R-dist-dist_loss: 0.0033 - T-dist-dist_loss: -0.0045 - rho-dist-dist_loss: -2.8453e-04 - beta-dist_loss: -0.0559\n",
      "Epoch 5/8\n",
      "32/32 [==============================] - 0s 1ms/step - loss: -0.0575 - R-dist-dist_loss: 0.0033 - T-dist-dist_loss: -0.0045 - rho-dist-dist_loss: -2.8365e-04 - beta-dist_loss: -0.0560\n",
      "Epoch 6/8\n",
      "32/32 [==============================] - 0s 1ms/step - loss: -0.0575 - R-dist-dist_loss: 0.0033 - T-dist-dist_loss: -0.0045 - rho-dist-dist_loss: -2.8848e-04 - beta-dist_loss: -0.0559\n",
      "Epoch 7/8\n",
      "32/32 [==============================] - 0s 1ms/step - loss: -0.0573 - R-dist-dist_loss: 0.0033 - T-dist-dist_loss: -0.0045 - rho-dist-dist_loss: -2.8932e-04 - beta-dist_loss: -0.0558\n",
      "Epoch 8/8\n",
      "32/32 [==============================] - 0s 1ms/step - loss: -0.0574 - R-dist-dist_loss: 0.0033 - T-dist-dist_loss: -0.0045 - rho-dist-dist_loss: -2.8353e-04 - beta-dist_loss: -0.0559\n",
      "Epoch 1/8\n",
      "32/32 [==============================] - 0s 594us/step - loss: 0.0387 - weight-entropy: 2.9814\n",
      "Epoch 2/8\n",
      "32/32 [==============================] - 0s 594us/step - loss: 0.0382 - weight-entropy: 2.9775\n",
      "Epoch 3/8\n",
      "32/32 [==============================] - 0s 563us/step - loss: 0.0378 - weight-entropy: 2.9642\n",
      "Epoch 4/8\n",
      "32/32 [==============================] - 0s 594us/step - loss: 0.0374 - weight-entropy: 2.9626\n",
      "Epoch 5/8\n",
      "32/32 [==============================] - 0s 594us/step - loss: 0.0377 - weight-entropy: 2.9622\n",
      "Epoch 6/8\n",
      "32/32 [==============================] - 0s 562us/step - loss: 0.0369 - weight-entropy: 2.9408\n",
      "Epoch 7/8\n",
      "32/32 [==============================] - 0s 531us/step - loss: 0.0367 - weight-entropy: 2.9396\n",
      "Epoch 8/8\n",
      "32/32 [==============================] - 0s 594us/step - loss: 0.0362 - weight-entropy: 2.9257\n",
      "Epoch 1/8\n",
      "32/32 [==============================] - 0s 1ms/step - loss: -0.0557 - R-dist-dist_loss: 0.0032 - T-dist-dist_loss: -0.0046 - rho-dist-dist_loss: -2.6982e-04 - beta-dist_loss: -0.0541\n",
      "Epoch 2/8\n",
      "32/32 [==============================] - 0s 1ms/step - loss: -0.0557 - R-dist-dist_loss: 0.0032 - T-dist-dist_loss: -0.0046 - rho-dist-dist_loss: -2.7196e-04 - beta-dist_loss: -0.0540\n",
      "Epoch 3/8\n",
      "32/32 [==============================] - 0s 1ms/step - loss: -0.0556 - R-dist-dist_loss: 0.0032 - T-dist-dist_loss: -0.0046 - rho-dist-dist_loss: -2.7574e-04 - beta-dist_loss: -0.0540\n",
      "Epoch 4/8\n"
     ]
    },
    {
     "name": "stdout",
     "output_type": "stream",
     "text": [
      "32/32 [==============================] - 0s 1ms/step - loss: -0.0557 - R-dist-dist_loss: 0.0032 - T-dist-dist_loss: -0.0046 - rho-dist-dist_loss: -2.6914e-04 - beta-dist_loss: -0.0541\n",
      "Epoch 5/8\n",
      "32/32 [==============================] - 0s 1ms/step - loss: -0.0555 - R-dist-dist_loss: 0.0032 - T-dist-dist_loss: -0.0046 - rho-dist-dist_loss: -2.7329e-04 - beta-dist_loss: -0.0539\n",
      "Epoch 6/8\n",
      "32/32 [==============================] - 0s 1ms/step - loss: -0.0557 - R-dist-dist_loss: 0.0032 - T-dist-dist_loss: -0.0046 - rho-dist-dist_loss: -2.7481e-04 - beta-dist_loss: -0.0540\n",
      "Epoch 7/8\n",
      "32/32 [==============================] - 0s 1ms/step - loss: -0.0555 - R-dist-dist_loss: 0.0032 - T-dist-dist_loss: -0.0046 - rho-dist-dist_loss: -2.7303e-04 - beta-dist_loss: -0.0539\n",
      "Epoch 8/8\n",
      "32/32 [==============================] - 0s 1ms/step - loss: -0.0553 - R-dist-dist_loss: 0.0032 - T-dist-dist_loss: -0.0046 - rho-dist-dist_loss: -2.7559e-04 - beta-dist_loss: -0.0537\n",
      "Epoch 1/8\n",
      "32/32 [==============================] - 0s 562us/step - loss: 0.0358 - weight-entropy: 2.8558\n",
      "Epoch 2/8\n",
      "32/32 [==============================] - 0s 563us/step - loss: 0.0350 - weight-entropy: 2.8372\n",
      "Epoch 3/8\n",
      "32/32 [==============================] - 0s 594us/step - loss: 0.0348 - weight-entropy: 2.8275\n",
      "Epoch 4/8\n",
      "32/32 [==============================] - 0s 562us/step - loss: 0.0348 - weight-entropy: 2.8544\n",
      "Epoch 5/8\n",
      "32/32 [==============================] - 0s 563us/step - loss: 0.0343 - weight-entropy: 2.8153\n",
      "Epoch 6/8\n",
      "32/32 [==============================] - 0s 562us/step - loss: 0.0338 - weight-entropy: 2.8193\n",
      "Epoch 7/8\n",
      "32/32 [==============================] - 0s 594us/step - loss: 0.0339 - weight-entropy: 2.7997\n",
      "Epoch 8/8\n",
      "32/32 [==============================] - 0s 562us/step - loss: 0.0330 - weight-entropy: 2.7955\n",
      "Epoch 1/8\n",
      "32/32 [==============================] - 0s 1ms/step - loss: -0.0570 - R-dist-dist_loss: 0.0034 - T-dist-dist_loss: -0.0047 - rho-dist-dist_loss: -2.4252e-04 - beta-dist_loss: -0.0555\n",
      "Epoch 2/8\n",
      "32/32 [==============================] - 0s 1ms/step - loss: -0.0570 - R-dist-dist_loss: 0.0035 - T-dist-dist_loss: -0.0047 - rho-dist-dist_loss: -2.3827e-04 - beta-dist_loss: -0.0555\n",
      "Epoch 3/8\n",
      "32/32 [==============================] - 0s 1ms/step - loss: -0.0569 - R-dist-dist_loss: 0.0035 - T-dist-dist_loss: -0.0047 - rho-dist-dist_loss: -2.4166e-04 - beta-dist_loss: -0.0555\n",
      "Epoch 4/8\n",
      "32/32 [==============================] - 0s 1ms/step - loss: -0.0574 - R-dist-dist_loss: 0.0035 - T-dist-dist_loss: -0.0047 - rho-dist-dist_loss: -2.3702e-04 - beta-dist_loss: -0.0560\n",
      "Epoch 5/8\n",
      "32/32 [==============================] - 0s 1ms/step - loss: -0.0568 - R-dist-dist_loss: 0.0035 - T-dist-dist_loss: -0.0047 - rho-dist-dist_loss: -2.4205e-04 - beta-dist_loss: -0.0553\n",
      "Epoch 6/8\n",
      "32/32 [==============================] - 0s 1ms/step - loss: -0.0570 - R-dist-dist_loss: 0.0034 - T-dist-dist_loss: -0.0047 - rho-dist-dist_loss: -2.3707e-04 - beta-dist_loss: -0.0555\n",
      "Epoch 7/8\n",
      "32/32 [==============================] - 0s 1ms/step - loss: -0.0569 - R-dist-dist_loss: 0.0035 - T-dist-dist_loss: -0.0047 - rho-dist-dist_loss: -2.4742e-04 - beta-dist_loss: -0.0555\n",
      "Epoch 8/8\n",
      "32/32 [==============================] - 0s 1ms/step - loss: -0.0568 - R-dist-dist_loss: 0.0035 - T-dist-dist_loss: -0.0047 - rho-dist-dist_loss: -2.4179e-04 - beta-dist_loss: -0.0553\n",
      "Epoch 1/8\n",
      "32/32 [==============================] - 0s 563us/step - loss: 0.0328 - weight-entropy: 2.8130\n",
      "Epoch 2/8\n",
      "32/32 [==============================] - 0s 563us/step - loss: 0.0325 - weight-entropy: 2.8024\n",
      "Epoch 3/8\n",
      "32/32 [==============================] - 0s 562us/step - loss: 0.0320 - weight-entropy: 2.7672\n",
      "Epoch 4/8\n",
      "32/32 [==============================] - 0s 563us/step - loss: 0.0318 - weight-entropy: 2.7749\n",
      "Epoch 5/8\n",
      "32/32 [==============================] - 0s 594us/step - loss: 0.0313 - weight-entropy: 2.7797\n",
      "Epoch 6/8\n",
      "32/32 [==============================] - 0s 562us/step - loss: 0.0313 - weight-entropy: 2.7426\n",
      "Epoch 7/8\n",
      "32/32 [==============================] - 0s 594us/step - loss: 0.0311 - weight-entropy: 2.7524\n",
      "Epoch 8/8\n",
      "32/32 [==============================] - 0s 562us/step - loss: 0.0306 - weight-entropy: 2.7438\n",
      "Epoch 1/8\n",
      "32/32 [==============================] - 0s 1ms/step - loss: -0.0577 - R-dist-dist_loss: 0.0034 - T-dist-dist_loss: -0.0048 - rho-dist-dist_loss: -2.3970e-04 - beta-dist_loss: -0.0560\n",
      "Epoch 2/8\n",
      "32/32 [==============================] - 0s 1ms/step - loss: -0.0576 - R-dist-dist_loss: 0.0034 - T-dist-dist_loss: -0.0048 - rho-dist-dist_loss: -2.5934e-04 - beta-dist_loss: -0.0559\n",
      "Epoch 3/8\n",
      "32/32 [==============================] - 0s 1ms/step - loss: -0.0580 - R-dist-dist_loss: 0.0033 - T-dist-dist_loss: -0.0048 - rho-dist-dist_loss: -2.4118e-04 - beta-dist_loss: -0.0562\n",
      "Epoch 4/8\n",
      "32/32 [==============================] - 0s 1ms/step - loss: -0.0577 - R-dist-dist_loss: 0.0034 - T-dist-dist_loss: -0.0048 - rho-dist-dist_loss: -2.4708e-04 - beta-dist_loss: -0.0560\n",
      "Epoch 5/8\n",
      "32/32 [==============================] - 0s 1ms/step - loss: -0.0578 - R-dist-dist_loss: 0.0033 - T-dist-dist_loss: -0.0048 - rho-dist-dist_loss: -2.4740e-04 - beta-dist_loss: -0.0561\n",
      "Epoch 6/8\n",
      "32/32 [==============================] - 0s 1ms/step - loss: -0.0579 - R-dist-dist_loss: 0.0034 - T-dist-dist_loss: -0.0048 - rho-dist-dist_loss: -2.5008e-04 - beta-dist_loss: -0.0561\n",
      "Epoch 7/8\n",
      "32/32 [==============================] - 0s 1ms/step - loss: -0.0577 - R-dist-dist_loss: 0.0033 - T-dist-dist_loss: -0.0048 - rho-dist-dist_loss: -2.4760e-04 - beta-dist_loss: -0.0560\n",
      "Epoch 8/8\n",
      "32/32 [==============================] - 0s 1ms/step - loss: -0.0577 - R-dist-dist_loss: 0.0033 - T-dist-dist_loss: -0.0048 - rho-dist-dist_loss: -2.5004e-04 - beta-dist_loss: -0.0560\n",
      "Epoch 1/8\n",
      "32/32 [==============================] - 0s 593us/step - loss: 0.0291 - weight-entropy: 2.7476\n",
      "Epoch 2/8\n",
      "32/32 [==============================] - 0s 625us/step - loss: 0.0287 - weight-entropy: 2.7568\n",
      "Epoch 3/8\n",
      "32/32 [==============================] - 0s 562us/step - loss: 0.0283 - weight-entropy: 2.7401\n",
      "Epoch 4/8\n",
      "32/32 [==============================] - 0s 594us/step - loss: 0.0286 - weight-entropy: 2.7292\n",
      "Epoch 5/8\n",
      "32/32 [==============================] - 0s 594us/step - loss: 0.0276 - weight-entropy: 2.7021\n",
      "Epoch 6/8\n",
      "32/32 [==============================] - 0s 562us/step - loss: 0.0273 - weight-entropy: 2.6994\n",
      "Epoch 7/8\n",
      "32/32 [==============================] - 0s 562us/step - loss: 0.0278 - weight-entropy: 2.7123\n",
      "Epoch 8/8\n",
      "32/32 [==============================] - 0s 594us/step - loss: 0.0270 - weight-entropy: 2.6920\n",
      "Epoch 1/8\n",
      "32/32 [==============================] - 0s 1ms/step - loss: -0.0566 - R-dist-dist_loss: 0.0032 - T-dist-dist_loss: -0.0051 - rho-dist-dist_loss: -2.7030e-04 - beta-dist_loss: -0.0545\n",
      "Epoch 2/8\n",
      "32/32 [==============================] - 0s 1ms/step - loss: -0.0565 - R-dist-dist_loss: 0.0033 - T-dist-dist_loss: -0.0051 - rho-dist-dist_loss: -2.7653e-04 - beta-dist_loss: -0.0545\n",
      "Epoch 3/8\n",
      "32/32 [==============================] - 0s 1ms/step - loss: -0.0564 - R-dist-dist_loss: 0.0033 - T-dist-dist_loss: -0.0051 - rho-dist-dist_loss: -2.7631e-04 - beta-dist_loss: -0.0544\n",
      "Epoch 4/8\n",
      "32/32 [==============================] - 0s 1ms/step - loss: -0.0567 - R-dist-dist_loss: 0.0033 - T-dist-dist_loss: -0.0051 - rho-dist-dist_loss: -2.7684e-04 - beta-dist_loss: -0.0546\n",
      "Epoch 5/8\n",
      "32/32 [==============================] - 0s 1ms/step - loss: -0.0565 - R-dist-dist_loss: 0.0033 - T-dist-dist_loss: -0.0051 - rho-dist-dist_loss: -2.7740e-04 - beta-dist_loss: -0.0545\n",
      "Epoch 6/8\n",
      "32/32 [==============================] - 0s 1ms/step - loss: -0.0570 - R-dist-dist_loss: 0.0033 - T-dist-dist_loss: -0.0051 - rho-dist-dist_loss: -2.8746e-04 - beta-dist_loss: -0.0549\n",
      "Epoch 7/8\n",
      "32/32 [==============================] - 0s 1ms/step - loss: -0.0566 - R-dist-dist_loss: 0.0033 - T-dist-dist_loss: -0.0050 - rho-dist-dist_loss: -2.7249e-04 - beta-dist_loss: -0.0545\n",
      "Epoch 8/8\n",
      "32/32 [==============================] - 0s 1ms/step - loss: -0.0567 - R-dist-dist_loss: 0.0032 - T-dist-dist_loss: -0.0051 - rho-dist-dist_loss: -2.8531e-04 - beta-dist_loss: -0.0546\n",
      "Epoch 1/8\n"
     ]
    },
    {
     "name": "stdout",
     "output_type": "stream",
     "text": [
      " 1/32 [..............................] - ETA: 0s - loss: 0.0290 - weight-entropy: 2.7796WARNING:tensorflow:Callbacks method `on_train_batch_end` is slow compared to the batch time (batch time: 0.0000s vs `on_train_batch_end` time: 0.0010s). Check your callbacks.\n",
      "32/32 [==============================] - 0s 625us/step - loss: 0.0261 - weight-entropy: 2.4806\n",
      "Epoch 2/8\n",
      "32/32 [==============================] - 0s 562us/step - loss: 0.0262 - weight-entropy: 2.4719\n",
      "Epoch 3/8\n",
      "32/32 [==============================] - 0s 563us/step - loss: 0.0258 - weight-entropy: 2.4477\n",
      "Epoch 4/8\n",
      "32/32 [==============================] - 0s 594us/step - loss: 0.0260 - weight-entropy: 2.5117\n",
      "Epoch 5/8\n",
      "32/32 [==============================] - 0s 531us/step - loss: 0.0263 - weight-entropy: 2.4762\n",
      "Epoch 6/8\n",
      "32/32 [==============================] - 0s 594us/step - loss: 0.0250 - weight-entropy: 2.4380\n",
      "Epoch 7/8\n",
      "32/32 [==============================] - 0s 562us/step - loss: 0.0256 - weight-entropy: 2.4712\n",
      "Epoch 8/8\n",
      "32/32 [==============================] - 0s 562us/step - loss: 0.0252 - weight-entropy: 2.4611\n",
      "Epoch 1/8\n",
      "32/32 [==============================] - 0s 1ms/step - loss: -0.0534 - R-dist-dist_loss: 0.0031 - T-dist-dist_loss: -0.0051 - rho-dist-dist_loss: -3.3065e-04 - beta-dist_loss: -0.0511\n",
      "Epoch 2/8\n",
      "32/32 [==============================] - 0s 1ms/step - loss: -0.0534 - R-dist-dist_loss: 0.0030 - T-dist-dist_loss: -0.0051 - rho-dist-dist_loss: -3.4820e-04 - beta-dist_loss: -0.0511\n",
      "Epoch 3/8\n",
      "32/32 [==============================] - 0s 1ms/step - loss: -0.0533 - R-dist-dist_loss: 0.0031 - T-dist-dist_loss: -0.0051 - rho-dist-dist_loss: -3.3087e-04 - beta-dist_loss: -0.0510\n",
      "Epoch 4/8\n",
      "32/32 [==============================] - 0s 1ms/step - loss: -0.0532 - R-dist-dist_loss: 0.0031 - T-dist-dist_loss: -0.0051 - rho-dist-dist_loss: -3.3356e-04 - beta-dist_loss: -0.0508\n",
      "Epoch 5/8\n",
      "32/32 [==============================] - 0s 1ms/step - loss: -0.0535 - R-dist-dist_loss: 0.0030 - T-dist-dist_loss: -0.0051 - rho-dist-dist_loss: -3.3144e-04 - beta-dist_loss: -0.0511\n",
      "Epoch 6/8\n",
      "32/32 [==============================] - 0s 1ms/step - loss: -0.0535 - R-dist-dist_loss: 0.0030 - T-dist-dist_loss: -0.0051 - rho-dist-dist_loss: -3.5022e-04 - beta-dist_loss: -0.0511\n",
      "Epoch 7/8\n",
      "32/32 [==============================] - 0s 1ms/step - loss: -0.0533 - R-dist-dist_loss: 0.0031 - T-dist-dist_loss: -0.0051 - rho-dist-dist_loss: -3.3427e-04 - beta-dist_loss: -0.0510\n",
      "Epoch 8/8\n",
      "32/32 [==============================] - 0s 1ms/step - loss: -0.0536 - R-dist-dist_loss: 0.0031 - T-dist-dist_loss: -0.0051 - rho-dist-dist_loss: -3.3991e-04 - beta-dist_loss: -0.0512\n",
      "Epoch 1/8\n",
      "32/32 [==============================] - 0s 594us/step - loss: 0.0246 - weight-entropy: 2.6229\n",
      "Epoch 2/8\n",
      "32/32 [==============================] - 0s 562us/step - loss: 0.0240 - weight-entropy: 2.6046\n",
      "Epoch 3/8\n",
      "32/32 [==============================] - 0s 563us/step - loss: 0.0238 - weight-entropy: 2.6075\n",
      "Epoch 4/8\n",
      "32/32 [==============================] - 0s 625us/step - loss: 0.0232 - weight-entropy: 2.5785\n",
      "Epoch 5/8\n",
      "32/32 [==============================] - 0s 562us/step - loss: 0.0233 - weight-entropy: 2.5830\n",
      "Epoch 6/8\n",
      "32/32 [==============================] - 0s 562us/step - loss: 0.0239 - weight-entropy: 2.6075\n",
      "Epoch 7/8\n",
      "32/32 [==============================] - 0s 594us/step - loss: 0.0232 - weight-entropy: 2.5769\n",
      "Epoch 8/8\n",
      "32/32 [==============================] - 0s 562us/step - loss: 0.0228 - weight-entropy: 2.5581\n",
      "Epoch 1/8\n",
      "32/32 [==============================] - 0s 1ms/step - loss: -0.0585 - R-dist-dist_loss: 0.0033 - T-dist-dist_loss: -0.0051 - rho-dist-dist_loss: -3.5781e-04 - beta-dist_loss: -0.0563\n",
      "Epoch 2/8\n",
      "32/32 [==============================] - 0s 1ms/step - loss: -0.0588 - R-dist-dist_loss: 0.0032 - T-dist-dist_loss: -0.0051 - rho-dist-dist_loss: -3.6806e-04 - beta-dist_loss: -0.0565\n",
      "Epoch 3/8\n",
      "32/32 [==============================] - 0s 1ms/step - loss: -0.0589 - R-dist-dist_loss: 0.0032 - T-dist-dist_loss: -0.0051 - rho-dist-dist_loss: -3.6243e-04 - beta-dist_loss: -0.0566\n",
      "Epoch 4/8\n",
      "32/32 [==============================] - 0s 1ms/step - loss: -0.0587 - R-dist-dist_loss: 0.0032 - T-dist-dist_loss: -0.0051 - rho-dist-dist_loss: -3.5956e-04 - beta-dist_loss: -0.0565\n",
      "Epoch 5/8\n",
      "32/32 [==============================] - 0s 1ms/step - loss: -0.0590 - R-dist-dist_loss: 0.0032 - T-dist-dist_loss: -0.0051 - rho-dist-dist_loss: -3.6745e-04 - beta-dist_loss: -0.0567\n",
      "Epoch 6/8\n",
      "32/32 [==============================] - 0s 1ms/step - loss: -0.0589 - R-dist-dist_loss: 0.0032 - T-dist-dist_loss: -0.0051 - rho-dist-dist_loss: -3.5774e-04 - beta-dist_loss: -0.0567\n",
      "Epoch 7/8\n",
      "32/32 [==============================] - 0s 1ms/step - loss: -0.0589 - R-dist-dist_loss: 0.0032 - T-dist-dist_loss: -0.0051 - rho-dist-dist_loss: -3.6433e-04 - beta-dist_loss: -0.0566\n",
      "Epoch 8/8\n",
      "32/32 [==============================] - 0s 1ms/step - loss: -0.0588 - R-dist-dist_loss: 0.0032 - T-dist-dist_loss: -0.0051 - rho-dist-dist_loss: -3.7042e-04 - beta-dist_loss: -0.0566\n",
      "Epoch 1/8\n",
      "32/32 [==============================] - 0s 625us/step - loss: 0.0232 - weight-entropy: 2.7000\n",
      "Epoch 2/8\n",
      "32/32 [==============================] - 0s 562us/step - loss: 0.0225 - weight-entropy: 2.6506\n",
      "Epoch 3/8\n",
      "32/32 [==============================] - 0s 562us/step - loss: 0.0223 - weight-entropy: 2.6582\n",
      "Epoch 4/8\n",
      "32/32 [==============================] - 0s 562us/step - loss: 0.0228 - weight-entropy: 2.6738\n",
      "Epoch 5/8\n",
      "32/32 [==============================] - 0s 562us/step - loss: 0.0216 - weight-entropy: 2.6393\n",
      "Epoch 6/8\n",
      "32/32 [==============================] - 0s 562us/step - loss: 0.0218 - weight-entropy: 2.6640\n",
      "Epoch 7/8\n",
      "32/32 [==============================] - 0s 562us/step - loss: 0.0215 - weight-entropy: 2.6082\n",
      "Epoch 8/8\n",
      "32/32 [==============================] - 0s 531us/step - loss: 0.0214 - weight-entropy: 2.6259\n",
      "Epoch 1/8\n",
      "32/32 [==============================] - 0s 1ms/step - loss: -0.0588 - R-dist-dist_loss: 0.0034 - T-dist-dist_loss: -0.0047 - rho-dist-dist_loss: -3.5726e-04 - beta-dist_loss: -0.0571\n",
      "Epoch 2/8\n",
      "32/32 [==============================] - 0s 1ms/step - loss: -0.0588 - R-dist-dist_loss: 0.0034 - T-dist-dist_loss: -0.0048 - rho-dist-dist_loss: -3.7924e-04 - beta-dist_loss: -0.0571\n",
      "Epoch 3/8\n",
      "32/32 [==============================] - 0s 1ms/step - loss: -0.0589 - R-dist-dist_loss: 0.0033 - T-dist-dist_loss: -0.0048 - rho-dist-dist_loss: -3.7727e-04 - beta-dist_loss: -0.0571\n",
      "Epoch 4/8\n",
      "32/32 [==============================] - 0s 1ms/step - loss: -0.0590 - R-dist-dist_loss: 0.0033 - T-dist-dist_loss: -0.0048 - rho-dist-dist_loss: -3.7450e-04 - beta-dist_loss: -0.0572\n",
      "Epoch 5/8\n",
      "32/32 [==============================] - 0s 1ms/step - loss: -0.0588 - R-dist-dist_loss: 0.0034 - T-dist-dist_loss: -0.0048 - rho-dist-dist_loss: -3.7375e-04 - beta-dist_loss: -0.0570\n",
      "Epoch 6/8\n",
      "32/32 [==============================] - 0s 1ms/step - loss: -0.0590 - R-dist-dist_loss: 0.0033 - T-dist-dist_loss: -0.0048 - rho-dist-dist_loss: -3.7893e-04 - beta-dist_loss: -0.0572\n",
      "Epoch 7/8\n",
      "32/32 [==============================] - 0s 1ms/step - loss: -0.0588 - R-dist-dist_loss: 0.0034 - T-dist-dist_loss: -0.0048 - rho-dist-dist_loss: -3.7839e-04 - beta-dist_loss: -0.0570\n",
      "Epoch 8/8\n",
      "32/32 [==============================] - 0s 1ms/step - loss: -0.0589 - R-dist-dist_loss: 0.0034 - T-dist-dist_loss: -0.0048 - rho-dist-dist_loss: -3.7305e-04 - beta-dist_loss: -0.0571\n",
      "Epoch 1/8\n",
      "32/32 [==============================] - 0s 594us/step - loss: 0.0200 - weight-entropy: 2.4697\n",
      "Epoch 2/8\n",
      "32/32 [==============================] - 0s 594us/step - loss: 0.0196 - weight-entropy: 2.4447\n",
      "Epoch 3/8\n",
      "32/32 [==============================] - 0s 594us/step - loss: 0.0196 - weight-entropy: 2.4763\n",
      "Epoch 4/8\n",
      "32/32 [==============================] - 0s 562us/step - loss: 0.0193 - weight-entropy: 2.4515\n",
      "Epoch 5/8\n",
      "32/32 [==============================] - 0s 563us/step - loss: 0.0191 - weight-entropy: 2.4256\n",
      "Epoch 6/8\n",
      "32/32 [==============================] - 0s 594us/step - loss: 0.0187 - weight-entropy: 2.4014\n",
      "Epoch 7/8\n",
      "32/32 [==============================] - 0s 531us/step - loss: 0.0190 - weight-entropy: 2.4598\n",
      "Epoch 8/8\n"
     ]
    },
    {
     "name": "stdout",
     "output_type": "stream",
     "text": [
      "32/32 [==============================] - 0s 563us/step - loss: 0.0192 - weight-entropy: 2.4507\n",
      "Epoch 1/8\n",
      "32/32 [==============================] - 0s 1ms/step - loss: -0.0592 - R-dist-dist_loss: 0.0036 - T-dist-dist_loss: -0.0049 - rho-dist-dist_loss: -3.7304e-04 - beta-dist_loss: -0.0575\n",
      "Epoch 2/8\n",
      "32/32 [==============================] - 0s 1ms/step - loss: -0.0585 - R-dist-dist_loss: 0.0040 - T-dist-dist_loss: -0.0050 - rho-dist-dist_loss: -3.4030e-04 - beta-dist_loss: -0.0572\n",
      "Epoch 3/8\n",
      "32/32 [==============================] - 0s 1ms/step - loss: -0.0597 - R-dist-dist_loss: 0.0035 - T-dist-dist_loss: -0.0050 - rho-dist-dist_loss: -3.9667e-04 - beta-dist_loss: -0.0577\n",
      "Epoch 4/8\n",
      "32/32 [==============================] - 0s 1ms/step - loss: -0.0594 - R-dist-dist_loss: 0.0035 - T-dist-dist_loss: -0.0050 - rho-dist-dist_loss: -3.6778e-04 - beta-dist_loss: -0.0575\n",
      "Epoch 5/8\n",
      "32/32 [==============================] - 0s 1ms/step - loss: -0.0604 - R-dist-dist_loss: 0.0034 - T-dist-dist_loss: -0.0050 - rho-dist-dist_loss: -3.6759e-04 - beta-dist_loss: -0.0584\n",
      "Epoch 6/8\n",
      "32/32 [==============================] - 0s 1ms/step - loss: -0.0591 - R-dist-dist_loss: 0.0036 - T-dist-dist_loss: -0.0050 - rho-dist-dist_loss: -4.0157e-04 - beta-dist_loss: -0.0573\n",
      "Epoch 7/8\n",
      "32/32 [==============================] - 0s 1ms/step - loss: -0.0586 - R-dist-dist_loss: 0.0035 - T-dist-dist_loss: -0.0050 - rho-dist-dist_loss: -3.8918e-04 - beta-dist_loss: -0.0567\n",
      "Epoch 8/8\n",
      "32/32 [==============================] - 0s 1ms/step - loss: -0.0597 - R-dist-dist_loss: 0.0034 - T-dist-dist_loss: -0.0051 - rho-dist-dist_loss: -4.1728e-04 - beta-dist_loss: -0.0576\n",
      "Epoch 1/8\n",
      "32/32 [==============================] - 0s 594us/step - loss: 0.0186 - weight-entropy: 2.1334\n",
      "Epoch 2/8\n",
      "32/32 [==============================] - 0s 594us/step - loss: 0.0187 - weight-entropy: 2.1063\n",
      "Epoch 3/8\n",
      "32/32 [==============================] - 0s 562us/step - loss: 0.0185 - weight-entropy: 2.1305\n",
      "Epoch 4/8\n",
      "32/32 [==============================] - 0s 594us/step - loss: 0.0181 - weight-entropy: 2.1574\n",
      "Epoch 5/8\n",
      "32/32 [==============================] - 0s 562us/step - loss: 0.0182 - weight-entropy: 2.1399\n",
      "Epoch 6/8\n",
      "32/32 [==============================] - 0s 562us/step - loss: 0.0180 - weight-entropy: 2.0617\n",
      "Epoch 7/8\n",
      "32/32 [==============================] - 0s 562us/step - loss: 0.0187 - weight-entropy: 2.1555\n",
      "Epoch 8/8\n",
      "32/32 [==============================] - 0s 562us/step - loss: 0.0179 - weight-entropy: 2.0982\n",
      "Epoch 1/8\n",
      "32/32 [==============================] - 0s 1ms/step - loss: -0.0492 - R-dist-dist_loss: 0.0033 - T-dist-dist_loss: -0.0053 - rho-dist-dist_loss: -1.9830e-04 - beta-dist_loss: -0.0470\n",
      "Epoch 2/8\n",
      "32/32 [==============================] - 0s 1ms/step - loss: -0.0469 - R-dist-dist_loss: 0.0033 - T-dist-dist_loss: -0.0054 - rho-dist-dist_loss: -1.7448e-04 - beta-dist_loss: -0.0446\n",
      "Epoch 3/8\n",
      "32/32 [==============================] - 0s 1ms/step - loss: -0.0487 - R-dist-dist_loss: 0.0032 - T-dist-dist_loss: -0.0054 - rho-dist-dist_loss: -1.5343e-04 - beta-dist_loss: -0.0463\n",
      "Epoch 4/8\n",
      "32/32 [==============================] - 0s 1ms/step - loss: -0.0496 - R-dist-dist_loss: 0.0032 - T-dist-dist_loss: -0.0054 - rho-dist-dist_loss: -1.9151e-04 - beta-dist_loss: -0.0472\n",
      "Epoch 5/8\n",
      "32/32 [==============================] - 0s 1ms/step - loss: -0.0487 - R-dist-dist_loss: 0.0032 - T-dist-dist_loss: -0.0054 - rho-dist-dist_loss: -1.8152e-04 - beta-dist_loss: -0.0463\n",
      "Epoch 6/8\n",
      "32/32 [==============================] - 0s 1ms/step - loss: -0.0491 - R-dist-dist_loss: 0.0032 - T-dist-dist_loss: -0.0054 - rho-dist-dist_loss: -1.8527e-04 - beta-dist_loss: -0.0467\n",
      "Epoch 7/8\n",
      "32/32 [==============================] - 0s 1ms/step - loss: -0.0491 - R-dist-dist_loss: 0.0031 - T-dist-dist_loss: -0.0054 - rho-dist-dist_loss: -1.9936e-04 - beta-dist_loss: -0.0466\n",
      "Epoch 8/8\n",
      "32/32 [==============================] - 0s 1ms/step - loss: -0.0500 - R-dist-dist_loss: 0.0032 - T-dist-dist_loss: -0.0054 - rho-dist-dist_loss: -1.7928e-04 - beta-dist_loss: -0.0476\n",
      "Epoch 1/8\n",
      " 1/32 [..............................] - ETA: 0s - loss: 0.0180 - weight-entropy: 2.6085WARNING:tensorflow:Callbacks method `on_train_batch_end` is slow compared to the batch time (batch time: 0.0000s vs `on_train_batch_end` time: 0.0010s). Check your callbacks.\n",
      "32/32 [==============================] - 0s 750us/step - loss: 0.0166 - weight-entropy: 2.2660\n",
      "Epoch 2/8\n",
      "32/32 [==============================] - 0s 750us/step - loss: 0.0169 - weight-entropy: 2.2867\n",
      "Epoch 3/8\n",
      "32/32 [==============================] - 0s 799us/step - loss: 0.0169 - weight-entropy: 2.2612\n",
      "Epoch 4/8\n",
      "32/32 [==============================] - 0s 1ms/step - loss: 0.0167 - weight-entropy: 2.2581\n",
      "Epoch 5/8\n",
      "32/32 [==============================] - 0s 906us/step - loss: 0.0160 - weight-entropy: 2.2330\n",
      "Epoch 6/8\n",
      "32/32 [==============================] - 0s 719us/step - loss: 0.0161 - weight-entropy: 2.2271\n",
      "Epoch 7/8\n",
      "32/32 [==============================] - 0s 656us/step - loss: 0.0165 - weight-entropy: 2.2759\n",
      "Epoch 8/8\n",
      "32/32 [==============================] - 0s 625us/step - loss: 0.0162 - weight-entropy: 2.2325\n",
      "Epoch 1/8\n",
      "32/32 [==============================] - 0s 1ms/step - loss: -0.0596 - R-dist-dist_loss: 0.0032 - T-dist-dist_loss: -0.0051 - rho-dist-dist_loss: -3.5802e-04 - beta-dist_loss: -0.0574\n",
      "Epoch 2/8\n",
      "32/32 [==============================] - 0s 2ms/step - loss: -0.0596 - R-dist-dist_loss: 0.0031 - T-dist-dist_loss: -0.0052 - rho-dist-dist_loss: -3.6879e-04 - beta-dist_loss: -0.0572\n",
      "Epoch 3/8\n",
      "32/32 [==============================] - 0s 2ms/step - loss: -0.0598 - R-dist-dist_loss: 0.0032 - T-dist-dist_loss: -0.0052 - rho-dist-dist_loss: -3.8050e-04 - beta-dist_loss: -0.0574\n",
      "Epoch 4/8\n",
      "32/32 [==============================] - 0s 2ms/step - loss: -0.0598 - R-dist-dist_loss: 0.0031 - T-dist-dist_loss: -0.0052 - rho-dist-dist_loss: -3.6666e-04 - beta-dist_loss: -0.0573\n",
      "Epoch 5/8\n",
      "32/32 [==============================] - 0s 1ms/step - loss: -0.0598 - R-dist-dist_loss: 0.0032 - T-dist-dist_loss: -0.0052 - rho-dist-dist_loss: -3.7298e-04 - beta-dist_loss: -0.0574\n",
      "Epoch 6/8\n",
      "32/32 [==============================] - 0s 2ms/step - loss: -0.0599 - R-dist-dist_loss: 0.0032 - T-dist-dist_loss: -0.0052 - rho-dist-dist_loss: -3.5544e-04 - beta-dist_loss: -0.0575\n",
      "Epoch 7/8\n",
      "32/32 [==============================] - 0s 1ms/step - loss: -0.0597 - R-dist-dist_loss: 0.0032 - T-dist-dist_loss: -0.0052 - rho-dist-dist_loss: -3.7626e-04 - beta-dist_loss: -0.0573\n",
      "Epoch 8/8\n",
      "32/32 [==============================] - 0s 1ms/step - loss: -0.0597 - R-dist-dist_loss: 0.0031 - T-dist-dist_loss: -0.0052 - rho-dist-dist_loss: -3.7107e-04 - beta-dist_loss: -0.0573\n",
      "Epoch 1/8\n",
      "32/32 [==============================] - 0s 625us/step - loss: 0.0162 - weight-entropy: 2.3132\n",
      "Epoch 2/8\n",
      "32/32 [==============================] - 0s 625us/step - loss: 0.0164 - weight-entropy: 2.2926\n",
      "Epoch 3/8\n",
      "32/32 [==============================] - 0s 656us/step - loss: 0.0158 - weight-entropy: 2.2926\n",
      "Epoch 4/8\n",
      "32/32 [==============================] - 0s 750us/step - loss: 0.0161 - weight-entropy: 2.2714\n",
      "Epoch 5/8\n",
      "32/32 [==============================] - 0s 644us/step - loss: 0.0156 - weight-entropy: 2.3740\n",
      "Epoch 6/8\n",
      "32/32 [==============================] - 0s 656us/step - loss: 0.0154 - weight-entropy: 2.2615\n",
      "Epoch 7/8\n",
      "32/32 [==============================] - 0s 719us/step - loss: 0.0152 - weight-entropy: 2.2675\n",
      "Epoch 8/8\n",
      "32/32 [==============================] - 0s 656us/step - loss: 0.0159 - weight-entropy: 2.2933\n",
      "Epoch 1/8\n",
      "32/32 [==============================] - 0s 1ms/step - loss: -0.0595 - R-dist-dist_loss: 0.0035 - T-dist-dist_loss: -0.0055 - rho-dist-dist_loss: -1.8639e-04 - beta-dist_loss: -0.0574\n",
      "Epoch 2/8\n",
      "32/32 [==============================] - 0s 1ms/step - loss: -0.0601 - R-dist-dist_loss: 0.0033 - T-dist-dist_loss: -0.0055 - rho-dist-dist_loss: -1.9985e-04 - beta-dist_loss: -0.0577\n",
      "Epoch 3/8\n",
      "32/32 [==============================] - 0s 1ms/step - loss: -0.0598 - R-dist-dist_loss: 0.0034 - T-dist-dist_loss: -0.0056 - rho-dist-dist_loss: -1.9285e-04 - beta-dist_loss: -0.0574\n",
      "Epoch 4/8\n"
     ]
    },
    {
     "name": "stdout",
     "output_type": "stream",
     "text": [
      "32/32 [==============================] - 0s 1ms/step - loss: -0.0600 - R-dist-dist_loss: 0.0034 - T-dist-dist_loss: -0.0055 - rho-dist-dist_loss: -1.8881e-04 - beta-dist_loss: -0.0577\n",
      "Epoch 5/8\n",
      "32/32 [==============================] - 0s 1ms/step - loss: -0.0603 - R-dist-dist_loss: 0.0033 - T-dist-dist_loss: -0.0056 - rho-dist-dist_loss: -2.0405e-04 - beta-dist_loss: -0.0579\n",
      "Epoch 6/8\n",
      "32/32 [==============================] - 0s 1ms/step - loss: -0.0598 - R-dist-dist_loss: 0.0033 - T-dist-dist_loss: -0.0056 - rho-dist-dist_loss: -2.0835e-04 - beta-dist_loss: -0.0573\n",
      "Epoch 7/8\n",
      "32/32 [==============================] - 0s 1ms/step - loss: -0.0600 - R-dist-dist_loss: 0.0034 - T-dist-dist_loss: -0.0056 - rho-dist-dist_loss: -2.1052e-04 - beta-dist_loss: -0.0576\n",
      "Epoch 8/8\n",
      "32/32 [==============================] - 0s 1ms/step - loss: -0.0600 - R-dist-dist_loss: 0.0033 - T-dist-dist_loss: -0.0056 - rho-dist-dist_loss: -2.1059e-04 - beta-dist_loss: -0.0576\n",
      "Epoch 1/8\n",
      "32/32 [==============================] - 0s 594us/step - loss: 0.0141 - weight-entropy: 2.0317\n",
      "Epoch 2/8\n",
      "32/32 [==============================] - 0s 625us/step - loss: 0.0136 - weight-entropy: 2.0784\n",
      "Epoch 3/8\n",
      "32/32 [==============================] - 0s 593us/step - loss: 0.0136 - weight-entropy: 2.0293\n",
      "Epoch 4/8\n",
      "32/32 [==============================] - 0s 625us/step - loss: 0.0130 - weight-entropy: 2.0065\n",
      "Epoch 5/8\n",
      "32/32 [==============================] - 0s 625us/step - loss: 0.0125 - weight-entropy: 2.0416\n",
      "Epoch 6/8\n",
      "32/32 [==============================] - 0s 594us/step - loss: 0.0125 - weight-entropy: 1.9919\n",
      "Epoch 7/8\n",
      "32/32 [==============================] - 0s 625us/step - loss: 0.0132 - weight-entropy: 2.0682\n",
      "Epoch 8/8\n",
      "32/32 [==============================] - 0s 594us/step - loss: 0.0128 - weight-entropy: 2.0392\n",
      "Epoch 1/8\n",
      "32/32 [==============================] - 0s 1ms/step - loss: -0.0508 - R-dist-dist_loss: 0.0032 - T-dist-dist_loss: -0.0055 - rho-dist-dist_loss: -1.7817e-04 - beta-dist_loss: -0.0484\n",
      "Epoch 2/8\n",
      "32/32 [==============================] - 0s 1ms/step - loss: -0.0505 - R-dist-dist_loss: 0.0030 - T-dist-dist_loss: -0.0055 - rho-dist-dist_loss: -2.6161e-04 - beta-dist_loss: -0.0477\n",
      "Epoch 3/8\n",
      "32/32 [==============================] - 0s 1ms/step - loss: -0.0544 - R-dist-dist_loss: 0.0028 - T-dist-dist_loss: -0.0055 - rho-dist-dist_loss: -2.4659e-04 - beta-dist_loss: -0.0514\n",
      "Epoch 4/8\n",
      "32/32 [==============================] - 0s 1ms/step - loss: -0.0488 - R-dist-dist_loss: 0.0028 - T-dist-dist_loss: -0.0055 - rho-dist-dist_loss: -2.5356e-04 - beta-dist_loss: -0.0459\n",
      "Epoch 5/8\n",
      "32/32 [==============================] - 0s 1ms/step - loss: -0.0519 - R-dist-dist_loss: 0.0029 - T-dist-dist_loss: -0.0055 - rho-dist-dist_loss: -2.7202e-04 - beta-dist_loss: -0.0489\n",
      "Epoch 6/8\n",
      "32/32 [==============================] - 0s 1ms/step - loss: -0.0521 - R-dist-dist_loss: 0.0030 - T-dist-dist_loss: -0.0055 - rho-dist-dist_loss: -2.4227e-04 - beta-dist_loss: -0.0493\n",
      "Epoch 7/8\n",
      "32/32 [==============================] - 0s 1ms/step - loss: -0.0530 - R-dist-dist_loss: 0.0029 - T-dist-dist_loss: -0.0055 - rho-dist-dist_loss: -2.6345e-04 - beta-dist_loss: -0.0501\n",
      "Epoch 8/8\n",
      "32/32 [==============================] - 0s 1ms/step - loss: -0.0505 - R-dist-dist_loss: 0.0030 - T-dist-dist_loss: -0.0055 - rho-dist-dist_loss: -3.0092e-04 - beta-dist_loss: -0.0476\n",
      "Epoch 1/8\n",
      " 1/32 [..............................] - ETA: 0s - loss: 0.0164 - weight-entropy: 2.5173WARNING:tensorflow:Callbacks method `on_train_batch_end` is slow compared to the batch time (batch time: 0.0000s vs `on_train_batch_end` time: 0.0010s). Check your callbacks.\n",
      "32/32 [==============================] - 0s 781us/step - loss: 0.0133 - weight-entropy: 2.1654\n",
      "Epoch 2/8\n",
      "32/32 [==============================] - 0s 719us/step - loss: 0.0131 - weight-entropy: 2.1367\n",
      "Epoch 3/8\n",
      "32/32 [==============================] - 0s 594us/step - loss: 0.0134 - weight-entropy: 2.1428\n",
      "Epoch 4/8\n",
      "32/32 [==============================] - 0s 594us/step - loss: 0.0131 - weight-entropy: 2.1414\n",
      "Epoch 5/8\n",
      "32/32 [==============================] - 0s 594us/step - loss: 0.0133 - weight-entropy: 2.1542\n",
      "Epoch 6/8\n",
      "32/32 [==============================] - 0s 594us/step - loss: 0.0126 - weight-entropy: 2.0900\n",
      "Epoch 7/8\n",
      "32/32 [==============================] - 0s 656us/step - loss: 0.0123 - weight-entropy: 2.0767\n",
      "Epoch 8/8\n",
      "32/32 [==============================] - 0s 656us/step - loss: 0.0124 - weight-entropy: 2.1314\n",
      "Epoch 1/8\n",
      "32/32 [==============================] - 0s 2ms/step - loss: -0.0572 - R-dist-dist_loss: 0.0033 - T-dist-dist_loss: -0.0051 - rho-dist-dist_loss: -1.5413e-04 - beta-dist_loss: -0.0553\n",
      "Epoch 2/8\n",
      "32/32 [==============================] - 0s 1ms/step - loss: -0.0578 - R-dist-dist_loss: 0.0029 - T-dist-dist_loss: -0.0052 - rho-dist-dist_loss: -2.8485e-04 - beta-dist_loss: -0.0552\n",
      "Epoch 3/8\n",
      "32/32 [==============================] - 0s 1ms/step - loss: -0.0586 - R-dist-dist_loss: 0.0029 - T-dist-dist_loss: -0.0052 - rho-dist-dist_loss: -2.8252e-04 - beta-dist_loss: -0.0559\n",
      "Epoch 4/8\n",
      "32/32 [==============================] - 0s 1ms/step - loss: -0.0583 - R-dist-dist_loss: 0.0028 - T-dist-dist_loss: -0.0052 - rho-dist-dist_loss: -2.6104e-04 - beta-dist_loss: -0.0556\n",
      "Epoch 5/8\n",
      "32/32 [==============================] - 0s 1ms/step - loss: -0.0560 - R-dist-dist_loss: 0.0031 - T-dist-dist_loss: -0.0052 - rho-dist-dist_loss: -2.8868e-04 - beta-dist_loss: -0.0536\n",
      "Epoch 6/8\n",
      "32/32 [==============================] - 0s 2ms/step - loss: -0.0567 - R-dist-dist_loss: 0.0030 - T-dist-dist_loss: -0.0052 - rho-dist-dist_loss: -2.9175e-04 - beta-dist_loss: -0.0542\n",
      "Epoch 7/8\n",
      "32/32 [==============================] - 0s 1ms/step - loss: -0.0574 - R-dist-dist_loss: 0.0029 - T-dist-dist_loss: -0.0052 - rho-dist-dist_loss: -2.7991e-04 - beta-dist_loss: -0.0549\n",
      "Epoch 8/8\n",
      "32/32 [==============================] - 0s 1ms/step - loss: -0.0562 - R-dist-dist_loss: 0.0030 - T-dist-dist_loss: -0.0052 - rho-dist-dist_loss: -2.9358e-04 - beta-dist_loss: -0.0537\n",
      "Epoch 1/8\n",
      "32/32 [==============================] - 0s 656us/step - loss: 0.0117 - weight-entropy: 1.8355\n",
      "Epoch 2/8\n",
      "32/32 [==============================] - 0s 656us/step - loss: 0.0109 - weight-entropy: 1.7593\n",
      "Epoch 3/8\n",
      "32/32 [==============================] - 0s 625us/step - loss: 0.0108 - weight-entropy: 1.7387\n",
      "Epoch 4/8\n",
      "32/32 [==============================] - 0s 625us/step - loss: 0.0105 - weight-entropy: 1.6864\n",
      "Epoch 5/8\n",
      "32/32 [==============================] - 0s 625us/step - loss: 0.0117 - weight-entropy: 1.7625\n",
      "Epoch 6/8\n",
      "32/32 [==============================] - 0s 594us/step - loss: 0.0110 - weight-entropy: 1.8118\n",
      "Epoch 7/8\n",
      "32/32 [==============================] - 0s 625us/step - loss: 0.0105 - weight-entropy: 1.7079\n",
      "Epoch 8/8\n",
      "32/32 [==============================] - 0s 625us/step - loss: 0.0102 - weight-entropy: 1.7041\n",
      "Epoch 1/8\n",
      "32/32 [==============================] - 0s 1ms/step - loss: -0.0573 - R-dist-dist_loss: 0.0054 - T-dist-dist_loss: -0.0057 - rho-dist-dist_loss: 3.4535e-06 - beta-dist_loss: -0.0570\n",
      "Epoch 2/8\n",
      "32/32 [==============================] - 0s 1ms/step - loss: -0.0603 - R-dist-dist_loss: 0.0041 - T-dist-dist_loss: -0.0057 - rho-dist-dist_loss: -2.0589e-04 - beta-dist_loss: -0.0584\n",
      "Epoch 3/8\n",
      "32/32 [==============================] - 0s 1ms/step - loss: -0.0603 - R-dist-dist_loss: 0.0038 - T-dist-dist_loss: -0.0058 - rho-dist-dist_loss: -2.1050e-04 - beta-dist_loss: -0.0581\n",
      "Epoch 4/8\n",
      "32/32 [==============================] - 0s 1ms/step - loss: -0.0603 - R-dist-dist_loss: 0.0039 - T-dist-dist_loss: -0.0057 - rho-dist-dist_loss: -2.4569e-04 - beta-dist_loss: -0.0583\n",
      "Epoch 5/8\n",
      "32/32 [==============================] - 0s 1ms/step - loss: -0.0605 - R-dist-dist_loss: 0.0039 - T-dist-dist_loss: -0.0058 - rho-dist-dist_loss: -2.2338e-04 - beta-dist_loss: -0.0584\n",
      "Epoch 6/8\n",
      "32/32 [==============================] - 0s 1ms/step - loss: -0.0603 - R-dist-dist_loss: 0.0039 - T-dist-dist_loss: -0.0057 - rho-dist-dist_loss: -2.5070e-04 - beta-dist_loss: -0.0582\n",
      "Epoch 7/8\n"
     ]
    },
    {
     "name": "stdout",
     "output_type": "stream",
     "text": [
      "32/32 [==============================] - 0s 1ms/step - loss: -0.0609 - R-dist-dist_loss: 0.0038 - T-dist-dist_loss: -0.0058 - rho-dist-dist_loss: -2.2337e-04 - beta-dist_loss: -0.0587\n",
      "Epoch 8/8\n",
      "32/32 [==============================] - 0s 1ms/step - loss: -0.0604 - R-dist-dist_loss: 0.0038 - T-dist-dist_loss: -0.0058 - rho-dist-dist_loss: -2.3797e-04 - beta-dist_loss: -0.0582\n",
      "Epoch 1/8\n",
      "32/32 [==============================] - 0s 750us/step - loss: 0.0104 - weight-entropy: 1.8015\n",
      "Epoch 2/8\n",
      "32/32 [==============================] - 0s 781us/step - loss: 0.0101 - weight-entropy: 1.7414\n",
      "Epoch 3/8\n",
      "32/32 [==============================] - 0s 750us/step - loss: 0.0103 - weight-entropy: 1.7628\n",
      "Epoch 4/8\n",
      "32/32 [==============================] - 0s 687us/step - loss: 0.0102 - weight-entropy: 1.6624\n",
      "Epoch 5/8\n",
      "32/32 [==============================] - 0s 594us/step - loss: 0.0107 - weight-entropy: 1.7009\n",
      "Epoch 6/8\n",
      "32/32 [==============================] - 0s 625us/step - loss: 0.0100 - weight-entropy: 1.7462\n",
      "Epoch 7/8\n",
      "32/32 [==============================] - 0s 625us/step - loss: 0.0098 - weight-entropy: 1.8029\n",
      "Epoch 8/8\n",
      "32/32 [==============================] - 0s 625us/step - loss: 0.0106 - weight-entropy: 1.7590\n",
      "Epoch 1/8\n",
      "32/32 [==============================] - 0s 1ms/step - loss: -0.0606 - R-dist-dist_loss: 0.0036 - T-dist-dist_loss: -0.0054 - rho-dist-dist_loss: -2.3505e-04 - beta-dist_loss: -0.0585\n",
      "Epoch 2/8\n",
      "32/32 [==============================] - 0s 1ms/step - loss: -0.0601 - R-dist-dist_loss: 0.0036 - T-dist-dist_loss: -0.0054 - rho-dist-dist_loss: -2.8444e-04 - beta-dist_loss: -0.0580\n",
      "Epoch 3/8\n",
      "32/32 [==============================] - 0s 1ms/step - loss: -0.0608 - R-dist-dist_loss: 0.0035 - T-dist-dist_loss: -0.0055 - rho-dist-dist_loss: -3.0345e-04 - beta-dist_loss: -0.0586\n",
      "Epoch 4/8\n",
      "32/32 [==============================] - 0s 1ms/step - loss: -0.0605 - R-dist-dist_loss: 0.0036 - T-dist-dist_loss: -0.0054 - rho-dist-dist_loss: -3.0105e-04 - beta-dist_loss: -0.0583\n",
      "Epoch 5/8\n",
      "32/32 [==============================] - 0s 1ms/step - loss: -0.0604 - R-dist-dist_loss: 0.0037 - T-dist-dist_loss: -0.0054 - rho-dist-dist_loss: -3.1230e-04 - beta-dist_loss: -0.0583\n",
      "Epoch 6/8\n",
      "32/32 [==============================] - 0s 1ms/step - loss: -0.0606 - R-dist-dist_loss: 0.0035 - T-dist-dist_loss: -0.0054 - rho-dist-dist_loss: -3.2606e-04 - beta-dist_loss: -0.0584\n",
      "Epoch 7/8\n",
      "32/32 [==============================] - 0s 1ms/step - loss: -0.0605 - R-dist-dist_loss: 0.0036 - T-dist-dist_loss: -0.0055 - rho-dist-dist_loss: -3.6275e-04 - beta-dist_loss: -0.0583\n",
      "Epoch 8/8\n",
      "32/32 [==============================] - 0s 1ms/step - loss: -0.0604 - R-dist-dist_loss: 0.0035 - T-dist-dist_loss: -0.0055 - rho-dist-dist_loss: -4.1323e-04 - beta-dist_loss: -0.0580\n",
      "Epoch 1/8\n",
      "32/32 [==============================] - 0s 750us/step - loss: 0.0107 - weight-entropy: 1.9064\n",
      "Epoch 2/8\n",
      "32/32 [==============================] - 0s 750us/step - loss: 0.0108 - weight-entropy: 2.0180\n",
      "Epoch 3/8\n",
      "32/32 [==============================] - 0s 719us/step - loss: 0.0108 - weight-entropy: 1.9339\n",
      "Epoch 4/8\n",
      "32/32 [==============================] - 0s 687us/step - loss: 0.0106 - weight-entropy: 1.8735\n",
      "Epoch 5/8\n",
      "32/32 [==============================] - 0s 750us/step - loss: 0.0105 - weight-entropy: 1.9046\n",
      "Epoch 6/8\n",
      "32/32 [==============================] - 0s 719us/step - loss: 0.0107 - weight-entropy: 1.9609\n",
      "Epoch 7/8\n",
      "32/32 [==============================] - 0s 625us/step - loss: 0.0110 - weight-entropy: 1.9723\n",
      "Epoch 8/8\n",
      "32/32 [==============================] - 0s 656us/step - loss: 0.0116 - weight-entropy: 1.9045\n",
      "Epoch 1/8\n",
      "32/32 [==============================] - 0s 1ms/step - loss: -0.0604 - R-dist-dist_loss: 0.0025 - T-dist-dist_loss: -0.0053 - rho-dist-dist_loss: -2.9166e-04 - beta-dist_loss: -0.0573\n",
      "Epoch 2/8\n",
      "32/32 [==============================] - 0s 1ms/step - loss: -0.0615 - R-dist-dist_loss: 0.0025 - T-dist-dist_loss: -0.0054 - rho-dist-dist_loss: -2.8247e-04 - beta-dist_loss: -0.0583\n",
      "Epoch 3/8\n",
      "32/32 [==============================] - 0s 1ms/step - loss: -0.0611 - R-dist-dist_loss: 0.0024 - T-dist-dist_loss: -0.0054 - rho-dist-dist_loss: -3.2174e-04 - beta-dist_loss: -0.0577\n",
      "Epoch 4/8\n",
      "32/32 [==============================] - 0s 1ms/step - loss: -0.0614 - R-dist-dist_loss: 0.0025 - T-dist-dist_loss: -0.0055 - rho-dist-dist_loss: -3.0031e-04 - beta-dist_loss: -0.0581    \n",
      "Epoch 5/8\n",
      "32/32 [==============================] - 0s 1ms/step - loss: -0.0615 - R-dist-dist_loss: 0.0024 - T-dist-dist_loss: -0.0054 - rho-dist-dist_loss: -2.9656e-04 - beta-dist_loss: -0.0581\n",
      "Epoch 6/8\n",
      "32/32 [==============================] - 0s 1ms/step - loss: -0.0610 - R-dist-dist_loss: 0.0025 - T-dist-dist_loss: -0.0055 - rho-dist-dist_loss: -3.2223e-04 - beta-dist_loss: -0.0577\n",
      "Epoch 7/8\n",
      "32/32 [==============================] - 0s 1ms/step - loss: -0.0616 - R-dist-dist_loss: 0.0024 - T-dist-dist_loss: -0.0055 - rho-dist-dist_loss: -2.8546e-04 - beta-dist_loss: -0.0582\n",
      "Epoch 8/8\n",
      "32/32 [==============================] - 0s 1ms/step - loss: -0.0612 - R-dist-dist_loss: 0.0024 - T-dist-dist_loss: -0.0055 - rho-dist-dist_loss: -3.1837e-04 - beta-dist_loss: -0.0578\n",
      "Epoch 1/8\n",
      "32/32 [==============================] - 0s 644us/step - loss: 0.0107 - weight-entropy: 2.0396\n",
      "Epoch 2/8\n",
      "32/32 [==============================] - 0s 656us/step - loss: 0.0105 - weight-entropy: 1.9773\n",
      "Epoch 3/8\n",
      "32/32 [==============================] - 0s 781us/step - loss: 0.0103 - weight-entropy: 1.9977\n",
      "Epoch 4/8\n",
      "32/32 [==============================] - 0s 813us/step - loss: 0.0104 - weight-entropy: 1.9516\n",
      "Epoch 5/8\n",
      "32/32 [==============================] - 0s 844us/step - loss: 0.0102 - weight-entropy: 2.0437\n",
      "Epoch 6/8\n",
      "32/32 [==============================] - 0s 781us/step - loss: 0.0105 - weight-entropy: 2.0026\n",
      "Epoch 7/8\n",
      "32/32 [==============================] - 0s 812us/step - loss: 0.0097 - weight-entropy: 1.9740\n",
      "Epoch 8/8\n",
      "32/32 [==============================] - 0s 813us/step - loss: 0.0096 - weight-entropy: 2.0734\n",
      "Epoch 1/8\n",
      "32/32 [==============================] - 0s 1ms/step - loss: -0.0582 - R-dist-dist_loss: 0.0033 - T-dist-dist_loss: -0.0053 - rho-dist-dist_loss: -3.3654e-04 - beta-dist_loss: -0.0558\n",
      "Epoch 2/8\n",
      "32/32 [==============================] - 0s 1ms/step - loss: -0.0568 - R-dist-dist_loss: 0.0032 - T-dist-dist_loss: -0.0054 - rho-dist-dist_loss: -3.5001e-04 - beta-dist_loss: -0.0544\n",
      "Epoch 3/8\n",
      "32/32 [==============================] - 0s 1ms/step - loss: -0.0562 - R-dist-dist_loss: 0.0032 - T-dist-dist_loss: -0.0054 - rho-dist-dist_loss: -3.4482e-04 - beta-dist_loss: -0.0537\n",
      "Epoch 4/8\n",
      "32/32 [==============================] - 0s 1ms/step - loss: -0.0573 - R-dist-dist_loss: 0.0032 - T-dist-dist_loss: -0.0054 - rho-dist-dist_loss: -3.4875e-04 - beta-dist_loss: -0.0548\n",
      "Epoch 5/8\n",
      "32/32 [==============================] - 0s 1ms/step - loss: -0.0566 - R-dist-dist_loss: 0.0033 - T-dist-dist_loss: -0.0053 - rho-dist-dist_loss: -3.4224e-04 - beta-dist_loss: -0.0541\n",
      "Epoch 6/8\n",
      "32/32 [==============================] - 0s 1ms/step - loss: -0.0572 - R-dist-dist_loss: 0.0032 - T-dist-dist_loss: -0.0054 - rho-dist-dist_loss: -3.5275e-04 - beta-dist_loss: -0.0547\n",
      "Epoch 7/8\n",
      "32/32 [==============================] - 0s 1ms/step - loss: -0.0578 - R-dist-dist_loss: 0.0032 - T-dist-dist_loss: -0.0054 - rho-dist-dist_loss: -3.4540e-04 - beta-dist_loss: -0.0553\n",
      "Epoch 8/8\n",
      "32/32 [==============================] - 0s 1ms/step - loss: -0.0569 - R-dist-dist_loss: 0.0033 - T-dist-dist_loss: -0.0054 - rho-dist-dist_loss: -3.3823e-04 - beta-dist_loss: -0.0545\n",
      "Epoch 1/8\n",
      "32/32 [==============================] - 0s 656us/step - loss: 0.0108 - weight-entropy: 1.8570\n",
      "Epoch 2/8\n",
      "32/32 [==============================] - 0s 656us/step - loss: 0.0108 - weight-entropy: 1.8460\n",
      "Epoch 3/8\n",
      "32/32 [==============================] - 0s 625us/step - loss: 0.0107 - weight-entropy: 1.7922\n",
      "Epoch 4/8\n",
      "32/32 [==============================] - 0s 594us/step - loss: 0.0108 - weight-entropy: 1.8084\n",
      "Epoch 5/8\n",
      "32/32 [==============================] - 0s 750us/step - loss: 0.0100 - weight-entropy: 1.7892\n",
      "Epoch 6/8\n",
      "32/32 [==============================] - 0s 750us/step - loss: 0.0103 - weight-entropy: 1.7718\n",
      "Epoch 7/8\n"
     ]
    },
    {
     "name": "stdout",
     "output_type": "stream",
     "text": [
      "32/32 [==============================] - 0s 781us/step - loss: 0.0102 - weight-entropy: 1.8277\n",
      "Epoch 8/8\n",
      "32/32 [==============================] - 0s 781us/step - loss: 0.0099 - weight-entropy: 1.8616\n",
      "Epoch 1/8\n",
      "32/32 [==============================] - 0s 1ms/step - loss: -0.0612 - R-dist-dist_loss: 0.0030 - T-dist-dist_loss: -0.0048 - rho-dist-dist_loss: 3.4194e-04 - beta-dist_loss: -0.0597\n",
      "Epoch 2/8\n",
      "32/32 [==============================] - 0s 1ms/step - loss: -0.0622 - R-dist-dist_loss: 0.0026 - T-dist-dist_loss: -0.0050 - rho-dist-dist_loss: -3.0340e-06 - beta-dist_loss: -0.0598\n",
      "Epoch 3/8\n",
      "32/32 [==============================] - 0s 1ms/step - loss: -0.0623 - R-dist-dist_loss: 0.0027 - T-dist-dist_loss: -0.0051 - rho-dist-dist_loss: -3.7848e-05 - beta-dist_loss: -0.0599\n",
      "Epoch 4/8\n",
      "32/32 [==============================] - 0s 1ms/step - loss: -0.0623 - R-dist-dist_loss: 0.0027 - T-dist-dist_loss: -0.0050 - rho-dist-dist_loss: 4.0370e-06 - beta-dist_loss: -0.0600\n",
      "Epoch 5/8\n",
      "32/32 [==============================] - 0s 1ms/step - loss: -0.0623 - R-dist-dist_loss: 0.0026 - T-dist-dist_loss: -0.0051 - rho-dist-dist_loss: -2.2155e-05 - beta-dist_loss: -0.0598\n",
      "Epoch 6/8\n",
      "32/32 [==============================] - 0s 1ms/step - loss: -0.0618 - R-dist-dist_loss: 0.0028 - T-dist-dist_loss: -0.0050 - rho-dist-dist_loss: -5.5494e-05 - beta-dist_loss: -0.0595\n",
      "Epoch 7/8\n",
      "32/32 [==============================] - 0s 1ms/step - loss: -0.0624 - R-dist-dist_loss: 0.0027 - T-dist-dist_loss: -0.0051 - rho-dist-dist_loss: -7.2113e-05 - beta-dist_loss: -0.0600\n",
      "Epoch 8/8\n",
      "32/32 [==============================] - 0s 1ms/step - loss: -0.0623 - R-dist-dist_loss: 0.0027 - T-dist-dist_loss: -0.0051 - rho-dist-dist_loss: -1.7833e-05 - beta-dist_loss: -0.0599\n",
      "Epoch 1/8\n",
      "32/32 [==============================] - 0s 594us/step - loss: 0.0105 - weight-entropy: 1.5327\n",
      "Epoch 2/8\n",
      "32/32 [==============================] - 0s 688us/step - loss: 0.0110 - weight-entropy: 1.5348\n",
      "Epoch 3/8\n",
      "32/32 [==============================] - 0s 719us/step - loss: 0.0110 - weight-entropy: 1.5587\n",
      "Epoch 4/8\n",
      "32/32 [==============================] - 0s 687us/step - loss: 0.0102 - weight-entropy: 1.4406\n",
      "Epoch 5/8\n",
      "32/32 [==============================] - 0s 688us/step - loss: 0.0101 - weight-entropy: 1.4787\n",
      "Epoch 6/8\n",
      "32/32 [==============================] - 0s 718us/step - loss: 0.0101 - weight-entropy: 1.4362\n",
      "Epoch 7/8\n",
      "32/32 [==============================] - 0s 688us/step - loss: 0.0094 - weight-entropy: 1.5361\n",
      "Epoch 8/8\n",
      "32/32 [==============================] - 0s 628us/step - loss: 0.0095 - weight-entropy: 1.4169\n",
      "Epoch 1/8\n",
      "32/32 [==============================] - 0s 2ms/step - loss: -0.0597 - R-dist-dist_loss: 0.0026 - T-dist-dist_loss: -0.0056 - rho-dist-dist_loss: -2.1674e-04 - beta-dist_loss: -0.0566\n",
      "Epoch 2/8\n",
      "32/32 [==============================] - 0s 1ms/step - loss: -0.0599 - R-dist-dist_loss: 0.0026 - T-dist-dist_loss: -0.0057 - rho-dist-dist_loss: -4.0631e-04 - beta-dist_loss: -0.0564\n",
      "Epoch 3/8\n",
      "32/32 [==============================] - 0s 1ms/step - loss: -0.0603 - R-dist-dist_loss: 0.0025 - T-dist-dist_loss: -0.0057 - rho-dist-dist_loss: -4.2289e-04 - beta-dist_loss: -0.0568\n",
      "Epoch 4/8\n",
      "32/32 [==============================] - 0s 1ms/step - loss: -0.0600 - R-dist-dist_loss: 0.0025 - T-dist-dist_loss: -0.0057 - rho-dist-dist_loss: -4.1576e-04 - beta-dist_loss: -0.0564\n",
      "Epoch 5/8\n",
      "32/32 [==============================] - 0s 2ms/step - loss: -0.0595 - R-dist-dist_loss: 0.0025 - T-dist-dist_loss: -0.0057 - rho-dist-dist_loss: -3.7399e-04 - beta-dist_loss: -0.0559\n",
      "Epoch 6/8\n",
      "32/32 [==============================] - 0s 2ms/step - loss: -0.0596 - R-dist-dist_loss: 0.0025 - T-dist-dist_loss: -0.0057 - rho-dist-dist_loss: -4.3512e-04 - beta-dist_loss: -0.0559    \n",
      "Epoch 7/8\n",
      "32/32 [==============================] - 0s 1ms/step - loss: -0.0601 - R-dist-dist_loss: 0.0025 - T-dist-dist_loss: -0.0057 - rho-dist-dist_loss: -3.8899e-04 - beta-dist_loss: -0.0565\n",
      "Epoch 8/8\n",
      "32/32 [==============================] - 0s 1ms/step - loss: -0.0592 - R-dist-dist_loss: 0.0025 - T-dist-dist_loss: -0.0057 - rho-dist-dist_loss: -4.2273e-04 - beta-dist_loss: -0.0556\n",
      "Epoch 1/8\n",
      " 1/32 [..............................] - ETA: 0s - loss: 0.0063 - weight-entropy: 2.1502WARNING:tensorflow:Callbacks method `on_train_batch_begin` is slow compared to the batch time (batch time: 0.0000s vs `on_train_batch_begin` time: 0.0010s). Check your callbacks.\n",
      "32/32 [==============================] - 0s 719us/step - loss: 0.0081 - weight-entropy: 1.8230\n",
      "Epoch 2/8\n",
      "32/32 [==============================] - 0s 625us/step - loss: 0.0083 - weight-entropy: 1.9073\n",
      "Epoch 3/8\n",
      "32/32 [==============================] - 0s 625us/step - loss: 0.0078 - weight-entropy: 1.8121\n",
      "Epoch 4/8\n",
      "32/32 [==============================] - 0s 625us/step - loss: 0.0079 - weight-entropy: 1.7747\n",
      "Epoch 5/8\n",
      "32/32 [==============================] - 0s 594us/step - loss: 0.0078 - weight-entropy: 1.8900\n",
      "Epoch 6/8\n",
      "32/32 [==============================] - 0s 594us/step - loss: 0.0075 - weight-entropy: 1.7790\n",
      "Epoch 7/8\n",
      "32/32 [==============================] - 0s 656us/step - loss: 0.0078 - weight-entropy: 1.8508\n",
      "Epoch 8/8\n",
      "32/32 [==============================] - 0s 656us/step - loss: 0.0078 - weight-entropy: 1.8400\n",
      "Epoch 1/8\n",
      "32/32 [==============================] - 0s 1ms/step - loss: -0.0561 - R-dist-dist_loss: 0.0032 - T-dist-dist_loss: -0.0057 - rho-dist-dist_loss: -2.3574e-04 - beta-dist_loss: -0.0534\n",
      "Epoch 2/8\n",
      "32/32 [==============================] - 0s 1ms/step - loss: -0.0576 - R-dist-dist_loss: 0.0032 - T-dist-dist_loss: -0.0058 - rho-dist-dist_loss: -2.6412e-04 - beta-dist_loss: -0.0547\n",
      "Epoch 3/8\n",
      "32/32 [==============================] - 0s 1ms/step - loss: -0.0565 - R-dist-dist_loss: 0.0032 - T-dist-dist_loss: -0.0058 - rho-dist-dist_loss: -2.5453e-04 - beta-dist_loss: -0.0537\n",
      "Epoch 4/8\n",
      "32/32 [==============================] - 0s 1ms/step - loss: -0.0568 - R-dist-dist_loss: 0.0031 - T-dist-dist_loss: -0.0058 - rho-dist-dist_loss: -2.5122e-04 - beta-dist_loss: -0.0539\n",
      "Epoch 5/8\n",
      "32/32 [==============================] - 0s 2ms/step - loss: -0.0571 - R-dist-dist_loss: 0.0031 - T-dist-dist_loss: -0.0058 - rho-dist-dist_loss: -2.6861e-04 - beta-dist_loss: -0.0542\n",
      "Epoch 6/8\n",
      "32/32 [==============================] - 0s 1ms/step - loss: -0.0569 - R-dist-dist_loss: 0.0032 - T-dist-dist_loss: -0.0058 - rho-dist-dist_loss: -2.4777e-04 - beta-dist_loss: -0.0541\n",
      "Epoch 7/8\n",
      "32/32 [==============================] - 0s 1ms/step - loss: -0.0568 - R-dist-dist_loss: 0.0032 - T-dist-dist_loss: -0.0058 - rho-dist-dist_loss: -2.5935e-04 - beta-dist_loss: -0.0539\n",
      "Epoch 8/8\n",
      "32/32 [==============================] - 0s 1ms/step - loss: -0.0567 - R-dist-dist_loss: 0.0032 - T-dist-dist_loss: -0.0058 - rho-dist-dist_loss: -2.4337e-04 - beta-dist_loss: -0.0538\n",
      "Epoch 1/8\n",
      "32/32 [==============================] - 0s 656us/step - loss: 0.0073 - weight-entropy: 1.8418\n",
      "Epoch 2/8\n",
      "32/32 [==============================] - 0s 625us/step - loss: 0.0080 - weight-entropy: 1.8507\n",
      "Epoch 3/8\n",
      "32/32 [==============================] - 0s 656us/step - loss: 0.0078 - weight-entropy: 1.9493\n",
      "Epoch 4/8\n",
      "32/32 [==============================] - 0s 594us/step - loss: 0.0077 - weight-entropy: 1.8904\n",
      "Epoch 5/8\n",
      "32/32 [==============================] - 0s 625us/step - loss: 0.0075 - weight-entropy: 1.8741\n",
      "Epoch 6/8\n",
      "32/32 [==============================] - 0s 625us/step - loss: 0.0075 - weight-entropy: 1.8927\n",
      "Epoch 7/8\n",
      "32/32 [==============================] - 0s 625us/step - loss: 0.0077 - weight-entropy: 1.8581\n",
      "Epoch 8/8\n",
      "32/32 [==============================] - 0s 656us/step - loss: 0.0076 - weight-entropy: 1.9442\n",
      "Epoch 1/8\n",
      "32/32 [==============================] - 0s 1ms/step - loss: -0.0371 - R-dist-dist_loss: 0.0043 - T-dist-dist_loss: -0.0022 - rho-dist-dist_loss: -2.5351e-04 - beta-dist_loss: -0.0391\n",
      "Epoch 2/8\n",
      "32/32 [==============================] - 0s 2ms/step - loss: 0.0381 - R-dist-dist_loss: 0.0036 - T-dist-dist_loss: -0.0039 - rho-dist-dist_loss: -7.7002e-04 - beta-dist_loss: 0.0391\n",
      "Epoch 3/8\n"
     ]
    },
    {
     "name": "stdout",
     "output_type": "stream",
     "text": [
      "32/32 [==============================] - 0s 2ms/step - loss: -0.0418 - R-dist-dist_loss: 0.0024 - T-dist-dist_loss: -0.0039 - rho-dist-dist_loss: -7.7496e-04 - beta-dist_loss: -0.0396\n",
      "Epoch 4/8\n",
      "32/32 [==============================] - 0s 1ms/step - loss: -0.0142 - R-dist-dist_loss: 0.0035 - T-dist-dist_loss: -0.0040 - rho-dist-dist_loss: -7.5278e-04 - beta-dist_loss: -0.0129\n",
      "Epoch 5/8\n",
      "32/32 [==============================] - 0s 1ms/step - loss: -0.0513 - R-dist-dist_loss: 0.0028 - T-dist-dist_loss: -0.0042 - rho-dist-dist_loss: -7.6090e-04 - beta-dist_loss: -0.0492\n",
      "Epoch 6/8\n",
      "32/32 [==============================] - 0s 1ms/step - loss: -0.0179 - R-dist-dist_loss: 0.0026 - T-dist-dist_loss: -0.0043 - rho-dist-dist_loss: -7.6964e-04 - beta-dist_loss: -0.0155    \n",
      "Epoch 7/8\n",
      "32/32 [==============================] - 0s 1ms/step - loss: -0.0322 - R-dist-dist_loss: 0.0032 - T-dist-dist_loss: -0.0043 - rho-dist-dist_loss: -7.7969e-04 - beta-dist_loss: -0.0302\n",
      "Epoch 8/8\n",
      "32/32 [==============================] - 0s 1ms/step - loss: -0.0364 - R-dist-dist_loss: 0.0030 - T-dist-dist_loss: -0.0043 - rho-dist-dist_loss: -7.5984e-04 - beta-dist_loss: -0.0344   \n",
      "Epoch 1/8\n",
      " 1/32 [..............................] - ETA: 0s - loss: 0.0052 - weight-entropy: 0.6090WARNING:tensorflow:Callbacks method `on_train_batch_end` is slow compared to the batch time (batch time: 0.0000s vs `on_train_batch_end` time: 0.0010s). Check your callbacks.\n",
      "32/32 [==============================] - 0s 625us/step - loss: 0.0080 - weight-entropy: 0.7766\n",
      "Epoch 2/8\n",
      "32/32 [==============================] - 0s 594us/step - loss: 0.0084 - weight-entropy: 0.7522\n",
      "Epoch 3/8\n",
      "32/32 [==============================] - 0s 625us/step - loss: 0.0086 - weight-entropy: 0.6569\n",
      "Epoch 4/8\n",
      "32/32 [==============================] - 0s 594us/step - loss: 0.0088 - weight-entropy: 0.7306\n",
      "Epoch 5/8\n",
      "32/32 [==============================] - 0s 625us/step - loss: 0.0086 - weight-entropy: 0.7054\n",
      "Epoch 6/8\n",
      "32/32 [==============================] - 0s 594us/step - loss: 0.0081 - weight-entropy: 0.7213\n",
      "Epoch 7/8\n",
      "32/32 [==============================] - 0s 625us/step - loss: 0.0082 - weight-entropy: 0.6866\n",
      "Epoch 8/8\n",
      "32/32 [==============================] - 0s 594us/step - loss: 0.0080 - weight-entropy: 0.7893\n",
      "Epoch 1/8\n",
      "32/32 [==============================] - 0s 1ms/step - loss: -0.0398 - R-dist-dist_loss: 0.0041 - T-dist-dist_loss: -0.0053 - rho-dist-dist_loss: -6.0164e-04 - beta-dist_loss: -0.0380\n",
      "Epoch 2/8\n",
      "32/32 [==============================] - 0s 1ms/step - loss: -0.0424 - R-dist-dist_loss: 0.0039 - T-dist-dist_loss: -0.0053 - rho-dist-dist_loss: -8.2134e-04 - beta-dist_loss: -0.0402    \n",
      "Epoch 3/8\n",
      "32/32 [==============================] - 0s 1ms/step - loss: -0.0454 - R-dist-dist_loss: 0.0037 - T-dist-dist_loss: -0.0055 - rho-dist-dist_loss: -9.8724e-04 - beta-dist_loss: -0.0427           \n",
      "Epoch 4/8\n",
      "32/32 [==============================] - 0s 1ms/step - loss: -0.0443 - R-dist-dist_loss: 0.0037 - T-dist-dist_loss: -0.0053 - rho-dist-dist_loss: -7.2480e-04 - beta-dist_loss: -0.0420\n",
      "Epoch 5/8\n",
      "32/32 [==============================] - 0s 2ms/step - loss: -0.0391 - R-dist-dist_loss: 0.0037 - T-dist-dist_loss: -0.0054 - rho-dist-dist_loss: -8.3911e-04 - beta-dist_loss: -0.0365   \n",
      "Epoch 6/8\n",
      "32/32 [==============================] - 0s 2ms/step - loss: -0.0520 - R-dist-dist_loss: 0.0037 - T-dist-dist_loss: -0.0055 - rho-dist-dist_loss: -0.0010 - beta-dist_loss: -0.0492\n",
      "Epoch 7/8\n",
      "32/32 [==============================] - 0s 2ms/step - loss: -0.0426 - R-dist-dist_loss: 0.0037 - T-dist-dist_loss: -0.0056 - rho-dist-dist_loss: -7.2571e-04 - beta-dist_loss: -0.0400\n",
      "Epoch 8/8\n",
      "32/32 [==============================] - 0s 2ms/step - loss: -0.0482 - R-dist-dist_loss: 0.0037 - T-dist-dist_loss: -0.0057 - rho-dist-dist_loss: -8.2341e-04 - beta-dist_loss: -0.0453           \n",
      "Epoch 1/8\n",
      "32/32 [==============================] - 0s 594us/step - loss: 0.0085 - weight-entropy: 1.0222\n",
      "Epoch 2/8\n",
      "32/32 [==============================] - 0s 594us/step - loss: 0.0084 - weight-entropy: 1.0145\n",
      "Epoch 3/8\n",
      "32/32 [==============================] - 0s 594us/step - loss: 0.0081 - weight-entropy: 1.0581\n",
      "Epoch 4/8\n",
      "32/32 [==============================] - 0s 625us/step - loss: 0.0077 - weight-entropy: 1.0325\n",
      "Epoch 5/8\n",
      "32/32 [==============================] - 0s 625us/step - loss: 0.0077 - weight-entropy: 1.0814\n",
      "Epoch 6/8\n",
      "32/32 [==============================] - 0s 625us/step - loss: 0.0084 - weight-entropy: 1.0638\n",
      "Epoch 7/8\n",
      "32/32 [==============================] - 0s 656us/step - loss: 0.0081 - weight-entropy: 1.1413\n",
      "Epoch 8/8\n",
      "32/32 [==============================] - 0s 656us/step - loss: 0.0077 - weight-entropy: 1.1015\n",
      "Epoch 1/8\n",
      "32/32 [==============================] - 0s 1ms/step - loss: -0.0631 - R-dist-dist_loss: 0.0037 - T-dist-dist_loss: -0.0044 - rho-dist-dist_loss: -0.0012 - beta-dist_loss: -0.0612        \n",
      "Epoch 2/8\n",
      "32/32 [==============================] - 0s 1ms/step - loss: -0.0662 - R-dist-dist_loss: 0.0027 - T-dist-dist_loss: -0.0046 - rho-dist-dist_loss: -0.0016 - beta-dist_loss: -0.0627\n",
      "Epoch 3/8\n",
      "32/32 [==============================] - 0s 1ms/step - loss: -0.0667 - R-dist-dist_loss: 0.0024 - T-dist-dist_loss: -0.0047 - rho-dist-dist_loss: -0.0015 - beta-dist_loss: -0.0629       \n",
      "Epoch 4/8\n",
      "32/32 [==============================] - 0s 1ms/step - loss: -0.0667 - R-dist-dist_loss: 0.0021 - T-dist-dist_loss: -0.0047 - rho-dist-dist_loss: -0.0017 - beta-dist_loss: -0.0624\n",
      "Epoch 5/8\n",
      "32/32 [==============================] - 0s 1ms/step - loss: -0.0669 - R-dist-dist_loss: 0.0026 - T-dist-dist_loss: -0.0047 - rho-dist-dist_loss: -0.0018 - beta-dist_loss: -0.0629        \n",
      "Epoch 6/8\n",
      "32/32 [==============================] - 0s 1ms/step - loss: -0.0670 - R-dist-dist_loss: 0.0023 - T-dist-dist_loss: -0.0047 - rho-dist-dist_loss: -0.0017 - beta-dist_loss: -0.0630\n",
      "Epoch 7/8\n",
      "32/32 [==============================] - 0s 1ms/step - loss: -0.0667 - R-dist-dist_loss: 0.0029 - T-dist-dist_loss: -0.0047 - rho-dist-dist_loss: -0.0020 - beta-dist_loss: -0.0630\n",
      "Epoch 8/8\n",
      "32/32 [==============================] - 0s 1ms/step - loss: -0.0668 - R-dist-dist_loss: 0.0025 - T-dist-dist_loss: -0.0047 - rho-dist-dist_loss: -0.0017 - beta-dist_loss: -0.0630\n",
      "Epoch 1/8\n",
      "32/32 [==============================] - 0s 656us/step - loss: 0.0070 - weight-entropy: 1.2745\n",
      "Epoch 2/8\n",
      "32/32 [==============================] - 0s 688us/step - loss: 0.0071 - weight-entropy: 1.2582\n",
      "Epoch 3/8\n",
      "32/32 [==============================] - 0s 656us/step - loss: 0.0071 - weight-entropy: 1.1615\n",
      "Epoch 4/8\n",
      "32/32 [==============================] - 0s 688us/step - loss: 0.0071 - weight-entropy: 1.1788\n",
      "Epoch 5/8\n",
      "32/32 [==============================] - 0s 635us/step - loss: 0.0072 - weight-entropy: 1.2386\n",
      "Epoch 6/8\n",
      "32/32 [==============================] - 0s 656us/step - loss: 0.0072 - weight-entropy: 1.1142\n",
      "Epoch 7/8\n",
      "32/32 [==============================] - 0s 625us/step - loss: 0.0070 - weight-entropy: 1.2499\n",
      "Epoch 8/8\n",
      "32/32 [==============================] - 0s 625us/step - loss: 0.0069 - weight-entropy: 1.2919\n",
      "Epoch 1/8\n",
      "32/32 [==============================] - 0s 1ms/step - loss: -0.0469 - R-dist-dist_loss: 0.0032 - T-dist-dist_loss: -0.0047 - rho-dist-dist_loss: -0.0011 - beta-dist_loss: -0.0443\n",
      "Epoch 2/8\n",
      "32/32 [==============================] - 0s 1ms/step - loss: -0.0432 - R-dist-dist_loss: 0.0031 - T-dist-dist_loss: -0.0050 - rho-dist-dist_loss: -0.0011 - beta-dist_loss: -0.0401        \n",
      "Epoch 3/8\n",
      "32/32 [==============================] - 0s 1ms/step - loss: -0.0506 - R-dist-dist_loss: 0.0028 - T-dist-dist_loss: -0.0051 - rho-dist-dist_loss: -0.0014 - beta-dist_loss: -0.0470\n",
      "Epoch 4/8\n",
      "32/32 [==============================] - 0s 1ms/step - loss: -0.0482 - R-dist-dist_loss: 0.0029 - T-dist-dist_loss: -0.0051 - rho-dist-dist_loss: -0.0013 - beta-dist_loss: -0.0448    \n",
      "Epoch 5/8\n",
      "32/32 [==============================] - 0s 1ms/step - loss: -0.0464 - R-dist-dist_loss: 0.0030 - T-dist-dist_loss: -0.0051 - rho-dist-dist_loss: -0.0013 - beta-dist_loss: -0.0429        \n",
      "Epoch 6/8\n"
     ]
    },
    {
     "name": "stdout",
     "output_type": "stream",
     "text": [
      "32/32 [==============================] - 0s 1ms/step - loss: -0.0500 - R-dist-dist_loss: 0.0031 - T-dist-dist_loss: -0.0051 - rho-dist-dist_loss: -0.0013 - beta-dist_loss: -0.0466        \n",
      "Epoch 7/8\n",
      "32/32 [==============================] - 0s 1ms/step - loss: -0.0501 - R-dist-dist_loss: 0.0028 - T-dist-dist_loss: -0.0051 - rho-dist-dist_loss: -0.0013 - beta-dist_loss: -0.0465\n",
      "Epoch 8/8\n",
      "32/32 [==============================] - 0s 1ms/step - loss: -0.0509 - R-dist-dist_loss: 0.0030 - T-dist-dist_loss: -0.0051 - rho-dist-dist_loss: -0.0013 - beta-dist_loss: -0.0475\n",
      "Epoch 1/8\n",
      "32/32 [==============================] - 0s 656us/step - loss: 0.0083 - weight-entropy: 1.3642\n",
      "Epoch 2/8\n",
      "32/32 [==============================] - 0s 594us/step - loss: 0.0076 - weight-entropy: 1.4063\n",
      "Epoch 3/8\n",
      "32/32 [==============================] - 0s 594us/step - loss: 0.0085 - weight-entropy: 1.3321\n",
      "Epoch 4/8\n",
      "32/32 [==============================] - 0s 594us/step - loss: 0.0081 - weight-entropy: 1.4236\n",
      "Epoch 5/8\n",
      "32/32 [==============================] - 0s 625us/step - loss: 0.0082 - weight-entropy: 1.3507\n",
      "Epoch 6/8\n",
      "32/32 [==============================] - 0s 562us/step - loss: 0.0073 - weight-entropy: 1.4739\n",
      "Epoch 7/8\n",
      "32/32 [==============================] - 0s 625us/step - loss: 0.0079 - weight-entropy: 1.3203\n",
      "Epoch 8/8\n",
      "32/32 [==============================] - 0s 625us/step - loss: 0.0077 - weight-entropy: 1.3740\n",
      "Epoch 1/8\n",
      "32/32 [==============================] - 0s 1ms/step - loss: -0.0563 - R-dist-dist_loss: 0.0047 - T-dist-dist_loss: -0.0043 - rho-dist-dist_loss: -9.3462e-04 - beta-dist_loss: -0.0557\n",
      "Epoch 2/8\n",
      "32/32 [==============================] - 0s 1ms/step - loss: -0.0587 - R-dist-dist_loss: 0.0041 - T-dist-dist_loss: -0.0044 - rho-dist-dist_loss: -0.0012 - beta-dist_loss: -0.0572    \n",
      "Epoch 3/8\n",
      "32/32 [==============================] - 0s 1ms/step - loss: -0.0586 - R-dist-dist_loss: 0.0040 - T-dist-dist_loss: -0.0044 - rho-dist-dist_loss: -0.0013 - beta-dist_loss: -0.0569\n",
      "Epoch 4/8\n",
      "32/32 [==============================] - 0s 1ms/step - loss: -0.0585 - R-dist-dist_loss: 0.0040 - T-dist-dist_loss: -0.0044 - rho-dist-dist_loss: -0.0013 - beta-dist_loss: -0.0568\n",
      "Epoch 5/8\n",
      "32/32 [==============================] - 0s 1ms/step - loss: -0.0589 - R-dist-dist_loss: 0.0039 - T-dist-dist_loss: -0.0044 - rho-dist-dist_loss: -0.0013 - beta-dist_loss: -0.0571\n",
      "Epoch 6/8\n",
      "32/32 [==============================] - 0s 2ms/step - loss: -0.0587 - R-dist-dist_loss: 0.0040 - T-dist-dist_loss: -0.0044 - rho-dist-dist_loss: -0.0013 - beta-dist_loss: -0.0570\n",
      "Epoch 7/8\n",
      "32/32 [==============================] - 0s 1ms/step - loss: -0.0587 - R-dist-dist_loss: 0.0039 - T-dist-dist_loss: -0.0044 - rho-dist-dist_loss: -0.0013 - beta-dist_loss: -0.0570        \n",
      "Epoch 8/8\n",
      "32/32 [==============================] - 0s 2ms/step - loss: -0.0581 - R-dist-dist_loss: 0.0040 - T-dist-dist_loss: -0.0044 - rho-dist-dist_loss: -0.0012 - beta-dist_loss: -0.0564\n",
      "Epoch 1/8\n",
      "32/32 [==============================] - 0s 594us/step - loss: 0.0066 - weight-entropy: 1.2966\n",
      "Epoch 2/8\n",
      "32/32 [==============================] - 0s 594us/step - loss: 0.0067 - weight-entropy: 1.2929\n",
      "Epoch 3/8\n",
      "32/32 [==============================] - 0s 594us/step - loss: 0.0069 - weight-entropy: 1.2893\n",
      "Epoch 4/8\n",
      "32/32 [==============================] - 0s 594us/step - loss: 0.0068 - weight-entropy: 1.2996\n",
      "Epoch 5/8\n",
      "32/32 [==============================] - 0s 562us/step - loss: 0.0073 - weight-entropy: 1.2087\n",
      "Epoch 6/8\n",
      "32/32 [==============================] - 0s 563us/step - loss: 0.0066 - weight-entropy: 1.2891\n",
      "Epoch 7/8\n",
      "32/32 [==============================] - 0s 563us/step - loss: 0.0067 - weight-entropy: 1.3669\n",
      "Epoch 8/8\n",
      "32/32 [==============================] - 0s 562us/step - loss: 0.0074 - weight-entropy: 1.3120\n",
      "Epoch 1/8\n",
      "32/32 [==============================] - 0s 1ms/step - loss: -0.0532 - R-dist-dist_loss: 0.0050 - T-dist-dist_loss: -4.4595e-04 - rho-dist-dist_loss: 7.5112e-04 - beta-dist_loss: -0.0585\n",
      "Epoch 2/8\n",
      "32/32 [==============================] - 0s 1ms/step - loss: -0.0637 - R-dist-dist_loss: 0.0026 - T-dist-dist_loss: -0.0017 - rho-dist-dist_loss: -9.4316e-04 - beta-dist_loss: -0.0637   \n",
      "Epoch 3/8\n",
      "32/32 [==============================] - 0s 1ms/step - loss: -0.0604 - R-dist-dist_loss: 0.0025 - T-dist-dist_loss: -0.0020 - rho-dist-dist_loss: -9.9806e-04 - beta-dist_loss: -0.0599   \n",
      "Epoch 4/8\n",
      "32/32 [==============================] - 0s 1ms/step - loss: -0.0632 - R-dist-dist_loss: 0.0020 - T-dist-dist_loss: -0.0023 - rho-dist-dist_loss: -0.0010 - beta-dist_loss: -0.0618       \n",
      "Epoch 5/8\n",
      "32/32 [==============================] - 0s 1ms/step - loss: -0.0629 - R-dist-dist_loss: 0.0017 - T-dist-dist_loss: -0.0025 - rho-dist-dist_loss: -0.0010 - beta-dist_loss: -0.0611\n",
      "Epoch 6/8\n",
      "32/32 [==============================] - 0s 1ms/step - loss: -0.0589 - R-dist-dist_loss: 0.0019 - T-dist-dist_loss: -0.0027 - rho-dist-dist_loss: -0.0011 - beta-dist_loss: -0.0571       \n",
      "Epoch 7/8\n",
      "32/32 [==============================] - 0s 1ms/step - loss: -0.0459 - R-dist-dist_loss: 0.0023 - T-dist-dist_loss: -0.0024 - rho-dist-dist_loss: -0.0010 - beta-dist_loss: -0.0448       \n",
      "Epoch 8/8\n",
      "32/32 [==============================] - 0s 1ms/step - loss: -0.0622 - R-dist-dist_loss: 0.0027 - T-dist-dist_loss: -0.0026 - rho-dist-dist_loss: -0.0010 - beta-dist_loss: -0.0613       \n",
      "Epoch 1/8\n",
      "32/32 [==============================] - 0s 625us/step - loss: 0.0077 - weight-entropy: 0.8443\n",
      "Epoch 2/8\n",
      "32/32 [==============================] - 0s 594us/step - loss: 0.0074 - weight-entropy: 0.8584\n",
      "Epoch 3/8\n",
      "32/32 [==============================] - 0s 563us/step - loss: 0.0076 - weight-entropy: 0.8314\n",
      "Epoch 4/8\n",
      "32/32 [==============================] - 0s 562us/step - loss: 0.0074 - weight-entropy: 0.9158\n",
      "Epoch 5/8\n",
      "32/32 [==============================] - 0s 594us/step - loss: 0.0072 - weight-entropy: 0.9174\n",
      "Epoch 6/8\n",
      "32/32 [==============================] - 0s 562us/step - loss: 0.0075 - weight-entropy: 0.8681\n",
      "Epoch 7/8\n",
      "32/32 [==============================] - 0s 562us/step - loss: 0.0065 - weight-entropy: 0.9080\n",
      "Epoch 8/8\n",
      "32/32 [==============================] - 0s 562us/step - loss: 0.0072 - weight-entropy: 0.8584\n",
      "Epoch 1/8\n",
      "32/32 [==============================] - 0s 1ms/step - loss: -0.0483 - R-dist-dist_loss: 0.0050 - T-dist-dist_loss: -0.0042 - rho-dist-dist_loss: -0.0013 - beta-dist_loss: -0.0478\n",
      "Epoch 2/8\n",
      "32/32 [==============================] - 0s 1ms/step - loss: -0.0505 - R-dist-dist_loss: 0.0040 - T-dist-dist_loss: -0.0048 - rho-dist-dist_loss: -0.0013 - beta-dist_loss: -0.0484        \n",
      "Epoch 3/8\n",
      "32/32 [==============================] - 0s 1ms/step - loss: -0.0486 - R-dist-dist_loss: 0.0040 - T-dist-dist_loss: -0.0049 - rho-dist-dist_loss: -0.0013 - beta-dist_loss: -0.0464\n",
      "Epoch 4/8\n",
      "32/32 [==============================] - 0s 1ms/step - loss: -0.0522 - R-dist-dist_loss: 0.0037 - T-dist-dist_loss: -0.0049 - rho-dist-dist_loss: -0.0013 - beta-dist_loss: -0.0497        \n",
      "Epoch 5/8\n",
      "32/32 [==============================] - 0s 1ms/step - loss: -0.0493 - R-dist-dist_loss: 0.0038 - T-dist-dist_loss: -0.0049 - rho-dist-dist_loss: -0.0013 - beta-dist_loss: -0.0468\n",
      "Epoch 6/8\n",
      "32/32 [==============================] - 0s 1ms/step - loss: -0.0492 - R-dist-dist_loss: 0.0036 - T-dist-dist_loss: -0.0050 - rho-dist-dist_loss: -0.0013 - beta-dist_loss: -0.0465\n",
      "Epoch 7/8\n",
      "32/32 [==============================] - 0s 1ms/step - loss: -0.0511 - R-dist-dist_loss: 0.0037 - T-dist-dist_loss: -0.0050 - rho-dist-dist_loss: -0.0014 - beta-dist_loss: -0.0484\n",
      "Epoch 8/8\n",
      "32/32 [==============================] - 0s 1ms/step - loss: -0.0469 - R-dist-dist_loss: 0.0038 - T-dist-dist_loss: -0.0050 - rho-dist-dist_loss: -0.0013 - beta-dist_loss: -0.0444\n",
      "Epoch 1/8\n",
      " 1/32 [..............................] - ETA: 0s - loss: 0.0055 - weight-entropy: 2.0844WARNING:tensorflow:Callbacks method `on_train_batch_end` is slow compared to the batch time (batch time: 0.0000s vs `on_train_batch_end` time: 0.0010s). Check your callbacks.\n",
      "32/32 [==============================] - 0s 656us/step - loss: 0.0064 - weight-entropy: 1.4986\n",
      "Epoch 2/8\n"
     ]
    },
    {
     "name": "stdout",
     "output_type": "stream",
     "text": [
      "32/32 [==============================] - 0s 594us/step - loss: 0.0061 - weight-entropy: 1.5505\n",
      "Epoch 3/8\n",
      "32/32 [==============================] - 0s 562us/step - loss: 0.0065 - weight-entropy: 1.6926\n",
      "Epoch 4/8\n",
      "32/32 [==============================] - 0s 563us/step - loss: 0.0057 - weight-entropy: 1.5688\n",
      "Epoch 5/8\n",
      "32/32 [==============================] - 0s 583us/step - loss: 0.0060 - weight-entropy: 1.6266\n",
      "Epoch 6/8\n",
      "32/32 [==============================] - 0s 563us/step - loss: 0.0066 - weight-entropy: 1.6125\n",
      "Epoch 7/8\n",
      "32/32 [==============================] - 0s 562us/step - loss: 0.0060 - weight-entropy: 1.5625\n",
      "Epoch 8/8\n",
      "32/32 [==============================] - 0s 594us/step - loss: 0.0062 - weight-entropy: 1.5863\n",
      "Epoch 1/8\n",
      "32/32 [==============================] - 0s 1ms/step - loss: -0.0533 - R-dist-dist_loss: 0.0035 - T-dist-dist_loss: -0.0055 - rho-dist-dist_loss: -7.9715e-04 - beta-dist_loss: -0.0504\n",
      "Epoch 2/8\n",
      "32/32 [==============================] - 0s 1ms/step - loss: -0.0535 - R-dist-dist_loss: 0.0032 - T-dist-dist_loss: -0.0055 - rho-dist-dist_loss: -9.6602e-04 - beta-dist_loss: -0.0502\n",
      "Epoch 3/8\n",
      "32/32 [==============================] - 0s 1ms/step - loss: -0.0539 - R-dist-dist_loss: 0.0031 - T-dist-dist_loss: -0.0055 - rho-dist-dist_loss: -9.9425e-04 - beta-dist_loss: -0.0505\n",
      "Epoch 4/8\n",
      "32/32 [==============================] - 0s 1ms/step - loss: -0.0534 - R-dist-dist_loss: 0.0031 - T-dist-dist_loss: -0.0055 - rho-dist-dist_loss: -9.9799e-04 - beta-dist_loss: -0.0500\n",
      "Epoch 5/8\n",
      "32/32 [==============================] - 0s 1ms/step - loss: -0.0538 - R-dist-dist_loss: 0.0031 - T-dist-dist_loss: -0.0055 - rho-dist-dist_loss: -9.9559e-04 - beta-dist_loss: -0.0503\n",
      "Epoch 6/8\n",
      "32/32 [==============================] - 0s 1ms/step - loss: -0.0541 - R-dist-dist_loss: 0.0031 - T-dist-dist_loss: -0.0055 - rho-dist-dist_loss: -9.9964e-04 - beta-dist_loss: -0.0507\n",
      "Epoch 7/8\n",
      "32/32 [==============================] - 0s 1ms/step - loss: -0.0533 - R-dist-dist_loss: 0.0031 - T-dist-dist_loss: -0.0056 - rho-dist-dist_loss: -9.9829e-04 - beta-dist_loss: -0.0499\n",
      "Epoch 8/8\n",
      "32/32 [==============================] - 0s 1ms/step - loss: -0.0531 - R-dist-dist_loss: 0.0031 - T-dist-dist_loss: -0.0056 - rho-dist-dist_loss: -0.0010 - beta-dist_loss: -0.0496    \n",
      "Epoch 1/8\n",
      " 1/32 [..............................] - ETA: 0s - loss: 0.0047 - weight-entropy: 2.1272WARNING:tensorflow:Callbacks method `on_train_batch_begin` is slow compared to the batch time (batch time: 0.0000s vs `on_train_batch_begin` time: 0.0010s). Check your callbacks.\n",
      "32/32 [==============================] - 0s 656us/step - loss: 0.0059 - weight-entropy: 1.6773\n",
      "Epoch 2/8\n",
      "32/32 [==============================] - 0s 563us/step - loss: 0.0054 - weight-entropy: 1.7013\n",
      "Epoch 3/8\n",
      "32/32 [==============================] - 0s 562us/step - loss: 0.0055 - weight-entropy: 1.8005\n",
      "Epoch 4/8\n",
      "32/32 [==============================] - 0s 562us/step - loss: 0.0058 - weight-entropy: 1.6320\n",
      "Epoch 5/8\n",
      "32/32 [==============================] - 0s 594us/step - loss: 0.0054 - weight-entropy: 1.6939\n",
      "Epoch 6/8\n",
      "32/32 [==============================] - 0s 563us/step - loss: 0.0055 - weight-entropy: 1.6689\n",
      "Epoch 7/8\n",
      "32/32 [==============================] - 0s 562us/step - loss: 0.0059 - weight-entropy: 1.7547\n",
      "Epoch 8/8\n",
      "32/32 [==============================] - 0s 594us/step - loss: 0.0057 - weight-entropy: 1.6490\n",
      "Epoch 1/8\n",
      "32/32 [==============================] - 0s 1ms/step - loss: -0.0607 - R-dist-dist_loss: 0.0042 - T-dist-dist_loss: -0.0062 - rho-dist-dist_loss: -7.7663e-04 - beta-dist_loss: -0.0579\n",
      "Epoch 2/8\n",
      "32/32 [==============================] - 0s 1ms/step - loss: -0.0616 - R-dist-dist_loss: 0.0036 - T-dist-dist_loss: -0.0062 - rho-dist-dist_loss: -9.0424e-04 - beta-dist_loss: -0.0582    \n",
      "Epoch 3/8\n",
      "32/32 [==============================] - 0s 1ms/step - loss: -0.0617 - R-dist-dist_loss: 0.0036 - T-dist-dist_loss: -0.0062 - rho-dist-dist_loss: -0.0010 - beta-dist_loss: -0.0582        \n",
      "Epoch 4/8\n",
      "32/32 [==============================] - 0s 1ms/step - loss: -0.0619 - R-dist-dist_loss: 0.0035 - T-dist-dist_loss: -0.0062 - rho-dist-dist_loss: -0.0011 - beta-dist_loss: -0.0581\n",
      "Epoch 5/8\n",
      "32/32 [==============================] - 0s 1ms/step - loss: -0.0621 - R-dist-dist_loss: 0.0036 - T-dist-dist_loss: -0.0062 - rho-dist-dist_loss: -0.0012 - beta-dist_loss: -0.0582\n",
      "Epoch 6/8\n",
      "32/32 [==============================] - 0s 1ms/step - loss: -0.0620 - R-dist-dist_loss: 0.0035 - T-dist-dist_loss: -0.0063 - rho-dist-dist_loss: -0.0012 - beta-dist_loss: -0.0580\n",
      "Epoch 7/8\n",
      "32/32 [==============================] - 0s 1ms/step - loss: -0.0622 - R-dist-dist_loss: 0.0035 - T-dist-dist_loss: -0.0063 - rho-dist-dist_loss: -0.0012 - beta-dist_loss: -0.0582    \n",
      "Epoch 8/8\n",
      "32/32 [==============================] - 0s 1ms/step - loss: -0.0623 - R-dist-dist_loss: 0.0034 - T-dist-dist_loss: -0.0063 - rho-dist-dist_loss: -0.0012 - beta-dist_loss: -0.0581\n",
      "Epoch 1/8\n",
      "32/32 [==============================] - 0s 562us/step - loss: 0.0051 - weight-entropy: 1.5702\n",
      "Epoch 2/8\n",
      "32/32 [==============================] - 0s 594us/step - loss: 0.0051 - weight-entropy: 1.5061\n",
      "Epoch 3/8\n",
      "32/32 [==============================] - 0s 562us/step - loss: 0.0050 - weight-entropy: 1.5688\n",
      "Epoch 4/8\n",
      "32/32 [==============================] - 0s 562us/step - loss: 0.0052 - weight-entropy: 1.5979\n",
      "Epoch 5/8\n",
      "32/32 [==============================] - 0s 562us/step - loss: 0.0051 - weight-entropy: 1.5734\n",
      "Epoch 6/8\n",
      "32/32 [==============================] - 0s 563us/step - loss: 0.0057 - weight-entropy: 1.6093\n",
      "Epoch 7/8\n",
      "32/32 [==============================] - 0s 594us/step - loss: 0.0053 - weight-entropy: 1.5232\n",
      "Epoch 8/8\n",
      "32/32 [==============================] - 0s 531us/step - loss: 0.0052 - weight-entropy: 1.5552\n",
      "Epoch 1/8\n",
      "32/32 [==============================] - 0s 1ms/step - loss: -0.0573 - R-dist-dist_loss: 0.0037 - T-dist-dist_loss: -0.0055 - rho-dist-dist_loss: -6.7548e-04 - beta-dist_loss: -0.0548\n",
      "Epoch 2/8\n",
      "32/32 [==============================] - 0s 1ms/step - loss: -0.0576 - R-dist-dist_loss: 0.0036 - T-dist-dist_loss: -0.0055 - rho-dist-dist_loss: -7.3494e-04 - beta-dist_loss: -0.0549\n",
      "Epoch 3/8\n",
      "32/32 [==============================] - 0s 1ms/step - loss: -0.0576 - R-dist-dist_loss: 0.0036 - T-dist-dist_loss: -0.0055 - rho-dist-dist_loss: -7.6081e-04 - beta-dist_loss: -0.0549\n",
      "Epoch 4/8\n",
      "32/32 [==============================] - 0s 1ms/step - loss: -0.0574 - R-dist-dist_loss: 0.0036 - T-dist-dist_loss: -0.0055 - rho-dist-dist_loss: -7.5588e-04 - beta-dist_loss: -0.0548\n",
      "Epoch 5/8\n",
      "32/32 [==============================] - 0s 1ms/step - loss: -0.0579 - R-dist-dist_loss: 0.0036 - T-dist-dist_loss: -0.0055 - rho-dist-dist_loss: -7.6760e-04 - beta-dist_loss: -0.0552\n",
      "Epoch 6/8\n",
      "32/32 [==============================] - 0s 1ms/step - loss: -0.0579 - R-dist-dist_loss: 0.0036 - T-dist-dist_loss: -0.0055 - rho-dist-dist_loss: -7.4993e-04 - beta-dist_loss: -0.0552\n",
      "Epoch 7/8\n",
      "32/32 [==============================] - 0s 1ms/step - loss: -0.0579 - R-dist-dist_loss: 0.0036 - T-dist-dist_loss: -0.0055 - rho-dist-dist_loss: -7.6254e-04 - beta-dist_loss: -0.0552\n",
      "Epoch 8/8\n",
      "32/32 [==============================] - 0s 1ms/step - loss: -0.0578 - R-dist-dist_loss: 0.0036 - T-dist-dist_loss: -0.0055 - rho-dist-dist_loss: -7.5410e-04 - beta-dist_loss: -0.0551\n",
      "Epoch 1/8\n",
      "32/32 [==============================] - 0s 562us/step - loss: 0.0057 - weight-entropy: 1.7017\n",
      "Epoch 2/8\n",
      "32/32 [==============================] - 0s 563us/step - loss: 0.0059 - weight-entropy: 1.7129\n",
      "Epoch 3/8\n",
      "32/32 [==============================] - 0s 563us/step - loss: 0.0059 - weight-entropy: 1.7278\n",
      "Epoch 4/8\n",
      "32/32 [==============================] - 0s 594us/step - loss: 0.0060 - weight-entropy: 1.7490\n",
      "Epoch 5/8\n",
      "32/32 [==============================] - 0s 562us/step - loss: 0.0057 - weight-entropy: 1.7085\n",
      "Epoch 6/8\n",
      "32/32 [==============================] - 0s 594us/step - loss: 0.0055 - weight-entropy: 1.7871\n",
      "Epoch 7/8\n",
      "32/32 [==============================] - 0s 562us/step - loss: 0.0058 - weight-entropy: 1.7769\n",
      "Epoch 8/8\n",
      "32/32 [==============================] - 0s 594us/step - loss: 0.0059 - weight-entropy: 1.6428\n",
      "Epoch 1/8\n"
     ]
    },
    {
     "name": "stdout",
     "output_type": "stream",
     "text": [
      "32/32 [==============================] - 0s 1ms/step - loss: -0.0547 - R-dist-dist_loss: 0.0044 - T-dist-dist_loss: -0.0054 - rho-dist-dist_loss: -5.4253e-04 - beta-dist_loss: -0.0532\n",
      "Epoch 2/8\n",
      "32/32 [==============================] - 0s 1ms/step - loss: -0.0538 - R-dist-dist_loss: 0.0040 - T-dist-dist_loss: -0.0054 - rho-dist-dist_loss: -5.8650e-04 - beta-dist_loss: -0.0518\n",
      "Epoch 3/8\n",
      "32/32 [==============================] - 0s 1ms/step - loss: -0.0547 - R-dist-dist_loss: 0.0037 - T-dist-dist_loss: -0.0055 - rho-dist-dist_loss: -5.8172e-04 - beta-dist_loss: -0.0524\n",
      "Epoch 4/8\n",
      "32/32 [==============================] - 0s 1ms/step - loss: -0.0515 - R-dist-dist_loss: 0.0038 - T-dist-dist_loss: -0.0055 - rho-dist-dist_loss: -5.7524e-04 - beta-dist_loss: -0.0493\n",
      "Epoch 5/8\n",
      "32/32 [==============================] - 0s 1ms/step - loss: -0.0536 - R-dist-dist_loss: 0.0039 - T-dist-dist_loss: -0.0055 - rho-dist-dist_loss: -5.7103e-04 - beta-dist_loss: -0.0514\n",
      "Epoch 6/8\n",
      "32/32 [==============================] - 0s 1ms/step - loss: -0.0549 - R-dist-dist_loss: 0.0039 - T-dist-dist_loss: -0.0055 - rho-dist-dist_loss: -5.5665e-04 - beta-dist_loss: -0.0527\n",
      "Epoch 7/8\n",
      "32/32 [==============================] - 0s 1ms/step - loss: -0.0553 - R-dist-dist_loss: 0.0037 - T-dist-dist_loss: -0.0055 - rho-dist-dist_loss: -5.7960e-04 - beta-dist_loss: -0.0530\n",
      "Epoch 8/8\n",
      "32/32 [==============================] - 0s 1ms/step - loss: -0.0549 - R-dist-dist_loss: 0.0038 - T-dist-dist_loss: -0.0055 - rho-dist-dist_loss: -5.3943e-04 - beta-dist_loss: -0.0527\n",
      "Epoch 1/8\n",
      "32/32 [==============================] - 0s 593us/step - loss: 0.0060 - weight-entropy: 1.3228\n",
      "Epoch 2/8\n",
      "32/32 [==============================] - 0s 594us/step - loss: 0.0062 - weight-entropy: 1.3177\n",
      "Epoch 3/8\n",
      "32/32 [==============================] - 0s 562us/step - loss: 0.0063 - weight-entropy: 1.4139\n",
      "Epoch 4/8\n",
      "32/32 [==============================] - 0s 562us/step - loss: 0.0060 - weight-entropy: 1.3265\n",
      "Epoch 5/8\n",
      "32/32 [==============================] - 0s 594us/step - loss: 0.0060 - weight-entropy: 1.3044\n",
      "Epoch 6/8\n",
      "32/32 [==============================] - 0s 562us/step - loss: 0.0063 - weight-entropy: 1.3924\n",
      "Epoch 7/8\n",
      "32/32 [==============================] - 0s 563us/step - loss: 0.0062 - weight-entropy: 1.3440\n",
      "Epoch 8/8\n",
      "32/32 [==============================] - 0s 562us/step - loss: 0.0059 - weight-entropy: 1.2900\n",
      "Epoch 1/8\n",
      "32/32 [==============================] - 0s 1ms/step - loss: -0.0585 - R-dist-dist_loss: 0.0027 - T-dist-dist_loss: -0.0049 - rho-dist-dist_loss: -0.0013 - beta-dist_loss: -0.0550                \n",
      "Epoch 2/8\n",
      "32/32 [==============================] - 0s 1ms/step - loss: -0.0130 - R-dist-dist_loss: 0.0013 - T-dist-dist_loss: -0.0055 - rho-dist-dist_loss: -0.0019 - beta-dist_loss: -0.0070       \n",
      "Epoch 3/8\n",
      "32/32 [==============================] - 0s 1ms/step - loss: -0.0711 - R-dist-dist_loss: 5.7417e-04 - T-dist-dist_loss: -0.0058 - rho-dist-dist_loss: -0.0019 - beta-dist_loss: -0.0640   \n",
      "Epoch 4/8\n",
      "32/32 [==============================] - 0s 1ms/step - loss: -0.0714 - R-dist-dist_loss: 3.0322e-04 - T-dist-dist_loss: -0.0061 - rho-dist-dist_loss: -0.0020 - beta-dist_loss: -0.0636    \n",
      "Epoch 5/8\n",
      "32/32 [==============================] - 0s 1ms/step - loss: -0.0674 - R-dist-dist_loss: 2.1754e-04 - T-dist-dist_loss: -0.0052 - rho-dist-dist_loss: -0.0020 - beta-dist_loss: -0.0605    \n",
      "Epoch 6/8\n",
      "32/32 [==============================] - 0s 1ms/step - loss: -0.0682 - R-dist-dist_loss: -3.7191e-04 - T-dist-dist_loss: -0.0060 - rho-dist-dist_loss: -0.0020 - beta-dist_loss: -0.0598\n",
      "Epoch 7/8\n",
      "32/32 [==============================] - 0s 1ms/step - loss: -0.0546 - R-dist-dist_loss: -6.4423e-04 - T-dist-dist_loss: -0.0061 - rho-dist-dist_loss: -0.0020 - beta-dist_loss: -0.0458  \n",
      "Epoch 8/8\n",
      "32/32 [==============================] - 0s 1ms/step - loss: -0.0609 - R-dist-dist_loss: -2.2715e-04 - T-dist-dist_loss: -0.0062 - rho-dist-dist_loss: -0.0020 - beta-dist_loss: -0.0525   \n",
      "Epoch 1/8\n",
      "32/32 [==============================] - 0s 593us/step - loss: 0.0150 - weight-entropy: 0.8180\n",
      "Epoch 2/8\n",
      "32/32 [==============================] - 0s 562us/step - loss: 0.0124 - weight-entropy: 0.6776\n",
      "Epoch 3/8\n",
      "32/32 [==============================] - 0s 594us/step - loss: 0.0127 - weight-entropy: 0.6866\n",
      "Epoch 4/8\n",
      "32/32 [==============================] - 0s 594us/step - loss: 0.0131 - weight-entropy: 0.8172\n",
      "Epoch 5/8\n",
      "32/32 [==============================] - 0s 563us/step - loss: 0.0124 - weight-entropy: 0.6595\n",
      "Epoch 6/8\n",
      "32/32 [==============================] - 0s 594us/step - loss: 0.0142 - weight-entropy: 0.7781\n",
      "Epoch 7/8\n",
      "32/32 [==============================] - 0s 562us/step - loss: 0.0150 - weight-entropy: 0.7426\n",
      "Epoch 8/8\n",
      "32/32 [==============================] - 0s 594us/step - loss: 0.0126 - weight-entropy: 0.6096\n",
      "Epoch 1/8\n",
      "32/32 [==============================] - 0s 1ms/step - loss: -0.0290 - R-dist-dist_loss: 0.0041 - T-dist-dist_loss: -0.0047 - rho-dist-dist_loss: -0.0015 - beta-dist_loss: -0.0270\n",
      "Epoch 2/8\n",
      "32/32 [==============================] - 0s 1ms/step - loss: -0.0516 - R-dist-dist_loss: 0.0029 - T-dist-dist_loss: -0.0057 - rho-dist-dist_loss: -0.0016 - beta-dist_loss: -0.0473\n",
      "Epoch 3/8\n",
      "32/32 [==============================] - 0s 1ms/step - loss: -0.0621 - R-dist-dist_loss: 0.0027 - T-dist-dist_loss: -0.0059 - rho-dist-dist_loss: -0.0016 - beta-dist_loss: -0.0573                \n",
      "Epoch 4/8\n",
      "32/32 [==============================] - 0s 1ms/step - loss: -0.0602 - R-dist-dist_loss: 0.0027 - T-dist-dist_loss: -0.0058 - rho-dist-dist_loss: -0.0016 - beta-dist_loss: -0.0554        \n",
      "Epoch 5/8\n",
      "32/32 [==============================] - 0s 1ms/step - loss: -0.0598 - R-dist-dist_loss: 0.0028 - T-dist-dist_loss: -0.0058 - rho-dist-dist_loss: -0.0016 - beta-dist_loss: -0.0552        \n",
      "Epoch 6/8\n",
      "32/32 [==============================] - 0s 1ms/step - loss: -0.0621 - R-dist-dist_loss: 0.0024 - T-dist-dist_loss: -0.0059 - rho-dist-dist_loss: -0.0016 - beta-dist_loss: -0.0570        \n",
      "Epoch 7/8\n",
      "32/32 [==============================] - 0s 1ms/step - loss: -0.0591 - R-dist-dist_loss: 0.0026 - T-dist-dist_loss: -0.0059 - rho-dist-dist_loss: -0.0016 - beta-dist_loss: -0.0542\n",
      "Epoch 8/8\n",
      "32/32 [==============================] - 0s 1ms/step - loss: -0.0621 - R-dist-dist_loss: 0.0025 - T-dist-dist_loss: -0.0059 - rho-dist-dist_loss: -0.0016 - beta-dist_loss: -0.0570\n",
      "Epoch 1/8\n",
      " 1/32 [..............................] - ETA: 0s - loss: 0.0089 - weight-entropy: 1.1264WARNING:tensorflow:Callbacks method `on_train_batch_end` is slow compared to the batch time (batch time: 0.0000s vs `on_train_batch_end` time: 0.0010s). Check your callbacks.\n",
      "32/32 [==============================] - 0s 656us/step - loss: 0.0091 - weight-entropy: 0.9932\n",
      "Epoch 2/8\n",
      "32/32 [==============================] - 0s 594us/step - loss: 0.0082 - weight-entropy: 0.9642\n",
      "Epoch 3/8\n",
      "32/32 [==============================] - 0s 531us/step - loss: 0.0095 - weight-entropy: 0.9330\n",
      "Epoch 4/8\n",
      "32/32 [==============================] - 0s 594us/step - loss: 0.0086 - weight-entropy: 0.9218\n",
      "Epoch 5/8\n",
      "32/32 [==============================] - 0s 594us/step - loss: 0.0094 - weight-entropy: 0.9113\n",
      "Epoch 6/8\n",
      "32/32 [==============================] - 0s 562us/step - loss: 0.0089 - weight-entropy: 1.0037\n",
      "Epoch 7/8\n",
      "32/32 [==============================] - 0s 562us/step - loss: 0.0091 - weight-entropy: 0.9163\n",
      "Epoch 8/8\n",
      "32/32 [==============================] - 0s 562us/step - loss: 0.0092 - weight-entropy: 0.9141\n",
      "Epoch 1/8\n",
      "32/32 [==============================] - 0s 1ms/step - loss: -0.0638 - R-dist-dist_loss: 0.0048 - T-dist-dist_loss: -0.0058 - rho-dist-dist_loss: -0.0018 - beta-dist_loss: -0.0610        \n",
      "Epoch 2/8\n",
      "32/32 [==============================] - 0s 1ms/step - loss: -0.0655 - R-dist-dist_loss: 0.0026 - T-dist-dist_loss: -0.0067 - rho-dist-dist_loss: -0.0019 - beta-dist_loss: -0.0595        \n",
      "Epoch 3/8\n",
      "32/32 [==============================] - 0s 1ms/step - loss: -0.0626 - R-dist-dist_loss: 0.0027 - T-dist-dist_loss: -0.0068 - rho-dist-dist_loss: -0.0020 - beta-dist_loss: -0.0565                \n",
      "Epoch 4/8\n"
     ]
    },
    {
     "name": "stdout",
     "output_type": "stream",
     "text": [
      "32/32 [==============================] - 0s 1ms/step - loss: -0.0657 - R-dist-dist_loss: 0.0022 - T-dist-dist_loss: -0.0069 - rho-dist-dist_loss: -0.0020 - beta-dist_loss: -0.0590        \n",
      "Epoch 5/8\n",
      "32/32 [==============================] - 0s 1ms/step - loss: -0.0682 - R-dist-dist_loss: 0.0025 - T-dist-dist_loss: -0.0070 - rho-dist-dist_loss: -0.0020 - beta-dist_loss: -0.0616\n",
      "Epoch 6/8\n",
      "32/32 [==============================] - 0s 1ms/step - loss: -0.0680 - R-dist-dist_loss: 0.0026 - T-dist-dist_loss: -0.0072 - rho-dist-dist_loss: -0.0020 - beta-dist_loss: -0.0613                \n",
      "Epoch 7/8\n",
      "32/32 [==============================] - 0s 1ms/step - loss: -0.0688 - R-dist-dist_loss: 0.0022 - T-dist-dist_loss: -0.0073 - rho-dist-dist_loss: -0.0020 - beta-dist_loss: -0.0617                \n",
      "Epoch 8/8\n",
      "32/32 [==============================] - 0s 1ms/step - loss: -0.0692 - R-dist-dist_loss: 0.0023 - T-dist-dist_loss: -0.0075 - rho-dist-dist_loss: -0.0020 - beta-dist_loss: -0.0620                \n",
      "Epoch 1/8\n",
      "32/32 [==============================] - 0s 594us/step - loss: 0.0059 - weight-entropy: 0.9456\n",
      "Epoch 2/8\n",
      "32/32 [==============================] - 0s 562us/step - loss: 0.0057 - weight-entropy: 0.9954\n",
      "Epoch 3/8\n",
      "32/32 [==============================] - 0s 594us/step - loss: 0.0057 - weight-entropy: 0.8663\n",
      "Epoch 4/8\n",
      "32/32 [==============================] - 0s 656us/step - loss: 0.0056 - weight-entropy: 1.0801\n",
      "Epoch 5/8\n",
      "32/32 [==============================] - 0s 594us/step - loss: 0.0055 - weight-entropy: 1.0240\n",
      "Epoch 6/8\n",
      "32/32 [==============================] - 0s 625us/step - loss: 0.0067 - weight-entropy: 0.9662\n",
      "Epoch 7/8\n",
      "32/32 [==============================] - 0s 594us/step - loss: 0.0058 - weight-entropy: 0.8961\n",
      "Epoch 8/8\n",
      "32/32 [==============================] - 0s 656us/step - loss: 0.0060 - weight-entropy: 1.0323\n",
      "Epoch 1/8\n",
      "32/32 [==============================] - 0s 1ms/step - loss: -0.0520 - R-dist-dist_loss: 0.0042 - T-dist-dist_loss: -0.0053 - rho-dist-dist_loss: -0.0020 - beta-dist_loss: -0.0489    \n",
      "Epoch 2/8\n",
      "32/32 [==============================] - 0s 1ms/step - loss: -0.0565 - R-dist-dist_loss: 0.0028 - T-dist-dist_loss: -0.0060 - rho-dist-dist_loss: -0.0019 - beta-dist_loss: -0.0514\n",
      "Epoch 3/8\n",
      "32/32 [==============================] - 0s 1ms/step - loss: -0.0535 - R-dist-dist_loss: 0.0027 - T-dist-dist_loss: -0.0061 - rho-dist-dist_loss: -0.0020 - beta-dist_loss: -0.0480    \n",
      "Epoch 4/8\n",
      "32/32 [==============================] - 0s 1ms/step - loss: -0.0517 - R-dist-dist_loss: 0.0027 - T-dist-dist_loss: -0.0061 - rho-dist-dist_loss: -0.0021 - beta-dist_loss: -0.0462    \n",
      "Epoch 5/8\n",
      "32/32 [==============================] - 0s 1ms/step - loss: -0.0565 - R-dist-dist_loss: 0.0026 - T-dist-dist_loss: -0.0063 - rho-dist-dist_loss: -0.0021 - beta-dist_loss: -0.0507\n",
      "Epoch 6/8\n",
      "32/32 [==============================] - 0s 1ms/step - loss: -0.0576 - R-dist-dist_loss: 0.0027 - T-dist-dist_loss: -0.0062 - rho-dist-dist_loss: -0.0022 - beta-dist_loss: -0.0519\n",
      "Epoch 7/8\n",
      "32/32 [==============================] - 0s 1ms/step - loss: -0.0556 - R-dist-dist_loss: 0.0026 - T-dist-dist_loss: -0.0062 - rho-dist-dist_loss: -0.0022 - beta-dist_loss: -0.0498        \n",
      "Epoch 8/8\n",
      "32/32 [==============================] - 0s 1ms/step - loss: -0.0533 - R-dist-dist_loss: 0.0027 - T-dist-dist_loss: -0.0062 - rho-dist-dist_loss: -0.0021 - beta-dist_loss: -0.0476        \n",
      "Epoch 1/8\n",
      "32/32 [==============================] - 0s 594us/step - loss: 0.0055 - weight-entropy: 1.2118\n",
      "Epoch 2/8\n",
      "32/32 [==============================] - 0s 594us/step - loss: 0.0051 - weight-entropy: 1.1320\n",
      "Epoch 3/8\n",
      "32/32 [==============================] - 0s 531us/step - loss: 0.0055 - weight-entropy: 1.2466\n",
      "Epoch 4/8\n",
      "32/32 [==============================] - 0s 594us/step - loss: 0.0052 - weight-entropy: 1.1489\n",
      "Epoch 5/8\n",
      "32/32 [==============================] - 0s 562us/step - loss: 0.0052 - weight-entropy: 1.2703\n",
      "Epoch 6/8\n",
      "32/32 [==============================] - 0s 594us/step - loss: 0.0049 - weight-entropy: 1.1907\n",
      "Epoch 7/8\n",
      "32/32 [==============================] - 0s 562us/step - loss: 0.0045 - weight-entropy: 1.2732\n",
      "Epoch 8/8\n",
      "32/32 [==============================] - 0s 563us/step - loss: 0.0045 - weight-entropy: 1.2112\n",
      "Epoch 1/8\n",
      "32/32 [==============================] - 0s 1ms/step - loss: -0.0596 - R-dist-dist_loss: 0.0036 - T-dist-dist_loss: -0.0059 - rho-dist-dist_loss: -0.0011 - beta-dist_loss: -0.0563\n",
      "Epoch 2/8\n",
      "32/32 [==============================] - 0s 1ms/step - loss: -0.0622 - R-dist-dist_loss: 0.0032 - T-dist-dist_loss: -0.0061 - rho-dist-dist_loss: -0.0013 - beta-dist_loss: -0.0580\n",
      "Epoch 3/8\n",
      "32/32 [==============================] - 0s 1ms/step - loss: -0.0628 - R-dist-dist_loss: 0.0031 - T-dist-dist_loss: -0.0061 - rho-dist-dist_loss: -0.0013 - beta-dist_loss: -0.0585\n",
      "Epoch 4/8\n",
      "32/32 [==============================] - 0s 1ms/step - loss: -0.0626 - R-dist-dist_loss: 0.0033 - T-dist-dist_loss: -0.0061 - rho-dist-dist_loss: -0.0014 - beta-dist_loss: -0.0584\n",
      "Epoch 5/8\n",
      "32/32 [==============================] - 0s 1ms/step - loss: -0.0630 - R-dist-dist_loss: 0.0032 - T-dist-dist_loss: -0.0061 - rho-dist-dist_loss: -0.0014 - beta-dist_loss: -0.0586    \n",
      "Epoch 6/8\n",
      "32/32 [==============================] - 0s 1ms/step - loss: -0.0630 - R-dist-dist_loss: 0.0032 - T-dist-dist_loss: -0.0061 - rho-dist-dist_loss: -0.0014 - beta-dist_loss: -0.0586    \n",
      "Epoch 7/8\n",
      "32/32 [==============================] - 0s 1ms/step - loss: -0.0632 - R-dist-dist_loss: 0.0031 - T-dist-dist_loss: -0.0062 - rho-dist-dist_loss: -0.0014 - beta-dist_loss: -0.0587\n",
      "Epoch 8/8\n",
      "32/32 [==============================] - 0s 1ms/step - loss: -0.0629 - R-dist-dist_loss: 0.0032 - T-dist-dist_loss: -0.0061 - rho-dist-dist_loss: -0.0014 - beta-dist_loss: -0.0586   \n",
      "Epoch 1/8\n",
      "32/32 [==============================] - 0s 687us/step - loss: 0.0047 - weight-entropy: 1.4506\n",
      "Epoch 2/8\n",
      "32/32 [==============================] - 0s 688us/step - loss: 0.0040 - weight-entropy: 1.4280\n",
      "Epoch 3/8\n",
      "32/32 [==============================] - 0s 656us/step - loss: 0.0052 - weight-entropy: 1.3045\n",
      "Epoch 4/8\n",
      "32/32 [==============================] - 0s 594us/step - loss: 0.0048 - weight-entropy: 1.4285\n",
      "Epoch 5/8\n",
      "32/32 [==============================] - 0s 594us/step - loss: 0.0043 - weight-entropy: 1.3999\n",
      "Epoch 6/8\n",
      "32/32 [==============================] - 0s 594us/step - loss: 0.0046 - weight-entropy: 1.3863\n",
      "Epoch 7/8\n",
      "32/32 [==============================] - 0s 562us/step - loss: 0.0043 - weight-entropy: 1.4519\n",
      "Epoch 8/8\n",
      "32/32 [==============================] - 0s 594us/step - loss: 0.0043 - weight-entropy: 1.4130\n",
      "Epoch 1/8\n",
      "32/32 [==============================] - 0s 1ms/step - loss: -0.0516 - R-dist-dist_loss: 0.0031 - T-dist-dist_loss: -0.0053 - rho-dist-dist_loss: -0.0016 - beta-dist_loss: -0.0477\n",
      "Epoch 2/8\n",
      "32/32 [==============================] - 0s 1ms/step - loss: -0.0500 - R-dist-dist_loss: 0.0028 - T-dist-dist_loss: -0.0056 - rho-dist-dist_loss: -0.0017 - beta-dist_loss: -0.0455        \n",
      "Epoch 3/8\n",
      "32/32 [==============================] - 0s 1ms/step - loss: -0.0527 - R-dist-dist_loss: 0.0028 - T-dist-dist_loss: -0.0056 - rho-dist-dist_loss: -0.0018 - beta-dist_loss: -0.0481\n",
      "Epoch 4/8\n",
      "32/32 [==============================] - 0s 1ms/step - loss: -0.0530 - R-dist-dist_loss: 0.0026 - T-dist-dist_loss: -0.0056 - rho-dist-dist_loss: -0.0018 - beta-dist_loss: -0.0482    \n",
      "Epoch 5/8\n",
      "32/32 [==============================] - 0s 1ms/step - loss: -0.0506 - R-dist-dist_loss: 0.0028 - T-dist-dist_loss: -0.0056 - rho-dist-dist_loss: -0.0017 - beta-dist_loss: -0.0461\n",
      "Epoch 6/8\n",
      "32/32 [==============================] - 0s 1ms/step - loss: -0.0519 - R-dist-dist_loss: 0.0027 - T-dist-dist_loss: -0.0056 - rho-dist-dist_loss: -0.0017 - beta-dist_loss: -0.0472        \n",
      "Epoch 7/8\n",
      "32/32 [==============================] - 0s 1ms/step - loss: -0.0505 - R-dist-dist_loss: 0.0026 - T-dist-dist_loss: -0.0056 - rho-dist-dist_loss: -0.0018 - beta-dist_loss: -0.0458\n",
      "Epoch 8/8\n",
      "32/32 [==============================] - 0s 1ms/step - loss: -0.0509 - R-dist-dist_loss: 0.0028 - T-dist-dist_loss: -0.0056 - rho-dist-dist_loss: -0.0018 - beta-dist_loss: -0.0463\n",
      "Epoch 1/8\n"
     ]
    },
    {
     "name": "stdout",
     "output_type": "stream",
     "text": [
      "32/32 [==============================] - 0s 625us/step - loss: 0.0052 - weight-entropy: 1.4957\n",
      "Epoch 2/8\n",
      "32/32 [==============================] - 0s 687us/step - loss: 0.0051 - weight-entropy: 1.5840\n",
      "Epoch 3/8\n",
      "32/32 [==============================] - 0s 688us/step - loss: 0.0048 - weight-entropy: 1.6040\n",
      "Epoch 4/8\n",
      "32/32 [==============================] - 0s 688us/step - loss: 0.0055 - weight-entropy: 1.4290\n",
      "Epoch 5/8\n",
      "32/32 [==============================] - 0s 656us/step - loss: 0.0054 - weight-entropy: 1.5252\n",
      "Epoch 6/8\n",
      "32/32 [==============================] - 0s 656us/step - loss: 0.0049 - weight-entropy: 1.5652\n",
      "Epoch 7/8\n",
      "32/32 [==============================] - 0s 687us/step - loss: 0.0054 - weight-entropy: 1.5514\n",
      "Epoch 8/8\n",
      "32/32 [==============================] - 0s 656us/step - loss: 0.0054 - weight-entropy: 1.6116\n",
      "Epoch 1/8\n",
      "32/32 [==============================] - 0s 1ms/step - loss: -0.0554 - R-dist-dist_loss: 0.0038 - T-dist-dist_loss: -0.0057 - rho-dist-dist_loss: 0.0033 - beta-dist_loss: -0.0567         \n",
      "Epoch 2/8\n",
      "32/32 [==============================] - 0s 1ms/step - loss: -0.0591 - R-dist-dist_loss: 0.0032 - T-dist-dist_loss: -0.0059 - rho-dist-dist_loss: 8.5089e-04 - beta-dist_loss: -0.0573     \n",
      "Epoch 3/8\n",
      "32/32 [==============================] - 0s 1ms/step - loss: -0.0523 - R-dist-dist_loss: 0.0030 - T-dist-dist_loss: -0.0060 - rho-dist-dist_loss: -3.1423e-04 - beta-dist_loss: -0.0491    \n",
      "Epoch 4/8\n",
      "32/32 [==============================] - 0s 1ms/step - loss: -0.0517 - R-dist-dist_loss: 0.0027 - T-dist-dist_loss: -0.0060 - rho-dist-dist_loss: -6.4853e-04 - beta-dist_loss: -0.0477\n",
      "Epoch 5/8\n",
      "32/32 [==============================] - 0s 1ms/step - loss: -0.0595 - R-dist-dist_loss: 0.0028 - T-dist-dist_loss: -0.0061 - rho-dist-dist_loss: -6.7887e-04 - beta-dist_loss: -0.0555\n",
      "Epoch 6/8\n",
      "32/32 [==============================] - 0s 1ms/step - loss: -0.0604 - R-dist-dist_loss: 0.0028 - T-dist-dist_loss: -0.0061 - rho-dist-dist_loss: -6.9301e-04 - beta-dist_loss: -0.0564\n",
      "Epoch 7/8\n",
      "32/32 [==============================] - 0s 1ms/step - loss: -0.0602 - R-dist-dist_loss: 0.0027 - T-dist-dist_loss: -0.0061 - rho-dist-dist_loss: -6.8484e-04 - beta-dist_loss: -0.0562\n",
      "Epoch 8/8\n",
      "32/32 [==============================] - 0s 1ms/step - loss: -0.0602 - R-dist-dist_loss: 0.0022 - T-dist-dist_loss: -0.0060 - rho-dist-dist_loss: -6.7215e-04 - beta-dist_loss: -0.0557\n",
      "Epoch 1/8\n",
      "32/32 [==============================] - 0s 625us/step - loss: 0.0054 - weight-entropy: 1.2199\n",
      "Epoch 2/8\n",
      "32/32 [==============================] - 0s 531us/step - loss: 0.0060 - weight-entropy: 1.1736\n",
      "Epoch 3/8\n",
      "32/32 [==============================] - 0s 562us/step - loss: 0.0057 - weight-entropy: 1.2180\n",
      "Epoch 4/8\n",
      "32/32 [==============================] - 0s 594us/step - loss: 0.0056 - weight-entropy: 1.1952\n",
      "Epoch 5/8\n",
      "32/32 [==============================] - 0s 594us/step - loss: 0.0066 - weight-entropy: 1.1511\n",
      "Epoch 6/8\n",
      "32/32 [==============================] - 0s 563us/step - loss: 0.0065 - weight-entropy: 1.1779\n",
      "Epoch 7/8\n",
      "32/32 [==============================] - 0s 656us/step - loss: 0.0067 - weight-entropy: 1.0927\n",
      "Epoch 8/8\n",
      "32/32 [==============================] - 0s 656us/step - loss: 0.0068 - weight-entropy: 1.1976\n",
      "Epoch 1/8\n",
      "32/32 [==============================] - 0s 1ms/step - loss: -0.0610 - R-dist-dist_loss: 0.0029 - T-dist-dist_loss: -0.0056 - rho-dist-dist_loss: 6.6307e-06 - beta-dist_loss: -0.0583\n",
      "Epoch 2/8\n",
      "32/32 [==============================] - 0s 1ms/step - loss: -0.0631 - R-dist-dist_loss: 0.0026 - T-dist-dist_loss: -0.0057 - rho-dist-dist_loss: -3.8506e-04 - beta-dist_loss: -0.0596\n",
      "Epoch 3/8\n",
      "32/32 [==============================] - 0s 1ms/step - loss: -0.0633 - R-dist-dist_loss: 0.0025 - T-dist-dist_loss: -0.0057 - rho-dist-dist_loss: -4.4713e-04 - beta-dist_loss: -0.0596\n",
      "Epoch 4/8\n",
      "32/32 [==============================] - 0s 1ms/step - loss: -0.0634 - R-dist-dist_loss: 0.0025 - T-dist-dist_loss: -0.0057 - rho-dist-dist_loss: -4.4955e-04 - beta-dist_loss: -0.0597\n",
      "Epoch 5/8\n",
      "32/32 [==============================] - 0s 1ms/step - loss: -0.0633 - R-dist-dist_loss: 0.0024 - T-dist-dist_loss: -0.0057 - rho-dist-dist_loss: -4.4341e-04 - beta-dist_loss: -0.0596\n",
      "Epoch 6/8\n",
      "32/32 [==============================] - 0s 1ms/step - loss: -0.0634 - R-dist-dist_loss: 0.0024 - T-dist-dist_loss: -0.0057 - rho-dist-dist_loss: -4.5184e-04 - beta-dist_loss: -0.0597    \n",
      "Epoch 7/8\n",
      "32/32 [==============================] - 0s 1ms/step - loss: -0.0634 - R-dist-dist_loss: 0.0024 - T-dist-dist_loss: -0.0057 - rho-dist-dist_loss: -4.4653e-04 - beta-dist_loss: -0.0596    \n",
      "Epoch 8/8\n",
      "32/32 [==============================] - 0s 1ms/step - loss: -0.0632 - R-dist-dist_loss: 0.0024 - T-dist-dist_loss: -0.0057 - rho-dist-dist_loss: -4.6109e-04 - beta-dist_loss: -0.0594    \n",
      "Epoch 1/8\n",
      "32/32 [==============================] - 0s 625us/step - loss: 0.0053 - weight-entropy: 1.5213\n",
      "Epoch 2/8\n",
      "32/32 [==============================] - 0s 625us/step - loss: 0.0052 - weight-entropy: 1.5400\n",
      "Epoch 3/8\n",
      "32/32 [==============================] - 0s 625us/step - loss: 0.0050 - weight-entropy: 1.6103\n",
      "Epoch 4/8\n",
      "32/32 [==============================] - 0s 594us/step - loss: 0.0057 - weight-entropy: 1.5771\n",
      "Epoch 5/8\n",
      "32/32 [==============================] - 0s 594us/step - loss: 0.0048 - weight-entropy: 1.4738\n",
      "Epoch 6/8\n",
      "32/32 [==============================] - 0s 594us/step - loss: 0.0057 - weight-entropy: 1.5480\n",
      "Epoch 7/8\n",
      "32/32 [==============================] - 0s 562us/step - loss: 0.0049 - weight-entropy: 1.5646\n",
      "Epoch 8/8\n",
      "32/32 [==============================] - 0s 594us/step - loss: 0.0049 - weight-entropy: 1.5720\n",
      "Epoch 1/8\n",
      "32/32 [==============================] - 0s 1ms/step - loss: -0.0452 - R-dist-dist_loss: 0.0051 - T-dist-dist_loss: -0.0060 - rho-dist-dist_loss: -2.1143e-04 - beta-dist_loss: -0.0442\n",
      "Epoch 2/8\n",
      "32/32 [==============================] - 0s 1ms/step - loss: -0.0492 - R-dist-dist_loss: 0.0044 - T-dist-dist_loss: -0.0060 - rho-dist-dist_loss: -4.0674e-04 - beta-dist_loss: -0.0472\n",
      "Epoch 3/8\n",
      "32/32 [==============================] - 0s 1ms/step - loss: -0.0543 - R-dist-dist_loss: 0.0039 - T-dist-dist_loss: -0.0060 - rho-dist-dist_loss: -4.0607e-04 - beta-dist_loss: -0.0518\n",
      "Epoch 4/8\n",
      "32/32 [==============================] - 0s 1ms/step - loss: -0.0508 - R-dist-dist_loss: 0.0042 - T-dist-dist_loss: -0.0060 - rho-dist-dist_loss: -4.2851e-04 - beta-dist_loss: -0.0485\n",
      "Epoch 5/8\n",
      "32/32 [==============================] - 0s 1ms/step - loss: -0.0520 - R-dist-dist_loss: 0.0040 - T-dist-dist_loss: -0.0060 - rho-dist-dist_loss: -4.4374e-04 - beta-dist_loss: -0.0495\n",
      "Epoch 6/8\n",
      "32/32 [==============================] - 0s 1ms/step - loss: -0.0503 - R-dist-dist_loss: 0.0042 - T-dist-dist_loss: -0.0060 - rho-dist-dist_loss: -4.1451e-04 - beta-dist_loss: -0.0481\n",
      "Epoch 7/8\n",
      "32/32 [==============================] - 0s 1ms/step - loss: -0.0541 - R-dist-dist_loss: 0.0039 - T-dist-dist_loss: -0.0060 - rho-dist-dist_loss: -4.4308e-04 - beta-dist_loss: -0.0515\n",
      "Epoch 8/8\n",
      "32/32 [==============================] - 0s 1ms/step - loss: -0.0504 - R-dist-dist_loss: 0.0041 - T-dist-dist_loss: -0.0060 - rho-dist-dist_loss: -4.0249e-04 - beta-dist_loss: -0.0481\n",
      "Epoch 1/8\n",
      "32/32 [==============================] - 0s 625us/step - loss: 0.0049 - weight-entropy: 1.2722\n",
      "Epoch 2/8\n",
      "32/32 [==============================] - 0s 562us/step - loss: 0.0053 - weight-entropy: 1.2173\n",
      "Epoch 3/8\n",
      "32/32 [==============================] - 0s 594us/step - loss: 0.0053 - weight-entropy: 1.2986\n",
      "Epoch 4/8\n",
      "32/32 [==============================] - 0s 562us/step - loss: 0.0052 - weight-entropy: 1.3146\n",
      "Epoch 5/8\n",
      "32/32 [==============================] - 0s 563us/step - loss: 0.0053 - weight-entropy: 1.1702\n",
      "Epoch 6/8\n",
      "32/32 [==============================] - 0s 594us/step - loss: 0.0053 - weight-entropy: 1.1375\n",
      "Epoch 7/8\n",
      "32/32 [==============================] - 0s 594us/step - loss: 0.0046 - weight-entropy: 1.3245\n",
      "Epoch 8/8\n",
      "32/32 [==============================] - 0s 594us/step - loss: 0.0053 - weight-entropy: 1.2202\n",
      "Epoch 1/8\n"
     ]
    },
    {
     "name": "stdout",
     "output_type": "stream",
     "text": [
      "32/32 [==============================] - 0s 1ms/step - loss: -0.0496 - R-dist-dist_loss: 0.0034 - T-dist-dist_loss: -0.0061 - rho-dist-dist_loss: -5.7687e-04 - beta-dist_loss: -0.0463\n",
      "Epoch 2/8\n",
      "32/32 [==============================] - 0s 1ms/step - loss: -0.0503 - R-dist-dist_loss: 0.0032 - T-dist-dist_loss: -0.0062 - rho-dist-dist_loss: -6.0357e-04 - beta-dist_loss: -0.0466\n",
      "Epoch 3/8\n",
      "32/32 [==============================] - 0s 1ms/step - loss: -0.0496 - R-dist-dist_loss: 0.0032 - T-dist-dist_loss: -0.0062 - rho-dist-dist_loss: -6.0857e-04 - beta-dist_loss: -0.0460   \n",
      "Epoch 4/8\n",
      "32/32 [==============================] - 0s 1ms/step - loss: -0.0473 - R-dist-dist_loss: 0.0032 - T-dist-dist_loss: -0.0062 - rho-dist-dist_loss: -6.4086e-04 - beta-dist_loss: -0.0436\n",
      "Epoch 5/8\n",
      "32/32 [==============================] - 0s 1ms/step - loss: -0.0460 - R-dist-dist_loss: 0.0032 - T-dist-dist_loss: -0.0062 - rho-dist-dist_loss: -6.5029e-04 - beta-dist_loss: -0.0423\n",
      "Epoch 6/8\n",
      "32/32 [==============================] - 0s 1ms/step - loss: -0.0517 - R-dist-dist_loss: 0.0030 - T-dist-dist_loss: -0.0062 - rho-dist-dist_loss: -6.5301e-04 - beta-dist_loss: -0.0478\n",
      "Epoch 7/8\n",
      "32/32 [==============================] - 0s 1ms/step - loss: -0.0384 - R-dist-dist_loss: 0.0032 - T-dist-dist_loss: -0.0063 - rho-dist-dist_loss: -6.4171e-04 - beta-dist_loss: -0.0346    \n",
      "Epoch 8/8\n",
      "32/32 [==============================] - 0s 1ms/step - loss: -0.0492 - R-dist-dist_loss: 0.0031 - T-dist-dist_loss: -0.0062 - rho-dist-dist_loss: -6.1901e-04 - beta-dist_loss: -0.0454\n",
      "Epoch 1/8\n",
      "32/32 [==============================] - 0s 594us/step - loss: 0.0070 - weight-entropy: 1.3818\n",
      "Epoch 2/8\n",
      "32/32 [==============================] - 0s 563us/step - loss: 0.0059 - weight-entropy: 1.3968\n",
      "Epoch 3/8\n",
      "32/32 [==============================] - 0s 562us/step - loss: 0.0055 - weight-entropy: 1.4319\n",
      "Epoch 4/8\n",
      "32/32 [==============================] - 0s 594us/step - loss: 0.0050 - weight-entropy: 1.3918\n",
      "Epoch 5/8\n",
      "32/32 [==============================] - 0s 594us/step - loss: 0.0058 - weight-entropy: 1.4264\n",
      "Epoch 6/8\n",
      "32/32 [==============================] - 0s 590us/step - loss: 0.0059 - weight-entropy: 1.4201\n",
      "Epoch 7/8\n",
      "32/32 [==============================] - 0s 562us/step - loss: 0.0060 - weight-entropy: 1.3631\n",
      "Epoch 8/8\n",
      "32/32 [==============================] - 0s 562us/step - loss: 0.0061 - weight-entropy: 1.3712\n",
      "Epoch 1/8\n",
      "32/32 [==============================] - 0s 1ms/step - loss: -0.0519 - R-dist-dist_loss: 0.0042 - T-dist-dist_loss: -0.0058 - rho-dist-dist_loss: -2.4513e-04 - beta-dist_loss: -0.0501\n",
      "Epoch 2/8\n",
      "32/32 [==============================] - 0s 1ms/step - loss: -0.0564 - R-dist-dist_loss: 0.0035 - T-dist-dist_loss: -0.0060 - rho-dist-dist_loss: -7.4698e-04 - beta-dist_loss: -0.0531    \n",
      "Epoch 3/8\n",
      "32/32 [==============================] - 0s 1ms/step - loss: -0.0569 - R-dist-dist_loss: 0.0032 - T-dist-dist_loss: -0.0060 - rho-dist-dist_loss: -7.5612e-04 - beta-dist_loss: -0.0534    \n",
      "Epoch 4/8\n",
      "32/32 [==============================] - 0s 1ms/step - loss: -0.0566 - R-dist-dist_loss: 0.0034 - T-dist-dist_loss: -0.0060 - rho-dist-dist_loss: -7.4034e-04 - beta-dist_loss: -0.0532    \n",
      "Epoch 5/8\n",
      "32/32 [==============================] - 0s 1ms/step - loss: -0.0550 - R-dist-dist_loss: 0.0034 - T-dist-dist_loss: -0.0061 - rho-dist-dist_loss: -8.3502e-04 - beta-dist_loss: -0.0514\n",
      "Epoch 6/8\n",
      "32/32 [==============================] - 0s 1ms/step - loss: -0.0576 - R-dist-dist_loss: 0.0032 - T-dist-dist_loss: -0.0061 - rho-dist-dist_loss: -8.2178e-04 - beta-dist_loss: -0.0539\n",
      "Epoch 7/8\n",
      "32/32 [==============================] - 0s 1ms/step - loss: -0.0570 - R-dist-dist_loss: 0.0035 - T-dist-dist_loss: -0.0061 - rho-dist-dist_loss: -8.1993e-04 - beta-dist_loss: -0.0536\n",
      "Epoch 8/8\n",
      "32/32 [==============================] - 0s 1ms/step - loss: -0.0567 - R-dist-dist_loss: 0.0034 - T-dist-dist_loss: -0.0061 - rho-dist-dist_loss: -7.8554e-04 - beta-dist_loss: -0.0533\n",
      "Epoch 1/8\n",
      "32/32 [==============================] - 0s 594us/step - loss: 0.0041 - weight-entropy: 1.6524\n",
      "Epoch 2/8\n",
      "32/32 [==============================] - 0s 562us/step - loss: 0.0047 - weight-entropy: 1.6056\n",
      "Epoch 3/8\n",
      "32/32 [==============================] - 0s 563us/step - loss: 0.0048 - weight-entropy: 1.6996\n",
      "Epoch 4/8\n",
      "32/32 [==============================] - 0s 594us/step - loss: 0.0045 - weight-entropy: 1.6727\n",
      "Epoch 5/8\n",
      "32/32 [==============================] - 0s 594us/step - loss: 0.0044 - weight-entropy: 1.6483\n",
      "Epoch 6/8\n",
      "32/32 [==============================] - 0s 562us/step - loss: 0.0044 - weight-entropy: 1.6609\n",
      "Epoch 7/8\n",
      "32/32 [==============================] - 0s 563us/step - loss: 0.0045 - weight-entropy: 1.7134\n",
      "Epoch 8/8\n",
      "32/32 [==============================] - 0s 562us/step - loss: 0.0046 - weight-entropy: 1.7031\n",
      "Epoch 1/8\n",
      "32/32 [==============================] - 0s 1ms/step - loss: -0.0611 - R-dist-dist_loss: 0.0034 - T-dist-dist_loss: -0.0060 - rho-dist-dist_loss: -3.7100e-04 - beta-dist_loss: -0.0582    \n",
      "Epoch 2/8\n",
      "32/32 [==============================] - 0s 1ms/step - loss: -0.0616 - R-dist-dist_loss: 0.0033 - T-dist-dist_loss: -0.0061 - rho-dist-dist_loss: -4.9101e-04 - beta-dist_loss: -0.0583\n",
      "Epoch 3/8\n",
      "32/32 [==============================] - 0s 1ms/step - loss: -0.0613 - R-dist-dist_loss: 0.0033 - T-dist-dist_loss: -0.0061 - rho-dist-dist_loss: -4.9325e-04 - beta-dist_loss: -0.0580    \n",
      "Epoch 4/8\n",
      "32/32 [==============================] - 0s 1ms/step - loss: -0.0618 - R-dist-dist_loss: 0.0033 - T-dist-dist_loss: -0.0061 - rho-dist-dist_loss: -5.1704e-04 - beta-dist_loss: -0.0585\n",
      "Epoch 5/8\n",
      "32/32 [==============================] - 0s 1ms/step - loss: -0.0615 - R-dist-dist_loss: 0.0032 - T-dist-dist_loss: -0.0061 - rho-dist-dist_loss: -4.6250e-04 - beta-dist_loss: -0.0581\n",
      "Epoch 6/8\n",
      "32/32 [==============================] - 0s 1ms/step - loss: -0.0617 - R-dist-dist_loss: 0.0032 - T-dist-dist_loss: -0.0061 - rho-dist-dist_loss: -4.5857e-04 - beta-dist_loss: -0.0584\n",
      "Epoch 7/8\n",
      "32/32 [==============================] - 0s 1ms/step - loss: -0.0620 - R-dist-dist_loss: 0.0032 - T-dist-dist_loss: -0.0061 - rho-dist-dist_loss: -4.7009e-04 - beta-dist_loss: -0.0587\n",
      "Epoch 8/8\n",
      "32/32 [==============================] - 0s 1ms/step - loss: -0.0617 - R-dist-dist_loss: 0.0032 - T-dist-dist_loss: -0.0061 - rho-dist-dist_loss: -4.9904e-04 - beta-dist_loss: -0.0583\n",
      "Epoch 1/8\n",
      "32/32 [==============================] - 0s 562us/step - loss: 0.0054 - weight-entropy: 1.5579\n",
      "Epoch 2/8\n",
      "32/32 [==============================] - 0s 562us/step - loss: 0.0057 - weight-entropy: 1.4589\n",
      "Epoch 3/8\n",
      "32/32 [==============================] - 0s 563us/step - loss: 0.0052 - weight-entropy: 1.3978\n",
      "Epoch 4/8\n",
      "32/32 [==============================] - 0s 562us/step - loss: 0.0052 - weight-entropy: 1.4576\n",
      "Epoch 5/8\n",
      "32/32 [==============================] - 0s 562us/step - loss: 0.0052 - weight-entropy: 1.4316\n",
      "Epoch 6/8\n",
      "32/32 [==============================] - 0s 594us/step - loss: 0.0053 - weight-entropy: 1.5486\n",
      "Epoch 7/8\n",
      "32/32 [==============================] - 0s 563us/step - loss: 0.0055 - weight-entropy: 1.5471\n",
      "Epoch 8/8\n",
      "32/32 [==============================] - 0s 562us/step - loss: 0.0052 - weight-entropy: 1.4498\n",
      "Epoch 1/8\n",
      "32/32 [==============================] - 0s 1ms/step - loss: -0.0603 - R-dist-dist_loss: 0.0061 - T-dist-dist_loss: -0.0049 - rho-dist-dist_loss: -0.0012 - beta-dist_loss: -0.0603        \n",
      "Epoch 2/8\n",
      "32/32 [==============================] - 0s 1ms/step - loss: -0.0628 - R-dist-dist_loss: 0.0051 - T-dist-dist_loss: -0.0052 - rho-dist-dist_loss: -0.0020 - beta-dist_loss: -0.0607   \n",
      "Epoch 3/8\n",
      "32/32 [==============================] - 0s 1ms/step - loss: -0.0527 - R-dist-dist_loss: 0.0045 - T-dist-dist_loss: -0.0052 - rho-dist-dist_loss: -0.0025 - beta-dist_loss: -0.0494       \n",
      "Epoch 4/8\n",
      "32/32 [==============================] - 0s 1ms/step - loss: -0.0630 - R-dist-dist_loss: 0.0045 - T-dist-dist_loss: -0.0052 - rho-dist-dist_loss: -0.0020 - beta-dist_loss: -0.0603       \n",
      "Epoch 5/8\n",
      "32/32 [==============================] - 0s 1ms/step - loss: -0.0479 - R-dist-dist_loss: 0.0044 - T-dist-dist_loss: -0.0052 - rho-dist-dist_loss: -0.0027 - beta-dist_loss: -0.0444\n",
      "Epoch 6/8\n"
     ]
    },
    {
     "name": "stdout",
     "output_type": "stream",
     "text": [
      "32/32 [==============================] - 0s 1ms/step - loss: -0.0600 - R-dist-dist_loss: 0.0045 - T-dist-dist_loss: -0.0052 - rho-dist-dist_loss: -0.0024 - beta-dist_loss: -0.0569\n",
      "Epoch 7/8\n",
      "32/32 [==============================] - 0s 1ms/step - loss: -0.0629 - R-dist-dist_loss: 0.0043 - T-dist-dist_loss: -0.0053 - rho-dist-dist_loss: -0.0025 - beta-dist_loss: -0.0594               \n",
      "Epoch 8/8\n",
      "32/32 [==============================] - 0s 1ms/step - loss: -0.0651 - R-dist-dist_loss: 0.0046 - T-dist-dist_loss: -0.0052 - rho-dist-dist_loss: -0.0027 - beta-dist_loss: -0.0617   \n",
      "Epoch 1/8\n",
      "32/32 [==============================] - 0s 562us/step - loss: 0.0085 - weight-entropy: 0.8690\n",
      "Epoch 2/8\n",
      "32/32 [==============================] - 0s 563us/step - loss: 0.0084 - weight-entropy: 0.9497\n",
      "Epoch 3/8\n",
      "32/32 [==============================] - 0s 531us/step - loss: 0.0078 - weight-entropy: 0.8472\n",
      "Epoch 4/8\n",
      "32/32 [==============================] - 0s 562us/step - loss: 0.0083 - weight-entropy: 0.8711\n",
      "Epoch 5/8\n",
      "32/32 [==============================] - 0s 563us/step - loss: 0.0074 - weight-entropy: 1.0694\n",
      "Epoch 6/8\n",
      "32/32 [==============================] - 0s 562us/step - loss: 0.0080 - weight-entropy: 0.9525\n",
      "Epoch 7/8\n",
      "32/32 [==============================] - 0s 594us/step - loss: 0.0079 - weight-entropy: 0.9595\n",
      "Epoch 8/8\n",
      "32/32 [==============================] - 0s 562us/step - loss: 0.0082 - weight-entropy: 0.8736\n",
      "Epoch 1/8\n",
      "32/32 [==============================] - 0s 1ms/step - loss: -0.0619 - R-dist-dist_loss: 0.0043 - T-dist-dist_loss: -0.0060 - rho-dist-dist_loss: -0.0027 - beta-dist_loss: -0.0575        \n",
      "Epoch 2/8\n",
      "32/32 [==============================] - 0s 1ms/step - loss: -0.0533 - R-dist-dist_loss: 0.0025 - T-dist-dist_loss: -0.0063 - rho-dist-dist_loss: -0.0029 - beta-dist_loss: -0.0466        \n",
      "Epoch 3/8\n",
      "32/32 [==============================] - 0s 1ms/step - loss: -0.0608 - R-dist-dist_loss: 0.0024 - T-dist-dist_loss: -0.0063 - rho-dist-dist_loss: -0.0031 - beta-dist_loss: -0.0539\n",
      "Epoch 4/8\n",
      "32/32 [==============================] - 0s 1ms/step - loss: -0.0528 - R-dist-dist_loss: 0.0025 - T-dist-dist_loss: -0.0063 - rho-dist-dist_loss: -0.0023 - beta-dist_loss: -0.0467\n",
      "Epoch 5/8\n",
      "32/32 [==============================] - 0s 1ms/step - loss: -0.0488 - R-dist-dist_loss: 0.0024 - T-dist-dist_loss: -0.0065 - rho-dist-dist_loss: -0.0030 - beta-dist_loss: -0.0417\n",
      "Epoch 6/8\n",
      "32/32 [==============================] - 0s 1ms/step - loss: -0.0620 - R-dist-dist_loss: 0.0020 - T-dist-dist_loss: -0.0065 - rho-dist-dist_loss: -0.0027 - beta-dist_loss: -0.0549            \n",
      "Epoch 7/8\n",
      "32/32 [==============================] - 0s 1ms/step - loss: -0.0539 - R-dist-dist_loss: 0.0019 - T-dist-dist_loss: -0.0051 - rho-dist-dist_loss: -0.0031 - beta-dist_loss: -0.0476                \n",
      "Epoch 8/8\n",
      "32/32 [==============================] - 0s 1ms/step - loss: -0.0465 - R-dist-dist_loss: 0.0027 - T-dist-dist_loss: -0.0055 - rho-dist-dist_loss: -0.0027 - beta-dist_loss: -0.0410        \n",
      "Epoch 1/8\n",
      "32/32 [==============================] - 0s 594us/step - loss: 0.0101 - weight-entropy: 0.7877\n",
      "Epoch 2/8\n",
      "32/32 [==============================] - 0s 594us/step - loss: 0.0084 - weight-entropy: 0.8882\n",
      "Epoch 3/8\n",
      "32/32 [==============================] - 0s 594us/step - loss: 0.0078 - weight-entropy: 0.7996\n",
      "Epoch 4/8\n",
      "32/32 [==============================] - 0s 594us/step - loss: 0.0088 - weight-entropy: 0.7804\n",
      "Epoch 5/8\n",
      "32/32 [==============================] - 0s 562us/step - loss: 0.0082 - weight-entropy: 0.8068\n",
      "Epoch 6/8\n",
      "32/32 [==============================] - 0s 562us/step - loss: 0.0094 - weight-entropy: 0.8142\n",
      "Epoch 7/8\n",
      "32/32 [==============================] - 0s 562us/step - loss: 0.0082 - weight-entropy: 0.7700\n",
      "Epoch 8/8\n",
      "32/32 [==============================] - 0s 563us/step - loss: 0.0085 - weight-entropy: 0.7839\n",
      "Epoch 1/8\n",
      "32/32 [==============================] - 0s 1ms/step - loss: -0.0558 - R-dist-dist_loss: 0.0035 - T-dist-dist_loss: -0.0062 - rho-dist-dist_loss: -0.0017 - beta-dist_loss: -0.0514\n",
      "Epoch 2/8\n",
      "32/32 [==============================] - 0s 1ms/step - loss: -0.0552 - R-dist-dist_loss: 0.0028 - T-dist-dist_loss: -0.0063 - rho-dist-dist_loss: -0.0019 - beta-dist_loss: -0.0498              \n",
      "Epoch 3/8\n",
      "32/32 [==============================] - 0s 1ms/step - loss: -0.0553 - R-dist-dist_loss: 0.0026 - T-dist-dist_loss: -0.0063 - rho-dist-dist_loss: -0.0019 - beta-dist_loss: -0.0497        \n",
      "Epoch 4/8\n",
      "32/32 [==============================] - 0s 1ms/step - loss: -0.0536 - R-dist-dist_loss: 0.0026 - T-dist-dist_loss: -0.0063 - rho-dist-dist_loss: -0.0019 - beta-dist_loss: -0.0480        \n",
      "Epoch 5/8\n",
      "32/32 [==============================] - 0s 1ms/step - loss: -0.0556 - R-dist-dist_loss: 0.0026 - T-dist-dist_loss: -0.0063 - rho-dist-dist_loss: -0.0020 - beta-dist_loss: -0.0499\n",
      "Epoch 6/8\n",
      "32/32 [==============================] - 0s 1ms/step - loss: -0.0565 - R-dist-dist_loss: 0.0025 - T-dist-dist_loss: -0.0064 - rho-dist-dist_loss: -0.0020 - beta-dist_loss: -0.0506    \n",
      "Epoch 7/8\n",
      "32/32 [==============================] - 0s 1ms/step - loss: -0.0516 - R-dist-dist_loss: 0.0028 - T-dist-dist_loss: -0.0064 - rho-dist-dist_loss: -0.0019 - beta-dist_loss: -0.0462\n",
      "Epoch 8/8\n",
      "32/32 [==============================] - 0s 1ms/step - loss: -0.0560 - R-dist-dist_loss: 0.0032 - T-dist-dist_loss: -0.0064 - rho-dist-dist_loss: -0.0019 - beta-dist_loss: -0.0510    \n",
      "Epoch 1/8\n",
      "32/32 [==============================] - 0s 562us/step - loss: 0.0054 - weight-entropy: 1.2151\n",
      "Epoch 2/8\n",
      "32/32 [==============================] - 0s 625us/step - loss: 0.0053 - weight-entropy: 1.0978\n",
      "Epoch 3/8\n",
      "32/32 [==============================] - 0s 563us/step - loss: 0.0050 - weight-entropy: 1.1938\n",
      "Epoch 4/8\n",
      "32/32 [==============================] - 0s 594us/step - loss: 0.0049 - weight-entropy: 1.2267\n",
      "Epoch 5/8\n",
      "32/32 [==============================] - 0s 594us/step - loss: 0.0052 - weight-entropy: 1.1101\n",
      "Epoch 6/8\n",
      "32/32 [==============================] - 0s 562us/step - loss: 0.0052 - weight-entropy: 1.1939\n",
      "Epoch 7/8\n",
      "32/32 [==============================] - 0s 594us/step - loss: 0.0056 - weight-entropy: 1.0792\n",
      "Epoch 8/8\n",
      "32/32 [==============================] - 0s 562us/step - loss: 0.0050 - weight-entropy: 1.1058\n",
      "Epoch 1/8\n",
      "32/32 [==============================] - 0s 1ms/step - loss: -0.0480 - R-dist-dist_loss: 0.0044 - T-dist-dist_loss: -0.0062 - rho-dist-dist_loss: 2.5863e-04 - beta-dist_loss: -0.0464\n",
      "Epoch 2/8\n",
      "32/32 [==============================] - 0s 1ms/step - loss: -0.0513 - R-dist-dist_loss: 0.0038 - T-dist-dist_loss: -0.0067 - rho-dist-dist_loss: -3.0732e-04 - beta-dist_loss: -0.0480\n",
      "Epoch 3/8\n",
      "32/32 [==============================] - 0s 1ms/step - loss: -0.0526 - R-dist-dist_loss: 0.0037 - T-dist-dist_loss: -0.0068 - rho-dist-dist_loss: -4.4480e-04 - beta-dist_loss: -0.0490\n",
      "Epoch 4/8\n",
      "32/32 [==============================] - 0s 1ms/step - loss: -0.0568 - R-dist-dist_loss: 0.0033 - T-dist-dist_loss: -0.0068 - rho-dist-dist_loss: -5.6443e-04 - beta-dist_loss: -0.0528\n",
      "Epoch 5/8\n",
      "32/32 [==============================] - 0s 1ms/step - loss: -0.0567 - R-dist-dist_loss: 0.0035 - T-dist-dist_loss: -0.0068 - rho-dist-dist_loss: -5.9228e-04 - beta-dist_loss: -0.0528\n",
      "Epoch 6/8\n",
      "32/32 [==============================] - 0s 1ms/step - loss: -0.0535 - R-dist-dist_loss: 0.0035 - T-dist-dist_loss: -0.0068 - rho-dist-dist_loss: -5.7836e-04 - beta-dist_loss: -0.0496\n",
      "Epoch 7/8\n",
      "32/32 [==============================] - 0s 1ms/step - loss: -0.0544 - R-dist-dist_loss: 0.0035 - T-dist-dist_loss: -0.0068 - rho-dist-dist_loss: -5.9794e-04 - beta-dist_loss: -0.0505            \n",
      "Epoch 8/8\n",
      "32/32 [==============================] - 0s 1ms/step - loss: -0.0531 - R-dist-dist_loss: 0.0036 - T-dist-dist_loss: -0.0068 - rho-dist-dist_loss: -5.8086e-04 - beta-dist_loss: -0.0492\n",
      "Epoch 1/8\n",
      "32/32 [==============================] - 0s 562us/step - loss: 0.0045 - weight-entropy: 1.1166\n",
      "Epoch 2/8\n",
      "32/32 [==============================] - 0s 563us/step - loss: 0.0045 - weight-entropy: 0.9946\n",
      "Epoch 3/8\n",
      "32/32 [==============================] - 0s 594us/step - loss: 0.0058 - weight-entropy: 0.9423\n",
      "Epoch 4/8\n"
     ]
    },
    {
     "name": "stdout",
     "output_type": "stream",
     "text": [
      "32/32 [==============================] - 0s 562us/step - loss: 0.0058 - weight-entropy: 1.0311\n",
      "Epoch 5/8\n",
      "32/32 [==============================] - 0s 562us/step - loss: 0.0055 - weight-entropy: 1.0757\n",
      "Epoch 6/8\n",
      "32/32 [==============================] - 0s 594us/step - loss: 0.0050 - weight-entropy: 1.1116\n",
      "Epoch 7/8\n",
      "32/32 [==============================] - 0s 562us/step - loss: 0.0048 - weight-entropy: 1.0193\n",
      "Epoch 8/8\n",
      "32/32 [==============================] - 0s 594us/step - loss: 0.0044 - weight-entropy: 0.9952\n",
      "Epoch 1/8\n",
      "32/32 [==============================] - 0s 1ms/step - loss: -0.0521 - R-dist-dist_loss: 0.0050 - T-dist-dist_loss: -0.0053 - rho-dist-dist_loss: -5.2545e-04 - beta-dist_loss: -0.0512\n",
      "Epoch 2/8\n",
      "32/32 [==============================] - 0s 1ms/step - loss: -0.0525 - R-dist-dist_loss: 0.0045 - T-dist-dist_loss: -0.0056 - rho-dist-dist_loss: -5.5471e-04 - beta-dist_loss: -0.0508\n",
      "Epoch 3/8\n",
      "32/32 [==============================] - 0s 1ms/step - loss: -0.0564 - R-dist-dist_loss: 0.0040 - T-dist-dist_loss: -0.0058 - rho-dist-dist_loss: -7.1025e-04 - beta-dist_loss: -0.0539    \n",
      "Epoch 4/8\n",
      "32/32 [==============================] - 0s 1ms/step - loss: -0.0580 - R-dist-dist_loss: 0.0038 - T-dist-dist_loss: -0.0058 - rho-dist-dist_loss: -7.5271e-04 - beta-dist_loss: -0.0552    \n",
      "Epoch 5/8\n",
      "32/32 [==============================] - 0s 1ms/step - loss: -0.0573 - R-dist-dist_loss: 0.0038 - T-dist-dist_loss: -0.0059 - rho-dist-dist_loss: -7.4122e-04 - beta-dist_loss: -0.0545            \n",
      "Epoch 6/8\n",
      "32/32 [==============================] - 0s 1ms/step - loss: -0.0567 - R-dist-dist_loss: 0.0038 - T-dist-dist_loss: -0.0059 - rho-dist-dist_loss: -7.0456e-04 - beta-dist_loss: -0.0539\n",
      "Epoch 7/8\n",
      "32/32 [==============================] - 0s 1ms/step - loss: -0.0581 - R-dist-dist_loss: 0.0037 - T-dist-dist_loss: -0.0059 - rho-dist-dist_loss: -7.8359e-04 - beta-dist_loss: -0.0551\n",
      "Epoch 8/8\n",
      "32/32 [==============================] - 0s 1ms/step - loss: -0.0577 - R-dist-dist_loss: 0.0040 - T-dist-dist_loss: -0.0060 - rho-dist-dist_loss: -7.4845e-04 - beta-dist_loss: -0.0550\n",
      "Epoch 1/8\n",
      "32/32 [==============================] - 0s 594us/step - loss: 0.0041 - weight-entropy: 1.2896\n",
      "Epoch 2/8\n",
      "32/32 [==============================] - 0s 594us/step - loss: 0.0044 - weight-entropy: 1.1496\n",
      "Epoch 3/8\n",
      "32/32 [==============================] - 0s 562us/step - loss: 0.0047 - weight-entropy: 1.2944\n",
      "Epoch 4/8\n",
      "32/32 [==============================] - 0s 562us/step - loss: 0.0048 - weight-entropy: 1.1101\n",
      "Epoch 5/8\n",
      "32/32 [==============================] - 0s 563us/step - loss: 0.0048 - weight-entropy: 1.2441\n",
      "Epoch 6/8\n",
      "32/32 [==============================] - 0s 562us/step - loss: 0.0041 - weight-entropy: 1.2389\n",
      "Epoch 7/8\n",
      "32/32 [==============================] - 0s 562us/step - loss: 0.0043 - weight-entropy: 1.1471\n",
      "Epoch 8/8\n",
      "32/32 [==============================] - 0s 594us/step - loss: 0.0044 - weight-entropy: 1.2675\n",
      "Epoch 1/8\n",
      "32/32 [==============================] - 0s 1ms/step - loss: -0.0538 - R-dist-dist_loss: 0.0042 - T-dist-dist_loss: -0.0059 - rho-dist-dist_loss: -9.8070e-04 - beta-dist_loss: -0.0511\n",
      "Epoch 2/8\n",
      "32/32 [==============================] - 0s 1ms/step - loss: -0.0567 - R-dist-dist_loss: 0.0034 - T-dist-dist_loss: -0.0060 - rho-dist-dist_loss: -0.0010 - beta-dist_loss: -0.0531\n",
      "Epoch 3/8\n",
      "32/32 [==============================] - 0s 1ms/step - loss: -0.0550 - R-dist-dist_loss: 0.0034 - T-dist-dist_loss: -0.0061 - rho-dist-dist_loss: -0.0010 - beta-dist_loss: -0.0513\n",
      "Epoch 4/8\n",
      "32/32 [==============================] - 0s 1ms/step - loss: -0.0557 - R-dist-dist_loss: 0.0034 - T-dist-dist_loss: -0.0061 - rho-dist-dist_loss: -0.0010 - beta-dist_loss: -0.0519    \n",
      "Epoch 5/8\n",
      "32/32 [==============================] - 0s 1ms/step - loss: -0.0534 - R-dist-dist_loss: 0.0033 - T-dist-dist_loss: -0.0061 - rho-dist-dist_loss: -0.0010 - beta-dist_loss: -0.0496    \n",
      "Epoch 6/8\n",
      "32/32 [==============================] - 0s 1ms/step - loss: -0.0539 - R-dist-dist_loss: 0.0034 - T-dist-dist_loss: -0.0061 - rho-dist-dist_loss: -0.0010 - beta-dist_loss: -0.0502    \n",
      "Epoch 7/8\n",
      "32/32 [==============================] - 0s 1ms/step - loss: -0.0554 - R-dist-dist_loss: 0.0033 - T-dist-dist_loss: -0.0061 - rho-dist-dist_loss: -0.0010 - beta-dist_loss: -0.0516\n",
      "Epoch 8/8\n",
      "32/32 [==============================] - 0s 1ms/step - loss: -0.0547 - R-dist-dist_loss: 0.0033 - T-dist-dist_loss: -0.0061 - rho-dist-dist_loss: -9.8851e-04 - beta-dist_loss: -0.0509\n",
      "Epoch 1/8\n",
      "32/32 [==============================] - 0s 594us/step - loss: 0.0043 - weight-entropy: 1.4627\n",
      "Epoch 2/8\n",
      "32/32 [==============================] - 0s 562us/step - loss: 0.0042 - weight-entropy: 1.3841\n",
      "Epoch 3/8\n",
      "32/32 [==============================] - 0s 594us/step - loss: 0.0040 - weight-entropy: 1.5879\n",
      "Epoch 4/8\n",
      "32/32 [==============================] - 0s 562us/step - loss: 0.0039 - weight-entropy: 1.4941\n",
      "Epoch 5/8\n",
      "32/32 [==============================] - 0s 594us/step - loss: 0.0045 - weight-entropy: 1.5132\n",
      "Epoch 6/8\n",
      "32/32 [==============================] - 0s 558us/step - loss: 0.0040 - weight-entropy: 1.4875\n",
      "Epoch 7/8\n",
      "32/32 [==============================] - 0s 562us/step - loss: 0.0045 - weight-entropy: 1.5167\n",
      "Epoch 8/8\n",
      "32/32 [==============================] - 0s 563us/step - loss: 0.0043 - weight-entropy: 1.4485\n",
      "Epoch 1/8\n",
      "32/32 [==============================] - 0s 1ms/step - loss: -0.0463 - R-dist-dist_loss: 0.0032 - T-dist-dist_loss: -0.0061 - rho-dist-dist_loss: -3.9257e-04 - beta-dist_loss: -0.0430\n",
      "Epoch 2/8\n",
      "32/32 [==============================] - 0s 1ms/step - loss: -0.0510 - R-dist-dist_loss: 0.0032 - T-dist-dist_loss: -0.0062 - rho-dist-dist_loss: -4.4238e-04 - beta-dist_loss: -0.0476\n",
      "Epoch 3/8\n",
      "32/32 [==============================] - 0s 1ms/step - loss: -0.0461 - R-dist-dist_loss: 0.0032 - T-dist-dist_loss: -0.0062 - rho-dist-dist_loss: -4.8228e-04 - beta-dist_loss: -0.0426\n",
      "Epoch 4/8\n",
      "32/32 [==============================] - 0s 1ms/step - loss: -0.0492 - R-dist-dist_loss: 0.0031 - T-dist-dist_loss: -0.0062 - rho-dist-dist_loss: -4.6359e-04 - beta-dist_loss: -0.0456\n",
      "Epoch 5/8\n",
      "32/32 [==============================] - 0s 1ms/step - loss: -0.0495 - R-dist-dist_loss: 0.0031 - T-dist-dist_loss: -0.0062 - rho-dist-dist_loss: -4.4077e-04 - beta-dist_loss: -0.0460\n",
      "Epoch 6/8\n",
      "32/32 [==============================] - 0s 1ms/step - loss: -0.0528 - R-dist-dist_loss: 0.0030 - T-dist-dist_loss: -0.0062 - rho-dist-dist_loss: -4.6692e-04 - beta-dist_loss: -0.0491\n",
      "Epoch 7/8\n",
      "32/32 [==============================] - 0s 1ms/step - loss: -0.0494 - R-dist-dist_loss: 0.0031 - T-dist-dist_loss: -0.0062 - rho-dist-dist_loss: -4.3817e-04 - beta-dist_loss: -0.0459\n",
      "Epoch 8/8\n",
      "32/32 [==============================] - 0s 1ms/step - loss: -0.0512 - R-dist-dist_loss: 0.0030 - T-dist-dist_loss: -0.0062 - rho-dist-dist_loss: -4.7339e-04 - beta-dist_loss: -0.0475\n",
      "Epoch 1/8\n",
      "32/32 [==============================] - 0s 590us/step - loss: 0.0037 - weight-entropy: 1.6207\n",
      "Epoch 2/8\n",
      "32/32 [==============================] - 0s 562us/step - loss: 0.0044 - weight-entropy: 1.5741\n",
      "Epoch 3/8\n",
      "32/32 [==============================] - 0s 594us/step - loss: 0.0041 - weight-entropy: 1.5357\n",
      "Epoch 4/8\n",
      "32/32 [==============================] - 0s 594us/step - loss: 0.0036 - weight-entropy: 1.6043\n",
      "Epoch 5/8\n",
      "32/32 [==============================] - 0s 563us/step - loss: 0.0041 - weight-entropy: 1.5967\n",
      "Epoch 6/8\n",
      "32/32 [==============================] - 0s 594us/step - loss: 0.0041 - weight-entropy: 1.6355\n",
      "Epoch 7/8\n",
      "32/32 [==============================] - 0s 563us/step - loss: 0.0039 - weight-entropy: 1.5774\n",
      "Epoch 8/8\n",
      "32/32 [==============================] - 0s 562us/step - loss: 0.0038 - weight-entropy: 1.4951\n",
      "Epoch 1/8\n",
      "32/32 [==============================] - 0s 1ms/step - loss: -0.0526 - R-dist-dist_loss: 0.0035 - T-dist-dist_loss: -0.0038 - rho-dist-dist_loss: 6.2059e-04 - beta-dist_loss: -0.0529\n",
      "Epoch 2/8\n",
      "32/32 [==============================] - 0s 1ms/step - loss: -0.0547 - R-dist-dist_loss: 0.0027 - T-dist-dist_loss: -0.0046 - rho-dist-dist_loss: 1.5232e-04 - beta-dist_loss: -0.0529     \n",
      "Epoch 3/8\n"
     ]
    },
    {
     "name": "stdout",
     "output_type": "stream",
     "text": [
      "32/32 [==============================] - 0s 1ms/step - loss: -0.0552 - R-dist-dist_loss: 0.0030 - T-dist-dist_loss: -0.0049 - rho-dist-dist_loss: -1.3649e-04 - beta-dist_loss: -0.0531   \n",
      "Epoch 4/8\n",
      "32/32 [==============================] - 0s 1ms/step - loss: -0.0563 - R-dist-dist_loss: 0.0027 - T-dist-dist_loss: -0.0049 - rho-dist-dist_loss: -1.3094e-04 - beta-dist_loss: -0.0540   \n",
      "Epoch 5/8\n",
      "32/32 [==============================] - 0s 1ms/step - loss: -0.0574 - R-dist-dist_loss: 0.0026 - T-dist-dist_loss: -0.0049 - rho-dist-dist_loss: -1.2652e-04 - beta-dist_loss: -0.0550\n",
      "Epoch 6/8\n",
      "32/32 [==============================] - 0s 1ms/step - loss: -0.0519 - R-dist-dist_loss: 0.0030 - T-dist-dist_loss: -0.0049 - rho-dist-dist_loss: -1.7078e-05 - beta-dist_loss: -0.0499\n",
      "Epoch 7/8\n",
      "32/32 [==============================] - 0s 1ms/step - loss: -0.0539 - R-dist-dist_loss: 0.0026 - T-dist-dist_loss: -0.0050 - rho-dist-dist_loss: -1.6169e-04 - beta-dist_loss: -0.0514   \n",
      "Epoch 8/8\n",
      "32/32 [==============================] - 0s 1ms/step - loss: -0.0594 - R-dist-dist_loss: 0.0026 - T-dist-dist_loss: -0.0050 - rho-dist-dist_loss: -1.5071e-04 - beta-dist_loss: -0.0569\n",
      "Epoch 1/8\n",
      "32/32 [==============================] - 0s 594us/step - loss: 0.0042 - weight-entropy: 1.0533\n",
      "Epoch 2/8\n",
      "32/32 [==============================] - 0s 594us/step - loss: 0.0045 - weight-entropy: 0.9445\n",
      "Epoch 3/8\n",
      "32/32 [==============================] - 0s 562us/step - loss: 0.0053 - weight-entropy: 1.0984\n",
      "Epoch 4/8\n",
      "32/32 [==============================] - 0s 562us/step - loss: 0.0052 - weight-entropy: nan\n",
      "Epoch 5/8\n",
      "32/32 [==============================] - 0s 563us/step - loss: 0.0050 - weight-entropy: 1.0771\n",
      "Epoch 6/8\n",
      "32/32 [==============================] - 0s 594us/step - loss: 0.0051 - weight-entropy: nan\n",
      "Epoch 7/8\n",
      "32/32 [==============================] - 0s 594us/step - loss: 0.0049 - weight-entropy: nan\n",
      "Epoch 8/8\n",
      "32/32 [==============================] - 0s 531us/step - loss: 0.0043 - weight-entropy: 1.0720\n",
      "Epoch 1/8\n",
      "32/32 [==============================] - 0s 1ms/step - loss: -0.0532 - R-dist-dist_loss: 0.0034 - T-dist-dist_loss: -0.0051 - rho-dist-dist_loss: -1.9229e-04 - beta-dist_loss: -0.0513   \n",
      "Epoch 2/8\n",
      "32/32 [==============================] - 0s 1ms/step - loss: -0.0506 - R-dist-dist_loss: 0.0031 - T-dist-dist_loss: -0.0053 - rho-dist-dist_loss: -7.1020e-04 - beta-dist_loss: -0.0477    \n",
      "Epoch 3/8\n",
      "32/32 [==============================] - 0s 1ms/step - loss: -0.0519 - R-dist-dist_loss: 0.0031 - T-dist-dist_loss: -0.0053 - rho-dist-dist_loss: -8.1635e-04 - beta-dist_loss: -0.0489\n",
      "Epoch 4/8\n",
      "32/32 [==============================] - 0s 1ms/step - loss: -0.0516 - R-dist-dist_loss: 0.0031 - T-dist-dist_loss: -0.0053 - rho-dist-dist_loss: -8.1712e-04 - beta-dist_loss: -0.0485    \n",
      "Epoch 5/8\n",
      "32/32 [==============================] - 0s 1ms/step - loss: -0.0524 - R-dist-dist_loss: 0.0031 - T-dist-dist_loss: -0.0054 - rho-dist-dist_loss: -8.3348e-04 - beta-dist_loss: -0.0493\n",
      "Epoch 6/8\n",
      "32/32 [==============================] - 0s 1ms/step - loss: -0.0545 - R-dist-dist_loss: 0.0031 - T-dist-dist_loss: -0.0054 - rho-dist-dist_loss: -8.0959e-04 - beta-dist_loss: -0.0514\n",
      "Epoch 7/8\n",
      "32/32 [==============================] - 0s 1ms/step - loss: -0.0527 - R-dist-dist_loss: 0.0030 - T-dist-dist_loss: -0.0054 - rho-dist-dist_loss: -7.7559e-04 - beta-dist_loss: -0.0495    \n",
      "Epoch 8/8\n",
      "32/32 [==============================] - 0s 1ms/step - loss: -0.0516 - R-dist-dist_loss: 0.0031 - T-dist-dist_loss: -0.0054 - rho-dist-dist_loss: -8.1303e-04 - beta-dist_loss: -0.0484\n",
      "Epoch 1/8\n",
      "32/32 [==============================] - 0s 594us/step - loss: 0.0050 - weight-entropy: 1.2968\n",
      "Epoch 2/8\n",
      "32/32 [==============================] - 0s 625us/step - loss: 0.0048 - weight-entropy: 1.3536\n",
      "Epoch 3/8\n",
      "32/32 [==============================] - 0s 625us/step - loss: 0.0052 - weight-entropy: 1.3223\n",
      "Epoch 4/8\n",
      "32/32 [==============================] - 0s 594us/step - loss: 0.0041 - weight-entropy: 1.3700\n",
      "Epoch 5/8\n",
      "32/32 [==============================] - 0s 625us/step - loss: 0.0053 - weight-entropy: 1.1908\n",
      "Epoch 6/8\n",
      "32/32 [==============================] - 0s 656us/step - loss: 0.0049 - weight-entropy: 1.2171\n",
      "Epoch 7/8\n",
      "32/32 [==============================] - 0s 625us/step - loss: 0.0042 - weight-entropy: 1.4347\n",
      "Epoch 8/8\n",
      "32/32 [==============================] - 0s 625us/step - loss: 0.0046 - weight-entropy: 1.3042\n",
      "Epoch 1/8\n",
      "32/32 [==============================] - 0s 1ms/step - loss: -0.0525 - R-dist-dist_loss: 0.0036 - T-dist-dist_loss: -0.0057 - rho-dist-dist_loss: -9.0293e-04 - beta-dist_loss: -0.0495    \n",
      "Epoch 2/8\n",
      "32/32 [==============================] - 0s 1ms/step - loss: -0.0565 - R-dist-dist_loss: 0.0034 - T-dist-dist_loss: -0.0057 - rho-dist-dist_loss: -9.8113e-04 - beta-dist_loss: -0.0532\n",
      "Epoch 3/8\n",
      "32/32 [==============================] - 0s 1ms/step - loss: -0.0565 - R-dist-dist_loss: 0.0034 - T-dist-dist_loss: -0.0057 - rho-dist-dist_loss: -9.9111e-04 - beta-dist_loss: -0.0532\n",
      "Epoch 4/8\n",
      "32/32 [==============================] - 0s 1ms/step - loss: -0.0563 - R-dist-dist_loss: 0.0034 - T-dist-dist_loss: -0.0057 - rho-dist-dist_loss: -9.9301e-04 - beta-dist_loss: -0.0530    \n",
      "Epoch 5/8\n",
      "32/32 [==============================] - 0s 1ms/step - loss: -0.0556 - R-dist-dist_loss: 0.0034 - T-dist-dist_loss: -0.0057 - rho-dist-dist_loss: -9.9808e-04 - beta-dist_loss: -0.0523\n",
      "Epoch 6/8\n",
      "32/32 [==============================] - 0s 1ms/step - loss: -0.0559 - R-dist-dist_loss: 0.0034 - T-dist-dist_loss: -0.0057 - rho-dist-dist_loss: -0.0010 - beta-dist_loss: -0.0525\n",
      "Epoch 7/8\n",
      "32/32 [==============================] - 0s 1ms/step - loss: -0.0559 - R-dist-dist_loss: 0.0034 - T-dist-dist_loss: -0.0057 - rho-dist-dist_loss: -9.9010e-04 - beta-dist_loss: -0.0526    \n",
      "Epoch 8/8\n",
      "32/32 [==============================] - 0s 1ms/step - loss: -0.0547 - R-dist-dist_loss: 0.0034 - T-dist-dist_loss: -0.0057 - rho-dist-dist_loss: -9.8183e-04 - beta-dist_loss: -0.0514\n",
      "Epoch 1/8\n",
      "32/32 [==============================] - 0s 594us/step - loss: 0.0041 - weight-entropy: 1.6871\n",
      "Epoch 2/8\n",
      "32/32 [==============================] - 0s 562us/step - loss: 0.0036 - weight-entropy: 1.7402\n",
      "Epoch 3/8\n",
      "32/32 [==============================] - 0s 594us/step - loss: 0.0041 - weight-entropy: 1.6891\n",
      "Epoch 4/8\n",
      "32/32 [==============================] - 0s 594us/step - loss: 0.0040 - weight-entropy: 1.6810\n",
      "Epoch 5/8\n",
      "32/32 [==============================] - 0s 562us/step - loss: 0.0041 - weight-entropy: 1.7244\n",
      "Epoch 6/8\n",
      "32/32 [==============================] - 0s 594us/step - loss: 0.0040 - weight-entropy: 1.7265\n",
      "Epoch 7/8\n",
      "32/32 [==============================] - 0s 562us/step - loss: 0.0043 - weight-entropy: 1.7119\n",
      "Epoch 8/8\n",
      "32/32 [==============================] - 0s 562us/step - loss: 0.0039 - weight-entropy: 1.7649\n",
      "Epoch 1/8\n",
      "32/32 [==============================] - 0s 1ms/step - loss: -0.0598 - R-dist-dist_loss: 0.0032 - T-dist-dist_loss: -0.0058 - rho-dist-dist_loss: -5.3050e-04 - beta-dist_loss: -0.0566\n",
      "Epoch 2/8\n",
      "32/32 [==============================] - 0s 1ms/step - loss: -0.0599 - R-dist-dist_loss: 0.0031 - T-dist-dist_loss: -0.0059 - rho-dist-dist_loss: -5.7926e-04 - beta-dist_loss: -0.0565\n",
      "Epoch 3/8\n",
      "32/32 [==============================] - 0s 1ms/step - loss: -0.0596 - R-dist-dist_loss: 0.0031 - T-dist-dist_loss: -0.0059 - rho-dist-dist_loss: -5.8306e-04 - beta-dist_loss: -0.0562\n",
      "Epoch 4/8\n",
      "32/32 [==============================] - 0s 1ms/step - loss: -0.0596 - R-dist-dist_loss: 0.0030 - T-dist-dist_loss: -0.0059 - rho-dist-dist_loss: -5.7150e-04 - beta-dist_loss: -0.0562\n",
      "Epoch 5/8\n",
      "32/32 [==============================] - 0s 1ms/step - loss: -0.0604 - R-dist-dist_loss: 0.0030 - T-dist-dist_loss: -0.0059 - rho-dist-dist_loss: -6.1269e-04 - beta-dist_loss: -0.0569\n",
      "Epoch 6/8\n",
      "32/32 [==============================] - 0s 1ms/step - loss: -0.0600 - R-dist-dist_loss: 0.0030 - T-dist-dist_loss: -0.0059 - rho-dist-dist_loss: -5.7873e-04 - beta-dist_loss: -0.0565\n",
      "Epoch 7/8\n",
      "32/32 [==============================] - 0s 1ms/step - loss: -0.0600 - R-dist-dist_loss: 0.0030 - T-dist-dist_loss: -0.0059 - rho-dist-dist_loss: -5.8984e-04 - beta-dist_loss: -0.0565\n",
      "Epoch 8/8\n"
     ]
    },
    {
     "name": "stdout",
     "output_type": "stream",
     "text": [
      "32/32 [==============================] - 0s 1ms/step - loss: -0.0598 - R-dist-dist_loss: 0.0030 - T-dist-dist_loss: -0.0059 - rho-dist-dist_loss: -5.9337e-04 - beta-dist_loss: -0.0563\n",
      "Epoch 1/8\n",
      "128/128 [==============================] - 0s 570us/step - loss: 0.0045 - weight-entropy: 1.4736\n",
      "Epoch 2/8\n",
      "128/128 [==============================] - 0s 570us/step - loss: 0.0046 - weight-entropy: 1.5215\n",
      "Epoch 3/8\n",
      "128/128 [==============================] - 0s 609us/step - loss: 0.0044 - weight-entropy: 1.5337\n",
      "Epoch 4/8\n",
      "128/128 [==============================] - 0s 641us/step - loss: 0.0044 - weight-entropy: 1.4728\n",
      "Epoch 5/8\n",
      "128/128 [==============================] - 0s 578us/step - loss: 0.0046 - weight-entropy: 1.4747\n",
      "Epoch 6/8\n",
      "128/128 [==============================] - 0s 562us/step - loss: 0.0045 - weight-entropy: 1.4750\n",
      "Epoch 7/8\n",
      "128/128 [==============================] - 0s 547us/step - loss: 0.0043 - weight-entropy: 1.5047\n",
      "Epoch 8/8\n",
      "128/128 [==============================] - 0s 555us/step - loss: 0.0044 - weight-entropy: 1.4575\n"
     ]
    }
   ],
   "source": [
    "maxent_hyper_model = maxentep.HyperMaxentModel([r1, r2], model, meta_model)\n",
    "maxent_hyper_model.compile(tf.keras.optimizers.Adam(learning_rate=1e-2), 'mean_squared_error')\n",
    "result = maxent_hyper_model.fit(param_batch_size, outter_epochs=64, batch_size=32, epochs=8)"
   ]
  },
  {
   "cell_type": "code",
   "execution_count": 39,
   "metadata": {},
   "outputs": [
    {
     "data": {
      "image/png": "[encoded data removed]",
      "text/plain": [
       "<Figure size 432x288 with 1 Axes>"
      ]
     },
     "metadata": {
      "needs_background": "light"
     },
     "output_type": "display_data"
    },
    {
     "data": {
      "image/png": "[encoded data removed]",
      "text/plain": [
       "<Figure size 432x288 with 1 Axes>"
      ]
     },
     "metadata": {
      "needs_background": "light"
     },
     "output_type": "display_data"
    },
    {
     "data": {
      "image/png": "[encoded data removed]",
      "text/plain": [
       "<Figure size 432x288 with 1 Axes>"
      ]
     },
     "metadata": {
      "needs_background": "light"
     },
     "output_type": "display_data"
    }
   ],
   "source": [
    "plt.plot(result.history['loss'])\n",
    "plt.title('loss')\n",
    "plt.show()\n",
    "\n",
    "plt.plot(result.history['weight-entropy'])\n",
    "plt.title('weight entropy')\n",
    "plt.show()\n",
    "\n",
    "plt.plot(result.history['prior-loss'])\n",
    "plt.title('neg log-likelihood')\n",
    "plt.show()"
   ]
  },
  {
   "cell_type": "markdown",
   "metadata": {},
   "source": [
    "## Compare Weights"
   ]
  },
  {
   "cell_type": "code",
   "execution_count": 40,
   "metadata": {},
   "outputs": [
    {
     "data": {
      "image/png": "[encoded data removed]",
      "text/plain": [
       "<Figure size 432x288 with 1 Axes>"
      ]
     },
     "metadata": {
      "needs_background": "light"
     },
     "output_type": "display_data"
    },
    {
     "data": {
      "image/png": "[encoded data removed]",
      "text/plain": [
       "<Figure size 432x288 with 1 Axes>"
      ]
     },
     "metadata": {
      "needs_background": "light"
     },
     "output_type": "display_data"
    }
   ],
   "source": [
    "plt.hist(x=maxent_hyper_model.traj_weights, bins=np.linspace(0,0.1,50), density=True)\n",
    "plt.xlim(0,0.1)\n",
    "plt.show()\n",
    "plt.hist(x=maxent_model.traj_weights, bins=np.linspace(0,0.1,50), density=True)\n",
    "plt.xlim(0,0.1)\n",
    "plt.show()"
   ]
  },
  {
   "cell_type": "code",
   "execution_count": 41,
   "metadata": {},
   "outputs": [
    {
     "data": {
      "image/png": "[encoded data removed]",
      "text/plain": [
       "<Figure size 432x288 with 1 Axes>"
      ]
     },
     "metadata": {
      "needs_background": "light"
     },
     "output_type": "display_data"
    },
    {
     "data": {
      "text/plain": [
       "Text(0.5, 1.0, 'Maxent Result with Hyperparameter Tuning - Patch 2')"
      ]
     },
     "execution_count": 41,
     "metadata": {},
     "output_type": "execute_result"
    },
    {
     "data": {
      "image/png": "[encoded data removed]",
      "text/plain": [
       "<Figure size 432x288 with 1 Axes>"
      ]
     },
     "metadata": {
      "needs_background": "light"
     },
     "output_type": "display_data"
    }
   ],
   "source": [
    "w = maxent_hyper_model.traj_weights\n",
    "trajs = maxent_hyper_model.trajs\n",
    "maxentep.traj_quantile(trajs[:,:,0,:], weights=w)\n",
    "plt.plot(25, r1.target, 'o', color='C2')\n",
    "plt.plot(50, r2.target, 'o', color='C2')\n",
    "plt.title('Maxent Result with Hyperparameter Tuning')\n",
    "plt.show()\n",
    "\n",
    "maxentep.traj_quantile(trajs[:,:,2,:], weights=w)\n",
    "plt.title('Maxent Result with Hyperparameter Tuning - Patch 2')"
   ]
  },
  {
   "cell_type": "markdown",
   "metadata": {},
   "source": [
    "## Compare Hyper-parameter values"
   ]
  },
  {
   "cell_type": "code",
   "execution_count": 42,
   "metadata": {},
   "outputs": [
    {
     "data": {
      "text/plain": [
       "<BarContainer object of 32 artists>"
      ]
     },
     "execution_count": 42,
     "metadata": {},
     "output_type": "execute_result"
    },
    {
     "data": {
      "image/png": "[encoded data removed]",
      "text/plain": [
       "<Figure size 432x288 with 1 Axes>"
      ]
     },
     "metadata": {
      "needs_background": "light"
     },
     "output_type": "display_data"
    }
   ],
   "source": [
    "ub = unbiased_model.get_layer('T-dist-hypers').w.numpy().flatten()\n",
    "b = model.get_layer('T-dist-hypers').w.numpy().flatten()\n",
    "plt.bar(np.arange(len(ub)) * 2 - 0.5, ub)\n",
    "plt.bar(np.arange(len(ub)) * 2 + 0.5, b)"
   ]
  },
  {
   "cell_type": "code",
   "execution_count": 43,
   "metadata": {},
   "outputs": [
    {
     "data": {
      "text/plain": [
       "<BarContainer object of 3 artists>"
      ]
     },
     "execution_count": 43,
     "metadata": {},
     "output_type": "execute_result"
    },
    {
     "data": {
      "image/png": "[encoded data removed]",
      "text/plain": [
       "<Figure size 432x288 with 1 Axes>"
      ]
     },
     "metadata": {
      "needs_background": "light"
     },
     "output_type": "display_data"
    }
   ],
   "source": [
    "ub = unbiased_model.get_layer('rho-dist-start-logit-hypers').w.numpy().flatten()\n",
    "b = model.get_layer('rho-dist-start-logit-hypers').w.numpy().flatten()\n",
    "plt.bar(np.arange(len(ub)) * 2 - 0.5, ub)\n",
    "plt.bar(np.arange(len(ub)) * 2 + 0.5, b)"
   ]
  },
  {
   "cell_type": "code",
   "execution_count": 44,
   "metadata": {},
   "outputs": [
    {
     "data": {
      "text/plain": [
       "<BarContainer object of 2 artists>"
      ]
     },
     "execution_count": 44,
     "metadata": {},
     "output_type": "execute_result"
    },
    {
     "data": {
      "image/png": "[encoded data removed]",
      "text/plain": [
       "<Figure size 432x288 with 1 Axes>"
      ]
     },
     "metadata": {
      "needs_background": "light"
     },
     "output_type": "display_data"
    }
   ],
   "source": [
    "ub = unbiased_model.get_layer('rho-dist-norm-hypers').trainable_variables[0].numpy().flatten()\n",
    "b = model.get_layer('rho-dist-norm-hypers').trainable_variables[0].numpy().flatten()\n",
    "plt.bar(np.arange(len(ub)) * 2 - 0.5, ub)\n",
    "plt.bar(np.arange(len(ub)) * 2 + 0.5, b)"
   ]
  },
  {
   "cell_type": "markdown",
   "metadata": {},
   "source": [
    "## Now compare with Directed regression"
   ]
  },
  {
   "cell_type": "code",
   "execution_count": 45,
   "metadata": {},
   "outputs": [],
   "source": [
    "infect = maxentep.ContactInfectionLayer(0.1, tmat.infectious_compartments)\n",
    "start = np.zeros((M, C))\n",
    "start[0,0] = 0.2\n",
    "reg_model = maxentep.TrainableMetaModel(start, R, tmat.value, infect, 100, lambda traj: (r1(traj)**2 + r2(traj)**2))"
   ]
  },
  {
   "cell_type": "code",
   "execution_count": 46,
   "metadata": {},
   "outputs": [
    {
     "name": "stdout",
     "output_type": "stream",
     "text": [
      "100/100 [==============================] - 3s 34ms/step - loss: 0.0280 - output_2_loss: 0.0280\n"
     ]
    }
   ],
   "source": [
    "reg_model.compile(optimizer=tf.keras.optimizers.Adam(1e-2))\n",
    "reg_model.fit(epochs=1, verbose=True)"
   ]
  },
  {
   "cell_type": "code",
   "execution_count": 47,
   "metadata": {},
   "outputs": [
    {
     "data": {
      "image/png": "[encoded data removed]",
      "text/plain": [
       "<Figure size 432x288 with 1 Axes>"
      ]
     },
     "metadata": {
      "needs_background": "light"
     },
     "output_type": "display_data"
    },
    {
     "data": {
      "image/png": "[encoded data removed]",
      "text/plain": [
       "<Figure size 432x288 with 1 Axes>"
      ]
     },
     "metadata": {
      "needs_background": "light"
     },
     "output_type": "display_data"
    }
   ],
   "source": [
    "traj = reg_model.get_traj()\n",
    "plt.plot(traj[0,:,0,:])\n",
    "plt.plot(25, r1.target, 'o', color='C2')\n",
    "plt.plot(50, r2.target, 'o', color='C2')\n",
    "plt.title('Direct Regression - Patch 1')\n",
    "plt.show()\n",
    "traj = reg_model.get_traj()\n",
    "plt.plot(traj[0,:,1,:])\n",
    "plt.title('Direct Regression - Patch 2')\n",
    "plt.show()"
   ]
  },
  {
   "cell_type": "code",
   "execution_count": 48,
   "metadata": {},
   "outputs": [
    {
     "name": "stdout",
     "output_type": "stream",
     "text": [
      "Model: \"trainable_meta_model\"\n",
      "_________________________________________________________________\n",
      "Layer (type)                 Output Shape              Param #   \n",
      "=================================================================\n",
      "trainable_input_layer_1 (Tra multiple                  9         \n",
      "_________________________________________________________________\n",
      "trainable_input_layer_2 (Tra multiple                  16        \n",
      "_________________________________________________________________\n",
      "trainable_input_layer_3 (Tra multiple                  12        \n",
      "_________________________________________________________________\n",
      "metapop_layer_1 (MetapopLaye multiple                  1         \n",
      "_________________________________________________________________\n",
      "traj (AddSusceptibleLayer)   multiple                  0         \n",
      "_________________________________________________________________\n",
      "lambda (Lambda)              multiple                  0         \n",
      "=================================================================\n",
      "Total params: 38\n",
      "Trainable params: 38\n",
      "Non-trainable params: 0\n",
      "_________________________________________________________________\n"
     ]
    }
   ],
   "source": [
    "reg_model.summary()"
   ]
  },
  {
   "cell_type": "code",
   "execution_count": 49,
   "metadata": {},
   "outputs": [
    {
     "data": {
      "text/plain": [
       "[<tf.Variable 'value:0' shape=(3, 3) dtype=float32, numpy=\n",
       " array([[0.2514207 , 0.08676298, 0.66181636],\n",
       "        [0.3747877 , 0.3518197 , 0.2733926 ],\n",
       "        [0.36558816, 0.29429075, 0.34012112]], dtype=float32)>]"
      ]
     },
     "execution_count": 49,
     "metadata": {},
     "output_type": "execute_result"
    }
   ],
   "source": [
    "reg_model.layers[0].trainable_weights"
   ]
  },
  {
   "cell_type": "code",
   "execution_count": 50,
   "metadata": {},
   "outputs": [
    {
     "data": {
      "text/plain": [
       "[<tf.Variable 'value:0' shape=(4, 4) dtype=float32, numpy=\n",
       " array([[7.3377281e-01, 2.6622716e-01, 0.0000000e+00, 0.0000000e+00],\n",
       "        [0.0000000e+00, 9.3431878e-01, 6.5681204e-02, 0.0000000e+00],\n",
       "        [0.0000000e+00, 0.0000000e+00, 9.9963325e-01, 3.6670169e-04],\n",
       "        [0.0000000e+00, 0.0000000e+00, 0.0000000e+00, 1.0000000e+00]],\n",
       "       dtype=float32)>]"
      ]
     },
     "execution_count": 50,
     "metadata": {},
     "output_type": "execute_result"
    }
   ],
   "source": [
    "reg_model.layers[1].trainable_weights"
   ]
  },
  {
   "cell_type": "code",
   "execution_count": 51,
   "metadata": {},
   "outputs": [
    {
     "data": {
      "text/plain": [
       "[<tf.Variable 'value:0' shape=(3, 4) dtype=float32, numpy=\n",
       " array([[0.00014805, 0.00019659, 0.00056642, 0.00056642],\n",
       "        [0.02005312, 0.02005311, 0.02005311, 0.02005312],\n",
       "        [0.        , 0.        , 0.        , 0.        ]], dtype=float32)>]"
      ]
     },
     "execution_count": 51,
     "metadata": {},
     "output_type": "execute_result"
    }
   ],
   "source": [
    "reg_model.layers[2].trainable_weights"
   ]
  },
  {
   "cell_type": "code",
   "execution_count": 52,
   "metadata": {},
   "outputs": [
    {
     "data": {
      "text/plain": [
       "<tf.Tensor: shape=(3, 4), dtype=float32, numpy=\n",
       "array([[0.00014805, 0.00019659, 0.00056642, 0.00056642],\n",
       "       [0.02005312, 0.02005311, 0.02005311, 0.02005312],\n",
       "       [0.        , 0.        , 0.        , 0.        ]], dtype=float32)>"
      ]
     },
     "execution_count": 52,
     "metadata": {},
     "output_type": "execute_result"
    }
   ],
   "source": [
    "reg_model.layers[2].w.constraint(reg_model.layers[2].w)"
   ]
  },
  {
   "cell_type": "code",
   "execution_count": 53,
   "metadata": {},
   "outputs": [
    {
     "data": {
      "text/plain": [
       "<bound method Constraint.get_config of <maxentep.metapop_model.MinMaxConstraint object at 0x000001870746B108>>"
      ]
     },
     "execution_count": 53,
     "metadata": {},
     "output_type": "execute_result"
    }
   ],
   "source": [
    "reg_model.layers[2].w.constraint.get_config"
   ]
  },
  {
   "cell_type": "code",
   "execution_count": 54,
   "metadata": {},
   "outputs": [
    {
     "data": {
      "text/plain": [
       "<tf.Tensor: shape=(3, 4), dtype=float32, numpy=\n",
       "array([[0.00014805, 0.00019659, 0.00056642, 0.00056642],\n",
       "       [0.02005312, 0.02005311, 0.02005311, 0.02005312],\n",
       "       [0.        , 0.        , 0.        , 0.        ]], dtype=float32)>"
      ]
     },
     "execution_count": 54,
     "metadata": {},
     "output_type": "execute_result"
    }
   ],
   "source": [
    "reg_model.layers[2].w.constraint(reg_model.layers[2].w)"
   ]
  },
  {
   "cell_type": "code",
   "execution_count": null,
   "metadata": {},
   "outputs": [],
   "source": []
  }
 ],
 "metadata": {
  "kernelspec": {
   "display_name": "Python 3",
   "language": "python",
   "name": "python3"
  },
  "language_info": {
   "codemirror_mode": {
    "name": "ipython",
    "version": 3
   },
   "file_extension": ".py",
   "mimetype": "text/x-python",
   "name": "python",
   "nbconvert_exporter": "python",
   "pygments_lexer": "ipython3",
   "version": "3.7.8"
  }
 },
 "nbformat": 4,
 "nbformat_minor": 4
}
