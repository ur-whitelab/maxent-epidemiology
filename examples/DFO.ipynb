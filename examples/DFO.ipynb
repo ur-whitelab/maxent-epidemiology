{
 "cells": [
  {
   "cell_type": "markdown",
   "metadata": {},
   "source": [
    "## Set-up Joint Distribution"
   ]
  },
  {
   "cell_type": "code",
   "execution_count": 5,
   "metadata": {},
   "outputs": [],
   "source": [
    "import tensorflow_probability as tfp\n",
    "tfd = tfp.distributions\n",
    "import tensorflow as tf\n",
    "# disabling gpu for now\n",
    "import os\n",
    "os.environ[\"CUDA_VISIBLE_DEVICES\"] = \"-1\""
   ]
  },
  {
   "cell_type": "code",
   "execution_count": 15,
   "metadata": {},
   "outputs": [
    {
     "ename": "TypeError",
     "evalue": "unsupported operand type(s) for +: 'Normal' and 'Normal'",
     "output_type": "error",
     "traceback": [
      "\u001b[1;31m---------------------------------------------------------------------------\u001b[0m",
      "\u001b[1;31mTypeError\u001b[0m                                 Traceback (most recent call last)",
      "\u001b[1;32m<ipython-input-15-7679413c545f>\u001b[0m in \u001b[0;36m<module>\u001b[1;34m\u001b[0m\n\u001b[1;32m----> 1\u001b[1;33m \u001b[0mn\u001b[0m \u001b[1;33m=\u001b[0m \u001b[0mtfp\u001b[0m\u001b[1;33m.\u001b[0m\u001b[0mdistributions\u001b[0m\u001b[1;33m.\u001b[0m\u001b[0mSample\u001b[0m\u001b[1;33m(\u001b[0m\u001b[0mtfp\u001b[0m\u001b[1;33m.\u001b[0m\u001b[0mdistributions\u001b[0m\u001b[1;33m.\u001b[0m\u001b[0mNormal\u001b[0m\u001b[1;33m(\u001b[0m\u001b[1;36m1\u001b[0m\u001b[1;33m,\u001b[0m \u001b[1;36m1\u001b[0m\u001b[1;33m)\u001b[0m \u001b[1;33m+\u001b[0m \u001b[0mtfp\u001b[0m\u001b[1;33m.\u001b[0m\u001b[0mdistributions\u001b[0m\u001b[1;33m.\u001b[0m\u001b[0mNormal\u001b[0m\u001b[1;33m(\u001b[0m\u001b[1;36m1\u001b[0m\u001b[1;33m,\u001b[0m \u001b[1;36m1\u001b[0m\u001b[1;33m)\u001b[0m\u001b[1;33m,\u001b[0m \u001b[1;33m[\u001b[0m\u001b[1;36m1\u001b[0m\u001b[1;33m,\u001b[0m\u001b[1;36m10\u001b[0m\u001b[1;33m]\u001b[0m\u001b[1;33m)\u001b[0m\u001b[1;33m\u001b[0m\u001b[1;33m\u001b[0m\u001b[0m\n\u001b[0m",
      "\u001b[1;31mTypeError\u001b[0m: unsupported operand type(s) for +: 'Normal' and 'Normal'"
     ]
    }
   ],
   "source": [
    "n = tfp.distributions.Sample(tfp.distributions.Normal(1, 1) + tfp.distributions.Normal(1, 1), [1,10])"
   ]
  },
  {
   "cell_type": "code",
   "execution_count": null,
   "metadata": {},
   "outputs": [],
   "source": [
    "L = 10\n",
    "seq = [tfd.Independent(tfd.Sample(tfd.TruncatedNormal(loc=0.2, scale=0.1, low=0.01, high=1.0), 10))]\n",
    "for i in range(L - 1):\n",
    "    seq.append(tfd.Sample(tfd.TruncatedNormal(loc=0.2, scale=0.1, low=0.01, high=1.0))\n",
    "column = tfd.JointDistributionSequential([\n",
    "        ,\n",
    "        tfd.Uniform(0.01, 0.25)])"
   ]
  },
  {
   "cell_type": "code",
   "execution_count": 13,
   "metadata": {},
   "outputs": [
    {
     "data": {
      "text/plain": [
       "<tf.Tensor: shape=(5, 5), dtype=float32, numpy=\n",
       "array([[0.28826424, 0.55218494, 0.79044604, 0.8499169 , 0.9590945 ],\n",
       "       [0.2804437 , 0.48286095, 0.6556516 , 1.11135   , 1.3382541 ],\n",
       "       [0.22602803, 0.5312986 , 0.72557545, 0.79157126, 0.9535962 ],\n",
       "       [0.22573346, 0.60500956, 0.80750585, 0.89141303, 1.2722808 ],\n",
       "       [0.11767041, 0.30089685, 0.51801586, 0.74979913, 1.04429   ]],\n",
       "      dtype=float32)>"
      ]
     },
     "execution_count": 13,
     "metadata": {},
     "output_type": "execute_result"
    }
   ],
   "source": [
    "p = tfd.Sample(tfd.TruncatedNormal(loc=0.2, scale=0.1, low=0.01, high=1.0), [5,5])\n",
    "tp = tfd.TransformedDistribution(p, tfp.bijectors.Cumsum(axis=-1))\n",
    "tp.sample()"
   ]
  },
  {
   "cell_type": "code",
   "execution_count": 16,
   "metadata": {},
   "outputs": [],
   "source": [
    "joint = tfd.JointDistributionSequential([\n",
    "        tfd.Independent(tfd.Sample(tfd.TruncatedNormal(loc=0.2, scale=0.1, low=0.01, high=1.0), [5,5])),\n",
    "        tfd.Uniform(0.01, 0.25)])"
   ]
  },
  {
   "cell_type": "code",
   "execution_count": 17,
   "metadata": {},
   "outputs": [
    {
     "data": {
      "text/plain": [
       "[<tf.Tensor: shape=(5, 5), dtype=float32, numpy=\n",
       " array([[0.18558306, 0.04564987, 0.32678637, 0.47217745, 0.16273353],\n",
       "        [0.29458594, 0.2068963 , 0.270828  , 0.03753713, 0.13953906],\n",
       "        [0.23399927, 0.08555575, 0.12613174, 0.24499345, 0.08525956],\n",
       "        [0.23260525, 0.27436814, 0.12040873, 0.31305236, 0.24820961],\n",
       "        [0.14738834, 0.14449677, 0.37170205, 0.15917276, 0.09838676]],\n",
       "       dtype=float32)>,\n",
       " <tf.Tensor: shape=(), dtype=float32, numpy=0.24376105>]"
      ]
     },
     "execution_count": 17,
     "metadata": {},
     "output_type": "execute_result"
    }
   ],
   "source": [
    "joint.sample()"
   ]
  },
  {
   "cell_type": "code",
   "execution_count": null,
   "metadata": {},
   "outputs": [],
   "source": []
  }
 ],
 "metadata": {
  "kernelspec": {
   "display_name": "Python 3",
   "language": "python",
   "name": "python3"
  },
  "language_info": {
   "codemirror_mode": {
    "name": "ipython",
    "version": 3
   },
   "file_extension": ".py",
   "mimetype": "text/x-python",
   "name": "python",
   "nbconvert_exporter": "python",
   "pygments_lexer": "ipython3",
   "version": "3.7.8"
  }
 },
 "nbformat": 4,
 "nbformat_minor": 4
}
