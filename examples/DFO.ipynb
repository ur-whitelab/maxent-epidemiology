{
 "cells": [
  {
   "cell_type": "markdown",
   "metadata": {},
   "source": [
    "## Set-up Joint Distribution"
   ]
  },
  {
   "cell_type": "code",
   "execution_count": 1,
   "metadata": {},
   "outputs": [],
   "source": [
    "import tensorflow_probability as tfp\n",
    "tfd = tfp.distributions\n",
    "import matplotlib.pyplot as plt\n",
    "import tensorflow as tf\n",
    "import numpy as np\n",
    "import maxentep\n",
    "# disabling gpu for now\n",
    "import os\n",
    "os.environ[\"CUDA_VISIBLE_DEVICES\"] = \"-1\""
   ]
  },
  {
   "cell_type": "code",
   "execution_count": 2,
   "metadata": {},
   "outputs": [
    {
     "data": {
      "text/plain": [
       "(array([[0.13614885, 0.86385115, 0.        ],\n",
       "        [0.56534268, 0.43465732, 0.        ],\n",
       "        [0.6375896 , 0.27006964, 0.09234075]]),\n",
       " array([1., 1., 1.]))"
      ]
     },
     "execution_count": 2,
     "metadata": {},
     "output_type": "execute_result"
    }
   ],
   "source": [
    "# use scatter (bool mask?) to set\n",
    "# what about normalization?\n",
    "M = 3\n",
    "R = np.abs(np.random.normal(size=(M,M), loc=1.25))\n",
    "# make some elements zero\n",
    "R[0,2] = 0\n",
    "R[1,2] = 0\n",
    "R = R / np.sum(R, axis=1).reshape(M,1)\n",
    "R, np.sum(R, axis=1)"
   ]
  },
  {
   "cell_type": "code",
   "execution_count": 3,
   "metadata": {},
   "outputs": [
    {
     "data": {
      "text/plain": [
       "array([[0.62719929, 0.37280071, 0.        , 0.        ],\n",
       "       [0.        , 0.51438227, 0.48561773, 0.        ],\n",
       "       [0.        , 0.        , 0.9187771 , 0.0812229 ],\n",
       "       [0.        , 0.        , 0.        , 1.        ]])"
      ]
     },
     "execution_count": 3,
     "metadata": {},
     "output_type": "execute_result"
    }
   ],
   "source": [
    "# compartment parameters\n",
    "compartments = ['E', 'A', 'I', 'R']\n",
    "infections_compartments = [1,2]\n",
    "C = len(compartments)\n",
    "tmat = maxentep.TransitionMatrix(1.0, compartments)\n",
    "tmat.add_norm_dist('E', 'A', 5, 2)\n",
    "tmat.add_norm_dist('A', 'I', 3, 2)\n",
    "tmat.add_norm_dist('I', 'R', 14, 4)\n",
    "T = tmat.sample(1)[0]\n",
    "np.sum(T, axis=1)\n",
    "T"
   ]
  },
  {
   "cell_type": "code",
   "execution_count": 4,
   "metadata": {},
   "outputs": [],
   "source": [
    "start = np.zeros((M, C))\n",
    "start[0, 1] = 0.1"
   ]
  },
  {
   "cell_type": "code",
   "execution_count": 5,
   "metadata": {},
   "outputs": [],
   "source": [
    "infect = maxentep.contact_infection_func(0.1,infections_compartments)"
   ]
  },
  {
   "cell_type": "code",
   "execution_count": 6,
   "metadata": {},
   "outputs": [],
   "source": [
    "i = tf.keras.layers.Input((1,))\n",
    "R_dist = maxentep.normal_mat_layer(i, R, name='R')\n",
    "T_dist =  maxentep.dirichlet_mat_layer(i, T, name='T')\n",
    "start_dist = maxentep.normal_mat_layer(i, start, clip_high=0.5, name='rho')"
   ]
  },
  {
   "cell_type": "code",
   "execution_count": 7,
   "metadata": {},
   "outputs": [],
   "source": [
    "model = tf.keras.Model(inputs=i, outputs=[R_dist, T_dist, start_dist])"
   ]
  },
  {
   "cell_type": "code",
   "execution_count": 8,
   "metadata": {},
   "outputs": [
    {
     "data": {
      "text/plain": [
       "[<tfp.distributions.TruncatedNormal 'model_R_dist_TruncatedNormal' batch_shape=[3, 3] event_shape=[] dtype=float32>,\n",
       " <tfp.distributions.Dirichlet 'model_T_dist_Dirichlet' batch_shape=[4] event_shape=[4] dtype=float32>,\n",
       " <tfp.distributions.TruncatedNormal 'model_rho_dist_TruncatedNormal' batch_shape=[3, 4] event_shape=[] dtype=float32>]"
      ]
     },
     "execution_count": 8,
     "metadata": {},
     "output_type": "execute_result"
    }
   ],
   "source": [
    "joint = model(tf.constant(2 * [0.]))\n",
    "joint"
   ]
  },
  {
   "cell_type": "code",
   "execution_count": 54,
   "metadata": {},
   "outputs": [
    {
     "name": "stdout",
     "output_type": "stream",
     "text": [
      "tfp.distributions.Dirichlet(\"model_T_dist_Dirichlet\", batch_shape=[4], event_shape=[4], dtype=float32)\n",
      "tf.Tensor(\n",
      "[[[8.6452013e-01 1.3547990e-01 1.0913425e-39 1.0913425e-39]\n",
      "  [1.2982105e-39 7.5682509e-01 2.4317490e-01 1.2982105e-39]\n",
      "  [8.9022950e-40 8.9022950e-40 7.5088096e-01 2.4911901e-01]\n",
      "  [8.5970081e-40 8.5970081e-40 8.5970081e-40 1.0000000e+00]]\n",
      "\n",
      " [[6.1483002e-01 3.8516995e-01 1.1266159e-39 1.1266159e-39]\n",
      "  [7.0282825e-40 3.1091654e-01 6.8908346e-01 7.0282825e-40]\n",
      "  [9.3134640e-40 9.3134640e-40 8.7816042e-01 1.2183956e-01]\n",
      "  [9.1089165e-40 9.1089165e-40 9.1089165e-40 1.0000000e+00]]\n",
      "\n",
      " [[6.4645815e-01 3.5354185e-01 1.0044662e-39 1.0044662e-39]\n",
      "  [1.6010073e-39 2.7170673e-01 7.2829324e-01 1.6010073e-39]\n",
      "  [1.0813078e-39 1.0813078e-39 9.8302770e-01 1.6972300e-02]\n",
      "  [1.5873012e-39 1.5873012e-39 1.5873012e-39 1.0000000e+00]]\n",
      "\n",
      " [[6.8209678e-01 3.1790322e-01 1.1179966e-39 1.1179966e-39]\n",
      "  [3.0761262e-39 5.8225292e-01 4.1774711e-01 3.0761262e-39]\n",
      "  [8.1327019e-40 8.1327019e-40 9.2845798e-01 7.1542032e-02]\n",
      "  [1.2786162e-39 1.2786162e-39 1.2786162e-39 1.0000000e+00]]\n",
      "\n",
      " [[7.6671600e-01 2.3328395e-01 1.6497080e-39 1.6497080e-39]\n",
      "  [8.0082806e-40 3.4373617e-01 6.5626389e-01 8.0082806e-40]\n",
      "  [9.0279775e-40 9.0279775e-40 9.6098697e-01 3.9013028e-02]\n",
      "  [9.4390203e-40 9.4390203e-40 9.4390203e-40 1.0000000e+00]]\n",
      "\n",
      " [[8.5233861e-01 1.4766142e-01 8.6727763e-40 8.6727763e-40]\n",
      "  [1.4939579e-39 6.9035894e-01 3.0964106e-01 1.4939579e-39]\n",
      "  [9.1046285e-40 9.1046285e-40 8.4444183e-01 1.5555817e-01]\n",
      "  [2.8190552e-39 2.8190552e-39 2.8190552e-39 1.0000000e+00]]\n",
      "\n",
      " [[7.1522123e-01 2.8477880e-01 1.3925375e-39 1.3925375e-39]\n",
      "  [1.4003736e-39 5.3817856e-01 4.6182150e-01 1.4003736e-39]\n",
      "  [1.3186975e-39 1.3186975e-39 8.7484872e-01 1.2515123e-01]\n",
      "  [1.1679360e-39 1.1679360e-39 1.1679360e-39 1.0000000e+00]]\n",
      "\n",
      " [[6.7219704e-01 3.2780290e-01 9.5846573e-40 9.5846573e-40]\n",
      "  [9.6286440e-40 3.9413908e-01 6.0586095e-01 9.6286440e-40]\n",
      "  [1.2027751e-39 1.2027751e-39 9.9279481e-01 7.2052013e-03]\n",
      "  [1.2661572e-39 1.2661572e-39 1.2661572e-39 1.0000000e+00]]\n",
      "\n",
      " [[4.0623999e-01 5.9376001e-01 7.6589929e-40 7.6589929e-40]\n",
      "  [1.3444646e-39 4.8036122e-01 5.1963878e-01 1.3444646e-39]\n",
      "  [8.8176145e-40 8.8176145e-40 9.5876217e-01 4.1237853e-02]\n",
      "  [1.2554457e-39 1.2554457e-39 1.2554457e-39 1.0000000e+00]]\n",
      "\n",
      " [[7.8018045e-01 2.1981953e-01 1.7625308e-39 1.7625308e-39]\n",
      "  [8.9845792e-40 7.0938718e-01 2.9061282e-01 8.9845792e-40]\n",
      "  [8.4668695e-40 8.4668695e-40 7.0294690e-01 2.9705313e-01]\n",
      "  [8.3344608e-40 8.3344608e-40 8.3344608e-40 1.0000000e+00]]], shape=(10, 4, 4), dtype=float32) tf.Tensor(\n",
      "[[1.         1.         1.         1.        ]\n",
      " [1.         1.         1.         1.        ]\n",
      " [1.         1.         1.         1.        ]\n",
      " [1.         1.         1.         1.        ]\n",
      " [0.99999994 1.         1.         1.        ]\n",
      " [1.         1.         1.         1.        ]\n",
      " [1.         1.         0.99999994 1.        ]\n",
      " [0.99999994 1.         1.         1.        ]\n",
      " [1.         1.         1.         1.        ]\n",
      " [1.         1.         1.         1.        ]], shape=(10, 4), dtype=float32)\n",
      "tf.Tensor(\n",
      "[[130.31616 130.28802 130.02188 195.68097]\n",
      " [131.36972 130.61816 131.43823 195.68097]\n",
      " [131.40042 130.27298 132.732   195.68097]\n",
      " [131.39348 131.28796 131.99423 195.68097]\n",
      " [131.16571 130.84583 132.39005 195.68097]\n",
      " [130.47623 130.8389  131.07178 195.68097]\n",
      " [131.34329 131.34854 131.40225 195.68097]\n",
      " [131.40005 131.10464 132.97383 195.68097]\n",
      " [130.36565 131.33246 132.36066 195.68097]\n",
      " [131.0953  130.707   129.44872 195.68097]], shape=(10, 4), dtype=float32)\n",
      "tf.Tensor(\n",
      "[[[-1.9327713  -0.71075875 23.044071  ]\n",
      "  [-0.6481309  -0.5760921  23.343796  ]\n",
      "  [-0.77702504 -1.4264412  -0.33407938]]\n",
      "\n",
      " [[-0.42397308 -1.2357571  23.106842  ]\n",
      "  [-0.6138997  -0.5292211  23.378008  ]\n",
      "  [-0.79665107 -0.4348849  -1.2815332 ]]\n",
      "\n",
      " [[-2.1630502  -1.1594859  23.01459   ]\n",
      "  [-2.4766724  -1.732641   23.309658  ]\n",
      "  [-0.6220226  -4.6150904  -0.62961787]]\n",
      "\n",
      " [[-1.7533778  -0.95166117 23.378202  ]\n",
      "  [-0.6095616  -1.1629846  23.376923  ]\n",
      "  [-2.0755935  -0.6491104  -1.032337  ]]\n",
      "\n",
      " [[-0.91765666 -0.70758474 23.290276  ]\n",
      "  [-0.6934337  -1.677871   22.718912  ]\n",
      "  [-1.2539253  -0.42121172 -0.3560856 ]]\n",
      "\n",
      " [[-0.55675626 -0.7048008  23.304398  ]\n",
      "  [-0.5893079  -0.6011949  23.224651  ]\n",
      "  [-0.91205066 -0.42508644 -1.0637574 ]]\n",
      "\n",
      " [[-0.3297143  -0.7085824  23.169933  ]\n",
      "  [-0.6838768  -0.52227306 22.90502   ]\n",
      "  [-1.0260913  -0.42393202 -0.30469465]]\n",
      "\n",
      " [[-0.33208722 -0.7815638  22.072813  ]\n",
      "  [-3.5651505  -0.6739977  23.365017  ]\n",
      "  [-0.6180191  -0.45506376 -0.6344159 ]]\n",
      "\n",
      " [[-0.8034917  -0.7035162  22.911339  ]\n",
      "  [-0.9516677  -1.4546306  21.97748   ]\n",
      "  [-1.2689631  -0.5564409  -1.0182288 ]]\n",
      "\n",
      " [[-0.33194238 -1.2851394  23.372383  ]\n",
      "  [-2.7765567  -0.5236761  22.61401   ]\n",
      "  [-0.7893757  -0.92142016 -0.43679875]]], shape=(10, 3, 3), dtype=float32)\n"
     ]
    }
   ],
   "source": [
    "y = [j.sample(10) for j in joint]\n",
    "print(joint[1])\n",
    "print(y[1], tf.reduce_sum(y[1], axis=2))\n",
    "print(joint[1].log_prob(y[1]))\n",
    "print(joint[0].log_prob(y[0]))"
   ]
  },
  {
   "cell_type": "code",
   "execution_count": 55,
   "metadata": {},
   "outputs": [],
   "source": [
    "negloglik = lambda y, rv_y: -rv_y.log_prob(tf.clip_by_value(y, np.finfo(np.float32).tiny, np.finfo(np.float32).max))\n",
    "negloglikd = lambda y, rv_y: (tf.print(y, rv_y, rv_y.log_prob(y)), -tf.reduce_sum(rv_y.log_prob(y)))[1]\n",
    "model.compile(tf.optimizers.Adam(1e-10), loss=[negloglik, negloglik, negloglik])"
   ]
  },
  {
   "cell_type": "code",
   "execution_count": 56,
   "metadata": {},
   "outputs": [
    {
     "data": {
      "text/plain": [
       "<tf.Variable 'value:0' shape=(4, 4) dtype=float32, numpy=\n",
       "array([[0.63320214, 0.43034753, 0.        , 0.        ],\n",
       "       [0.        , 0.4420422 , 0.5881161 , 0.        ],\n",
       "       [0.        , 0.        , 0.92711926, 0.17774531],\n",
       "       [0.        , 0.        , 0.        , 1.        ]], dtype=float32)>"
      ]
     },
     "execution_count": 56,
     "metadata": {},
     "output_type": "execute_result"
    }
   ],
   "source": [
    "l = model.get_layer('T-hypers')\n",
    "l.w"
   ]
  },
  {
   "cell_type": "code",
   "execution_count": 57,
   "metadata": {},
   "outputs": [
    {
     "name": "stdout",
     "output_type": "stream",
     "text": [
      "Epoch 1/5\n",
      "1/1 [==============================] - 0s 1000us/step - loss: -176.0694 - R-dist_loss: -4.3429 - T-dist_loss: -147.1837 - rho-dist_loss: -24.5428\n",
      "Epoch 2/5\n",
      "1/1 [==============================] - 0s 1ms/step - loss: -176.0694 - R-dist_loss: -4.3429 - T-dist_loss: -147.1837 - rho-dist_loss: -24.5428\n",
      "Epoch 3/5\n",
      "1/1 [==============================] - 0s 999us/step - loss: -176.0694 - R-dist_loss: -4.3429 - T-dist_loss: -147.1837 - rho-dist_loss: -24.5428\n",
      "Epoch 4/5\n",
      "1/1 [==============================] - 0s 2ms/step - loss: -176.0694 - R-dist_loss: -4.3429 - T-dist_loss: -147.1837 - rho-dist_loss: -24.5428\n",
      "Epoch 5/5\n",
      "1/1 [==============================] - 0s 2ms/step - loss: -176.0694 - R-dist_loss: -4.3429 - T-dist_loss: -147.1837 - rho-dist_loss: -24.5428\n"
     ]
    },
    {
     "data": {
      "text/plain": [
       "<tensorflow.python.keras.callbacks.History at 0x21407bee2c8>"
      ]
     },
     "execution_count": 57,
     "metadata": {},
     "output_type": "execute_result"
    }
   ],
   "source": [
    "model.fit(tf.constant(10 * [0.]), y, epochs=5)"
   ]
  },
  {
   "cell_type": "code",
   "execution_count": 58,
   "metadata": {},
   "outputs": [
    {
     "name": "stdout",
     "output_type": "stream",
     "text": [
      "Model: \"model\"\n",
      "__________________________________________________________________________________________________\n",
      "Layer (type)                    Output Shape         Param #     Connected to                     \n",
      "==================================================================================================\n",
      "input_1 (InputLayer)            [(None, 1)]          0                                            \n",
      "__________________________________________________________________________________________________\n",
      "R-hypers (TrainableInputLayer)  (1, 2, 3, 3)         18          input_1[0][0]                    \n",
      "__________________________________________________________________________________________________\n",
      "T-hypers (TrainableInputLayer)  (1, 4, 4)            16          input_1[0][0]                    \n",
      "__________________________________________________________________________________________________\n",
      "rho-hypers (TrainableInputLayer (1, 2, 3, 4)         24          input_1[0][0]                    \n",
      "__________________________________________________________________________________________________\n",
      "R-jitter (Lambda)               (1, 2, 3, 3)         0           R-hypers[0][0]                   \n",
      "__________________________________________________________________________________________________\n",
      "T-jitter (Lambda)               (1, 4, 4)            0           T-hypers[0][0]                   \n",
      "__________________________________________________________________________________________________\n",
      "rho-jitter (Lambda)             (1, 2, 3, 4)         0           rho-hypers[0][0]                 \n",
      "__________________________________________________________________________________________________\n",
      "R-dist (DistributionLambda)     ((3, 3), (3, 3))     0           R-jitter[0][0]                   \n",
      "__________________________________________________________________________________________________\n",
      "T-dist (DistributionLambda)     ((4, 4), (4, 4))     0           T-jitter[0][0]                   \n",
      "__________________________________________________________________________________________________\n",
      "rho-dist (DistributionLambda)   ((3, 4), (3, 4))     0           rho-jitter[0][0]                 \n",
      "==================================================================================================\n",
      "Total params: 58\n",
      "Trainable params: 58\n",
      "Non-trainable params: 0\n",
      "__________________________________________________________________________________________________\n"
     ]
    }
   ],
   "source": [
    "model.summary()"
   ]
  },
  {
   "cell_type": "code",
   "execution_count": 59,
   "metadata": {},
   "outputs": [
    {
     "data": {
      "text/plain": [
       "<tf.Variable 'value:0' shape=(4, 4) dtype=float32, numpy=\n",
       "array([[0.63320214, 0.43034753, 0.        , 0.        ],\n",
       "       [0.        , 0.4420422 , 0.5881161 , 0.        ],\n",
       "       [0.        , 0.        , 0.92711926, 0.17774531],\n",
       "       [0.        , 0.        , 0.        , 1.        ]], dtype=float32)>"
      ]
     },
     "execution_count": 59,
     "metadata": {},
     "output_type": "execute_result"
    }
   ],
   "source": [
    "l = model.get_layer('T-hypers')\n",
    "l.w"
   ]
  },
  {
   "cell_type": "code",
   "execution_count": 14,
   "metadata": {},
   "outputs": [],
   "source": [
    "out = model(tf.constant([0.]))"
   ]
  },
  {
   "cell_type": "code",
   "execution_count": 15,
   "metadata": {},
   "outputs": [],
   "source": [
    "x c= out[1].sample()"
   ]
  },
  {
   "cell_type": "code",
   "execution_count": 16,
   "metadata": {},
   "outputs": [
    {
     "name": "stdout",
     "output_type": "stream",
     "text": [
      "[-131.116516 -131.354095 -132.689392 -195.680969]\r\n"
     ]
    },
    {
     "data": {
      "text/plain": [
       "<tf.Tensor: shape=(), dtype=float32, numpy=-590.84094>"
      ]
     },
     "execution_count": 16,
     "metadata": {},
     "output_type": "execute_result"
    }
   ],
   "source": [
    "negloglik(x, out[1])"
   ]
  },
  {
   "cell_type": "code",
   "execution_count": null,
   "metadata": {},
   "outputs": [],
   "source": []
  }
 ],
 "metadata": {
  "kernelspec": {
   "display_name": "Python 3",
   "language": "python",
   "name": "python3"
  },
  "language_info": {
   "codemirror_mode": {
    "name": "ipython",
    "version": 3
   },
   "file_extension": ".py",
   "mimetype": "text/x-python",
   "name": "python",
   "nbconvert_exporter": "python",
   "pygments_lexer": "ipython3",
   "version": "3.7.8"
  }
 },
 "nbformat": 4,
 "nbformat_minor": 4
}
